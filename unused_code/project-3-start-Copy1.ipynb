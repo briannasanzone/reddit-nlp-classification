{
 "cells": [
  {
   "cell_type": "code",
   "execution_count": 26,
   "id": "b5c7ea25-528f-4cdb-bb50-8fcff69f9bc9",
   "metadata": {},
   "outputs": [],
   "source": [
    "import requests\n",
    "import pandas as pd\n",
    "import time\n",
    "import datetime as dt"
   ]
  },
  {
   "cell_type": "code",
   "execution_count": 27,
   "id": "d15abf9b-993c-4489-b450-e869d7187776",
   "metadata": {},
   "outputs": [],
   "source": [
    "# go to pushshift/api(github) #link on slack"
   ]
  },
  {
   "cell_type": "code",
   "execution_count": 28,
   "id": "3ae386eb-7561-4ff5-9929-be7b89557bc6",
   "metadata": {},
   "outputs": [],
   "source": [
    "# search for comments for post titles"
   ]
  },
  {
   "cell_type": "code",
   "execution_count": 48,
   "id": "b69b4515-ef61-4275-9ac8-75988608a611",
   "metadata": {},
   "outputs": [
    {
     "ename": "AssertionError",
     "evalue": "",
     "output_type": "error",
     "traceback": [
      "\u001b[1;31m---------------------------------------------------------------------------\u001b[0m",
      "\u001b[1;31mAssertionError\u001b[0m                            Traceback (most recent call last)",
      "\u001b[1;32m<ipython-input-48-cd94f2598613>\u001b[0m in \u001b[0;36m<module>\u001b[1;34m\u001b[0m\n\u001b[0;32m      8\u001b[0m \u001b[1;33m\u001b[0m\u001b[0m\n\u001b[0;32m      9\u001b[0m     \u001b[0mres\u001b[0m \u001b[1;33m=\u001b[0m \u001b[0mrequests\u001b[0m\u001b[1;33m.\u001b[0m\u001b[0mget\u001b[0m\u001b[1;33m(\u001b[0m\u001b[0murl\u001b[0m\u001b[1;33m)\u001b[0m\u001b[1;33m\u001b[0m\u001b[1;33m\u001b[0m\u001b[0m\n\u001b[1;32m---> 10\u001b[1;33m     \u001b[1;32massert\u001b[0m \u001b[0mres\u001b[0m\u001b[1;33m.\u001b[0m\u001b[0mstatus_code\u001b[0m \u001b[1;33m==\u001b[0m \u001b[1;36m200\u001b[0m\u001b[1;33m\u001b[0m\u001b[1;33m\u001b[0m\u001b[0m\n\u001b[0m\u001b[0;32m     11\u001b[0m     \u001b[0mpost_list\u001b[0m \u001b[1;33m=\u001b[0m \u001b[0mres\u001b[0m\u001b[1;33m.\u001b[0m\u001b[0mjson\u001b[0m\u001b[1;33m(\u001b[0m\u001b[1;33m)\u001b[0m\u001b[1;33m[\u001b[0m\u001b[1;34m'data'\u001b[0m\u001b[1;33m]\u001b[0m\u001b[1;33m\u001b[0m\u001b[1;33m\u001b[0m\u001b[0m\n\u001b[0;32m     12\u001b[0m     \u001b[0mtemp_df\u001b[0m \u001b[1;33m=\u001b[0m \u001b[0mpd\u001b[0m\u001b[1;33m.\u001b[0m\u001b[0mDataFrame\u001b[0m\u001b[1;33m(\u001b[0m\u001b[0mpost_list\u001b[0m\u001b[1;33m)\u001b[0m\u001b[1;33m[\u001b[0m\u001b[1;33m[\u001b[0m\u001b[1;34m'title'\u001b[0m\u001b[1;33m,\u001b[0m \u001b[1;34m'author'\u001b[0m\u001b[1;33m,\u001b[0m \u001b[1;34m'created_utc'\u001b[0m\u001b[1;33m,\u001b[0m \u001b[1;34m'selftext'\u001b[0m\u001b[1;33m,\u001b[0m \u001b[1;34m'subreddit'\u001b[0m\u001b[1;33m]\u001b[0m\u001b[1;33m]\u001b[0m\u001b[1;33m\u001b[0m\u001b[1;33m\u001b[0m\u001b[0m\n",
      "\u001b[1;31mAssertionError\u001b[0m: "
     ]
    }
   ],
   "source": [
    "s_type = 'submission'\n",
    "subreddit = 'nosleep'\n",
    "unix_times_stamp = 1626811825\n",
    "\n",
    "for pull in range(3):\n",
    "    \n",
    "    url = f'https://api.pushshift.io/reddit/search/{s_type}/?subreddit={subreddit}&before={full_df[\"created_utc\"]}&size=100'\n",
    "    \n",
    "    res = requests.get(url)\n",
    "    assert res.status_code == 200\n",
    "    post_list = res.json()['data']\n",
    "    temp_df = pd.DataFrame(post_list)[['title', 'author', 'created_utc', 'selftext', 'subreddit']]\n",
    "    full_df = pd.concat([full_df, temp_df])\n",
    "    print(full_df.shape)\n",
    "    print(full_df.nunique())\n",
    "    print('waiting until next pull...')\n",
    "    \n",
    "    time.sleep(5)"
   ]
  },
  {
   "cell_type": "code",
   "execution_count": null,
   "id": "67bba87f-5fda-4147-91c9-b3518dea2660",
   "metadata": {},
   "outputs": [],
   "source": [
    "full_df"
   ]
  },
  {
   "cell_type": "code",
   "execution_count": 31,
   "id": "18b2930d-d672-401e-83b7-0d30acbc7bb8",
   "metadata": {},
   "outputs": [
    {
     "data": {
      "text/plain": [
       "500"
      ]
     },
     "execution_count": 31,
     "metadata": {},
     "output_type": "execute_result"
    }
   ],
   "source": [
    "res.status_code"
   ]
  },
  {
   "cell_type": "code",
   "execution_count": 32,
   "id": "7e51844c-d209-4cdd-9d3e-1cb977c4db24",
   "metadata": {},
   "outputs": [],
   "source": [
    "full_df = pd.DataFrame(post_list)[['title', 'author', 'created_utc', 'selftext', 'subreddit']]"
   ]
  },
  {
   "cell_type": "code",
   "execution_count": 37,
   "id": "a095034c-2c16-4c40-a0ec-e5b445be0e11",
   "metadata": {},
   "outputs": [],
   "source": [
    "full_df.to_csv('nosleep_posts.csv')"
   ]
  },
  {
   "cell_type": "code",
   "execution_count": 34,
   "id": "d45e7129-380a-4add-b531-fefcbdbd9bd6",
   "metadata": {},
   "outputs": [
    {
     "data": {
      "text/plain": [
       "Index(['all_awardings', 'allow_live_comments', 'author',\n",
       "       'author_flair_css_class', 'author_flair_richtext', 'author_flair_text',\n",
       "       'author_flair_type', 'author_fullname', 'author_is_blocked',\n",
       "       'author_patreon_flair', 'author_premium', 'awarders', 'can_mod_post',\n",
       "       'content_categories', 'contest_mode', 'created_utc', 'domain',\n",
       "       'full_link', 'gildings', 'id', 'is_created_from_ads_ui',\n",
       "       'is_crosspostable', 'is_meta', 'is_original_content',\n",
       "       'is_reddit_media_domain', 'is_robot_indexable', 'is_self', 'is_video',\n",
       "       'link_flair_background_color', 'link_flair_css_class',\n",
       "       'link_flair_richtext', 'link_flair_template_id', 'link_flair_text',\n",
       "       'link_flair_text_color', 'link_flair_type', 'locked', 'media_only',\n",
       "       'no_follow', 'num_comments', 'num_crossposts', 'over_18',\n",
       "       'parent_whitelist_status', 'permalink', 'pinned', 'pwls',\n",
       "       'retrieved_on', 'score', 'selftext', 'send_replies', 'spoiler',\n",
       "       'stickied', 'subreddit', 'subreddit_id', 'subreddit_subscribers',\n",
       "       'subreddit_type', 'thumbnail', 'title', 'total_awards_received',\n",
       "       'treatment_tags', 'upvote_ratio', 'url', 'whitelist_status', 'wls',\n",
       "       'removed_by_category', 'author_flair_background_color',\n",
       "       'author_flair_text_color', 'post_hint', 'preview', 'distinguished',\n",
       "       'url_overridden_by_dest'],\n",
       "      dtype='object')"
      ]
     },
     "execution_count": 34,
     "metadata": {},
     "output_type": "execute_result"
    }
   ],
   "source": [
    "pd.DataFrame(post_list).columns"
   ]
  },
  {
   "cell_type": "code",
   "execution_count": 53,
   "id": "6525630f-4168-4768-b4a1-c3857614e42a",
   "metadata": {},
   "outputs": [],
   "source": [
    "s_type = 'submission'\n",
    "subreddit = 'nosleep'\n",
    "unix_times_stamp = 1626811825\n",
    "def pushshift_query(full_df_path, subreddit, s_type, iters=5):\n",
    "\n",
    "    for pull in range(iters):\n",
    "        full_df = pd.read_csv(full_df_path)\n",
    "        url = f'https://api.pushshift.io/reddit/search/{s_type}/?subreddit={subreddit}&before={full_df[\"created_utc\"].min()}&size=100'\n",
    "\n",
    "        res = requests.get(url)\n",
    "        print(res.status_code)\n",
    "        if res.status_code == 200:\n",
    "            post_list = res.json()['data']\n",
    "            temp_df = pd.DataFrame(post_list)[['title', 'author', 'created_utc', 'selftext', 'subreddit']]\n",
    "            full_df = pd.concat([full_df, temp_df])\n",
    "            print(full_df.shape)\n",
    "            print(full_df['title'].nunique())\n",
    "            print('waiting until next pull...')\n",
    "\n",
    "            time.sleep(5)\n",
    "        else:\n",
    "            continue\n",
    "        full_df.to_csv(full_df_path, index=False)"
   ]
  },
  {
   "cell_type": "code",
   "execution_count": 54,
   "id": "9ca54c0f-7373-4318-a019-bc3cb3ec316a",
   "metadata": {},
   "outputs": [
    {
     "name": "stdout",
     "output_type": "stream",
     "text": [
      "200\n",
      "(200, 7)\n",
      "180\n",
      "waiting until next pull...\n",
      "200\n",
      "(300, 7)\n",
      "268\n",
      "waiting until next pull...\n",
      "200\n",
      "(400, 7)\n",
      "360\n",
      "waiting until next pull...\n",
      "200\n",
      "(500, 7)\n",
      "451\n",
      "waiting until next pull...\n",
      "200\n",
      "(600, 7)\n",
      "546\n",
      "waiting until next pull...\n"
     ]
    }
   ],
   "source": [
    "pushshift_query(full_df_path='./nosleep_posts.csv', subreddit='nosleep', s_type='submission')"
   ]
  },
  {
   "cell_type": "code",
   "execution_count": null,
   "id": "47f6be52-20d1-4414-abf0-ffe53a05dfd2",
   "metadata": {},
   "outputs": [],
   "source": []
  }
 ],
 "metadata": {
  "kernelspec": {
   "display_name": "Python 3",
   "language": "python",
   "name": "python3"
  },
  "language_info": {
   "codemirror_mode": {
    "name": "ipython",
    "version": 3
   },
   "file_extension": ".py",
   "mimetype": "text/x-python",
   "name": "python",
   "nbconvert_exporter": "python",
   "pygments_lexer": "ipython3",
   "version": "3.8.8"
  }
 },
 "nbformat": 4,
 "nbformat_minor": 5
}
