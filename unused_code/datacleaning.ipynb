{
 "cells": [
  {
   "cell_type": "markdown",
   "id": "af42c733-b1fc-4bf7-be99-fb62f1c3b865",
   "metadata": {},
   "source": [
    "### **Imports**"
   ]
  },
  {
   "cell_type": "code",
   "execution_count": 123,
   "id": "f3697d28-8cc6-4e89-b989-6c9406bc22d5",
   "metadata": {},
   "outputs": [],
   "source": [
    "import numpy as np\n",
    "import requests\n",
    "import pandas as pd\n",
    "import matplotlib.pyplot as plt\n",
    "import time\n",
    "import sys\n",
    "\n",
    "from collections import Counter\n",
    "\n",
    "from nltk.tokenize import sent_tokenize, word_tokenize, RegexpTokenizer\n",
    "from nltk.corpus import stopwords\n",
    "from nltk.sentiment.vader import SentimentIntensityAnalyzer\n",
    "\n",
    "import re"
   ]
  },
  {
   "cell_type": "markdown",
   "id": "ba05d043-8f0f-470c-9ddd-4420951e18c4",
   "metadata": {},
   "source": [
    "#### **Read in data saved in ./datasets folder**"
   ]
  },
  {
   "cell_type": "code",
   "execution_count": 86,
   "id": "46bf157f-b3f0-40be-894c-88fcf46224cb",
   "metadata": {},
   "outputs": [],
   "source": [
    "asksci=pd.read_csv('askscience_posts.csv')"
   ]
  },
  {
   "cell_type": "code",
   "execution_count": 87,
   "id": "2e293ca2-aaa5-46df-a078-207a3428102a",
   "metadata": {},
   "outputs": [],
   "source": [
    "asksci.drop(columns='Unnamed: 0', inplace=True)"
   ]
  },
  {
   "cell_type": "code",
   "execution_count": 88,
   "id": "ceeb705b-74d7-4e7c-88ce-df7f8ee7a0a4",
   "metadata": {},
   "outputs": [
    {
     "data": {
      "text/plain": [
       "(35300, 6)"
      ]
     },
     "execution_count": 88,
     "metadata": {},
     "output_type": "execute_result"
    }
   ],
   "source": [
    "asksci.shape"
   ]
  },
  {
   "cell_type": "code",
   "execution_count": 89,
   "id": "0d00746a-f79c-4f1e-86b6-c35a1402701b",
   "metadata": {},
   "outputs": [
    {
     "data": {
      "text/plain": [
       "Index(['title', 'author', 'created_utc', 'selftext', 'score', 'subreddit'], dtype='object')"
      ]
     },
     "execution_count": 89,
     "metadata": {},
     "output_type": "execute_result"
    }
   ],
   "source": [
    "asksci.columns"
   ]
  },
  {
   "cell_type": "code",
   "execution_count": 90,
   "id": "573754d1-dff8-412c-a6c2-d09cb51a87e3",
   "metadata": {},
   "outputs": [
    {
     "data": {
      "text/html": [
       "<div>\n",
       "<style scoped>\n",
       "    .dataframe tbody tr th:only-of-type {\n",
       "        vertical-align: middle;\n",
       "    }\n",
       "\n",
       "    .dataframe tbody tr th {\n",
       "        vertical-align: top;\n",
       "    }\n",
       "\n",
       "    .dataframe thead th {\n",
       "        text-align: right;\n",
       "    }\n",
       "</style>\n",
       "<table border=\"1\" class=\"dataframe\">\n",
       "  <thead>\n",
       "    <tr style=\"text-align: right;\">\n",
       "      <th></th>\n",
       "      <th>title</th>\n",
       "      <th>author</th>\n",
       "      <th>created_utc</th>\n",
       "      <th>selftext</th>\n",
       "      <th>score</th>\n",
       "      <th>subreddit</th>\n",
       "    </tr>\n",
       "  </thead>\n",
       "  <tbody>\n",
       "    <tr>\n",
       "      <th>0</th>\n",
       "      <td>Why do we vomit when we are too hot?</td>\n",
       "      <td>childloser</td>\n",
       "      <td>1627143368</td>\n",
       "      <td>[removed]</td>\n",
       "      <td>1</td>\n",
       "      <td>askscience</td>\n",
       "    </tr>\n",
       "    <tr>\n",
       "      <th>1</th>\n",
       "      <td>How much CO2 is released by manufacturing a ki...</td>\n",
       "      <td>banmeyoucoward</td>\n",
       "      <td>1627143292</td>\n",
       "      <td>[removed]</td>\n",
       "      <td>1</td>\n",
       "      <td>askscience</td>\n",
       "    </tr>\n",
       "    <tr>\n",
       "      <th>2</th>\n",
       "      <td>Is the level of AI portrayed in movies (fully ...</td>\n",
       "      <td>SchoolThrow123</td>\n",
       "      <td>1627143240</td>\n",
       "      <td>[removed]</td>\n",
       "      <td>1</td>\n",
       "      <td>askscience</td>\n",
       "    </tr>\n",
       "    <tr>\n",
       "      <th>3</th>\n",
       "      <td>Why do some animals have moustache and whiskers</td>\n",
       "      <td>notowork</td>\n",
       "      <td>1627143114</td>\n",
       "      <td>[removed]</td>\n",
       "      <td>1</td>\n",
       "      <td>askscience</td>\n",
       "    </tr>\n",
       "    <tr>\n",
       "      <th>4</th>\n",
       "      <td>What is the maximal theoretical size for an an...</td>\n",
       "      <td>Vantaie</td>\n",
       "      <td>1627142862</td>\n",
       "      <td>[removed]</td>\n",
       "      <td>1</td>\n",
       "      <td>askscience</td>\n",
       "    </tr>\n",
       "  </tbody>\n",
       "</table>\n",
       "</div>"
      ],
      "text/plain": [
       "                                               title          author  \\\n",
       "0               Why do we vomit when we are too hot?      childloser   \n",
       "1  How much CO2 is released by manufacturing a ki...  banmeyoucoward   \n",
       "2  Is the level of AI portrayed in movies (fully ...  SchoolThrow123   \n",
       "3    Why do some animals have moustache and whiskers        notowork   \n",
       "4  What is the maximal theoretical size for an an...         Vantaie   \n",
       "\n",
       "   created_utc   selftext  score   subreddit  \n",
       "0   1627143368  [removed]      1  askscience  \n",
       "1   1627143292  [removed]      1  askscience  \n",
       "2   1627143240  [removed]      1  askscience  \n",
       "3   1627143114  [removed]      1  askscience  \n",
       "4   1627142862  [removed]      1  askscience  "
      ]
     },
     "execution_count": 90,
     "metadata": {},
     "output_type": "execute_result"
    }
   ],
   "source": [
    "asksci.head()"
   ]
  },
  {
   "cell_type": "code",
   "execution_count": 94,
   "id": "d5f7dcd5-4c71-498b-8a7e-a451740425ed",
   "metadata": {},
   "outputs": [
    {
     "name": "stdout",
     "output_type": "stream",
     "text": [
      "<class 'pandas.core.frame.DataFrame'>\n",
      "RangeIndex: 35300 entries, 0 to 35299\n",
      "Data columns (total 6 columns):\n",
      " #   Column       Non-Null Count  Dtype \n",
      "---  ------       --------------  ----- \n",
      " 0   title        35300 non-null  object\n",
      " 1   author       35300 non-null  object\n",
      " 2   created_utc  35300 non-null  int64 \n",
      " 3   selftext     35028 non-null  object\n",
      " 4   score        35300 non-null  int64 \n",
      " 5   subreddit    35300 non-null  object\n",
      "dtypes: int64(2), object(4)\n",
      "memory usage: 1.6+ MB\n"
     ]
    }
   ],
   "source": [
    "asksci.info()"
   ]
  },
  {
   "cell_type": "code",
   "execution_count": 98,
   "id": "0a16748e-af04-40ee-bdeb-5fa110b27496",
   "metadata": {},
   "outputs": [
    {
     "data": {
      "text/html": [
       "<div>\n",
       "<style scoped>\n",
       "    .dataframe tbody tr th:only-of-type {\n",
       "        vertical-align: middle;\n",
       "    }\n",
       "\n",
       "    .dataframe tbody tr th {\n",
       "        vertical-align: top;\n",
       "    }\n",
       "\n",
       "    .dataframe thead th {\n",
       "        text-align: right;\n",
       "    }\n",
       "</style>\n",
       "<table border=\"1\" class=\"dataframe\">\n",
       "  <thead>\n",
       "    <tr style=\"text-align: right;\">\n",
       "      <th></th>\n",
       "      <th>title</th>\n",
       "      <th>author</th>\n",
       "      <th>created_utc</th>\n",
       "      <th>selftext</th>\n",
       "      <th>score</th>\n",
       "      <th>subreddit</th>\n",
       "    </tr>\n",
       "  </thead>\n",
       "  <tbody>\n",
       "    <tr>\n",
       "      <th>187</th>\n",
       "      <td>Since mosquitoes and flies find their prey par...</td>\n",
       "      <td>whatisnuclear</td>\n",
       "      <td>1627091013</td>\n",
       "      <td>NaN</td>\n",
       "      <td>1</td>\n",
       "      <td>askscience</td>\n",
       "    </tr>\n",
       "    <tr>\n",
       "      <th>1721</th>\n",
       "      <td>Between foam, liquid, or bar, what is the best...</td>\n",
       "      <td>PHealthy</td>\n",
       "      <td>1626696841</td>\n",
       "      <td>NaN</td>\n",
       "      <td>1</td>\n",
       "      <td>askscience</td>\n",
       "    </tr>\n",
       "    <tr>\n",
       "      <th>3203</th>\n",
       "      <td>What's the chance of getting Alzheimer?</td>\n",
       "      <td>[deleted]</td>\n",
       "      <td>1626259248</td>\n",
       "      <td>NaN</td>\n",
       "      <td>1</td>\n",
       "      <td>askscience</td>\n",
       "    </tr>\n",
       "    <tr>\n",
       "      <th>3204</th>\n",
       "      <td>What to do with a closed Oxidizing bottle?</td>\n",
       "      <td>[deleted]</td>\n",
       "      <td>1626259038</td>\n",
       "      <td>NaN</td>\n",
       "      <td>1</td>\n",
       "      <td>askscience</td>\n",
       "    </tr>\n",
       "    <tr>\n",
       "      <th>3205</th>\n",
       "      <td>What's the chance of getting Alzheimer</td>\n",
       "      <td>[deleted]</td>\n",
       "      <td>1626258896</td>\n",
       "      <td>NaN</td>\n",
       "      <td>1</td>\n",
       "      <td>askscience</td>\n",
       "    </tr>\n",
       "    <tr>\n",
       "      <th>...</th>\n",
       "      <td>...</td>\n",
       "      <td>...</td>\n",
       "      <td>...</td>\n",
       "      <td>...</td>\n",
       "      <td>...</td>\n",
       "      <td>...</td>\n",
       "    </tr>\n",
       "    <tr>\n",
       "      <th>33197</th>\n",
       "      <td>Lower Cortisol in Depression</td>\n",
       "      <td>[deleted]</td>\n",
       "      <td>1617549755</td>\n",
       "      <td>NaN</td>\n",
       "      <td>1</td>\n",
       "      <td>askscience</td>\n",
       "    </tr>\n",
       "    <tr>\n",
       "      <th>33347</th>\n",
       "      <td>Why does our immune system can fend off some p...</td>\n",
       "      <td>[deleted]</td>\n",
       "      <td>1617502609</td>\n",
       "      <td>NaN</td>\n",
       "      <td>1</td>\n",
       "      <td>askscience</td>\n",
       "    </tr>\n",
       "    <tr>\n",
       "      <th>33587</th>\n",
       "      <td>The murder mystery of Spain's 'Pit of Bones'</td>\n",
       "      <td>[deleted]</td>\n",
       "      <td>1617430573</td>\n",
       "      <td>NaN</td>\n",
       "      <td>1</td>\n",
       "      <td>askscience</td>\n",
       "    </tr>\n",
       "    <tr>\n",
       "      <th>34069</th>\n",
       "      <td>what is that inner monologue in your head?</td>\n",
       "      <td>[deleted]</td>\n",
       "      <td>1617298989</td>\n",
       "      <td>NaN</td>\n",
       "      <td>1</td>\n",
       "      <td>askscience</td>\n",
       "    </tr>\n",
       "    <tr>\n",
       "      <th>35136</th>\n",
       "      <td>Is it impossible to measure the one-way speed ...</td>\n",
       "      <td>[deleted]</td>\n",
       "      <td>1617026218</td>\n",
       "      <td>NaN</td>\n",
       "      <td>1</td>\n",
       "      <td>askscience</td>\n",
       "    </tr>\n",
       "  </tbody>\n",
       "</table>\n",
       "<p>272 rows × 6 columns</p>\n",
       "</div>"
      ],
      "text/plain": [
       "                                                   title         author  \\\n",
       "187    Since mosquitoes and flies find their prey par...  whatisnuclear   \n",
       "1721   Between foam, liquid, or bar, what is the best...       PHealthy   \n",
       "3203             What's the chance of getting Alzheimer?      [deleted]   \n",
       "3204          What to do with a closed Oxidizing bottle?      [deleted]   \n",
       "3205              What's the chance of getting Alzheimer      [deleted]   \n",
       "...                                                  ...            ...   \n",
       "33197                       Lower Cortisol in Depression      [deleted]   \n",
       "33347  Why does our immune system can fend off some p...      [deleted]   \n",
       "33587       The murder mystery of Spain's 'Pit of Bones'      [deleted]   \n",
       "34069         what is that inner monologue in your head?      [deleted]   \n",
       "35136  Is it impossible to measure the one-way speed ...      [deleted]   \n",
       "\n",
       "       created_utc selftext  score   subreddit  \n",
       "187     1627091013      NaN      1  askscience  \n",
       "1721    1626696841      NaN      1  askscience  \n",
       "3203    1626259248      NaN      1  askscience  \n",
       "3204    1626259038      NaN      1  askscience  \n",
       "3205    1626258896      NaN      1  askscience  \n",
       "...            ...      ...    ...         ...  \n",
       "33197   1617549755      NaN      1  askscience  \n",
       "33347   1617502609      NaN      1  askscience  \n",
       "33587   1617430573      NaN      1  askscience  \n",
       "34069   1617298989      NaN      1  askscience  \n",
       "35136   1617026218      NaN      1  askscience  \n",
       "\n",
       "[272 rows x 6 columns]"
      ]
     },
     "execution_count": 98,
     "metadata": {},
     "output_type": "execute_result"
    }
   ],
   "source": [
    "asksci[asksci['selftext'].isnull()]"
   ]
  },
  {
   "cell_type": "code",
   "execution_count": 92,
   "id": "1e882543-d7f5-4d58-9f8b-b4af5a48392c",
   "metadata": {},
   "outputs": [
    {
     "data": {
      "text/plain": [
       "377"
      ]
     },
     "execution_count": 92,
     "metadata": {},
     "output_type": "execute_result"
    }
   ],
   "source": [
    "(asksci['selftext'] != \"[removed]\").sum()"
   ]
  },
  {
   "cell_type": "code",
   "execution_count": 93,
   "id": "a1899c76-fe1c-477d-b3bf-1e6303e0d70e",
   "metadata": {},
   "outputs": [
    {
     "data": {
      "text/plain": [
       "35300"
      ]
     },
     "execution_count": 93,
     "metadata": {},
     "output_type": "execute_result"
    }
   ],
   "source": [
    "(asksci['selftext'] != \"[deleted]\").sum()"
   ]
  },
  {
   "cell_type": "code",
   "execution_count": 28,
   "id": "2aee49b1-b639-40e1-a045-d28b35bd6e00",
   "metadata": {},
   "outputs": [
    {
     "data": {
      "text/plain": [
       "(35300, 6)"
      ]
     },
     "execution_count": 28,
     "metadata": {},
     "output_type": "execute_result"
    }
   ],
   "source": [
    "asksci.shape"
   ]
  },
  {
   "cell_type": "code",
   "execution_count": 118,
   "id": "3492add8-adbd-4d3e-9ba9-08e117a52ae3",
   "metadata": {},
   "outputs": [],
   "source": [
    "long = pd.read_csv('longevity_posts.csv')"
   ]
  },
  {
   "cell_type": "code",
   "execution_count": 119,
   "id": "c1c80d6b-edf6-4ca0-8e8e-6164ff78acba",
   "metadata": {},
   "outputs": [],
   "source": [
    "long.drop(columns='Unnamed: 0', inplace=True)"
   ]
  },
  {
   "cell_type": "code",
   "execution_count": 120,
   "id": "5cd06a86-4b76-41be-a070-3b042406a23c",
   "metadata": {},
   "outputs": [
    {
     "data": {
      "text/plain": [
       "(18519, 6)"
      ]
     },
     "execution_count": 120,
     "metadata": {},
     "output_type": "execute_result"
    }
   ],
   "source": [
    "long.shape"
   ]
  },
  {
   "cell_type": "code",
   "execution_count": 121,
   "id": "1f329993-7284-4e00-8a06-807c233f037a",
   "metadata": {},
   "outputs": [
    {
     "data": {
      "text/html": [
       "<div>\n",
       "<style scoped>\n",
       "    .dataframe tbody tr th:only-of-type {\n",
       "        vertical-align: middle;\n",
       "    }\n",
       "\n",
       "    .dataframe tbody tr th {\n",
       "        vertical-align: top;\n",
       "    }\n",
       "\n",
       "    .dataframe thead th {\n",
       "        text-align: right;\n",
       "    }\n",
       "</style>\n",
       "<table border=\"1\" class=\"dataframe\">\n",
       "  <thead>\n",
       "    <tr style=\"text-align: right;\">\n",
       "      <th></th>\n",
       "      <th>title</th>\n",
       "      <th>author</th>\n",
       "      <th>created_utc</th>\n",
       "      <th>selftext</th>\n",
       "      <th>score</th>\n",
       "      <th>subreddit</th>\n",
       "    </tr>\n",
       "  </thead>\n",
       "  <tbody>\n",
       "    <tr>\n",
       "      <th>0</th>\n",
       "      <td>Scientists discover gene therapy provides neur...</td>\n",
       "      <td>festlap</td>\n",
       "      <td>1627142424</td>\n",
       "      <td>NaN</td>\n",
       "      <td>1</td>\n",
       "      <td>longevity</td>\n",
       "    </tr>\n",
       "    <tr>\n",
       "      <th>1</th>\n",
       "      <td>Does Young Blood Really Have The Power To Reju...</td>\n",
       "      <td>JoeDerivative</td>\n",
       "      <td>1627141616</td>\n",
       "      <td>NaN</td>\n",
       "      <td>1</td>\n",
       "      <td>longevity</td>\n",
       "    </tr>\n",
       "    <tr>\n",
       "      <th>2</th>\n",
       "      <td>Excess coffee: A bitter brew for brain health</td>\n",
       "      <td>stankmanly</td>\n",
       "      <td>1627134191</td>\n",
       "      <td>NaN</td>\n",
       "      <td>1</td>\n",
       "      <td>longevity</td>\n",
       "    </tr>\n",
       "    <tr>\n",
       "      <th>3</th>\n",
       "      <td>Extending Human Lifespans: Using Artificial In...</td>\n",
       "      <td>sim04ful</td>\n",
       "      <td>1627123037</td>\n",
       "      <td>NaN</td>\n",
       "      <td>1</td>\n",
       "      <td>longevity</td>\n",
       "    </tr>\n",
       "    <tr>\n",
       "      <th>4</th>\n",
       "      <td>YAP Upregulation as a Potentially Broad Basis ...</td>\n",
       "      <td>chromosomalcrossover</td>\n",
       "      <td>1627115449</td>\n",
       "      <td>NaN</td>\n",
       "      <td>1</td>\n",
       "      <td>longevity</td>\n",
       "    </tr>\n",
       "  </tbody>\n",
       "</table>\n",
       "</div>"
      ],
      "text/plain": [
       "                                               title                author  \\\n",
       "0  Scientists discover gene therapy provides neur...               festlap   \n",
       "1  Does Young Blood Really Have The Power To Reju...         JoeDerivative   \n",
       "2      Excess coffee: A bitter brew for brain health            stankmanly   \n",
       "3  Extending Human Lifespans: Using Artificial In...              sim04ful   \n",
       "4  YAP Upregulation as a Potentially Broad Basis ...  chromosomalcrossover   \n",
       "\n",
       "   created_utc selftext  score  subreddit  \n",
       "0   1627142424      NaN      1  longevity  \n",
       "1   1627141616      NaN      1  longevity  \n",
       "2   1627134191      NaN      1  longevity  \n",
       "3   1627123037      NaN      1  longevity  \n",
       "4   1627115449      NaN      1  longevity  "
      ]
     },
     "execution_count": 121,
     "metadata": {},
     "output_type": "execute_result"
    }
   ],
   "source": [
    "long.head()"
   ]
  },
  {
   "cell_type": "code",
   "execution_count": 35,
   "id": "043405be-9ce9-4678-99e8-e938f2cbfc08",
   "metadata": {},
   "outputs": [
    {
     "data": {
      "text/plain": [
       "13002"
      ]
     },
     "execution_count": 35,
     "metadata": {},
     "output_type": "execute_result"
    }
   ],
   "source": [
    "long['selftext'].isna().sum()"
   ]
  },
  {
   "cell_type": "code",
   "execution_count": 40,
   "id": "d63a3357-7e60-4fca-bdba-42ba4773855a",
   "metadata": {},
   "outputs": [],
   "source": [
    "long.drop_duplicates(inplace=True)"
   ]
  },
  {
   "cell_type": "code",
   "execution_count": 42,
   "id": "3f7da799-d67a-49c5-8315-e1e8991bb453",
   "metadata": {},
   "outputs": [
    {
     "data": {
      "text/plain": [
       "(18518, 6)"
      ]
     },
     "execution_count": 42,
     "metadata": {},
     "output_type": "execute_result"
    }
   ],
   "source": [
    "long.shape"
   ]
  },
  {
   "cell_type": "code",
   "execution_count": 43,
   "id": "2aa49462-89ac-4cc2-a1a8-559dd8f5a326",
   "metadata": {},
   "outputs": [
    {
     "data": {
      "text/plain": [
       "Index(['title', 'author', 'created_utc', 'selftext', 'score', 'subreddit'], dtype='object')"
      ]
     },
     "execution_count": 43,
     "metadata": {},
     "output_type": "execute_result"
    }
   ],
   "source": [
    "long.columns"
   ]
  },
  {
   "cell_type": "code",
   "execution_count": 44,
   "id": "04ff6f53-d61d-466c-a5ec-90bb9cbdb5bc",
   "metadata": {},
   "outputs": [
    {
     "data": {
      "text/plain": [
       "Index(['title', 'author', 'created_utc', 'selftext', 'score', 'subreddit'], dtype='object')"
      ]
     },
     "execution_count": 44,
     "metadata": {},
     "output_type": "execute_result"
    }
   ],
   "source": [
    "asksci.columns"
   ]
  },
  {
   "cell_type": "code",
   "execution_count": 58,
   "id": "d8d2d305-4e39-4937-b3de-528979ff3d53",
   "metadata": {},
   "outputs": [],
   "source": [
    "df=pd.concat([asksci, long])"
   ]
  },
  {
   "cell_type": "code",
   "execution_count": 59,
   "id": "124d5777-a2b0-4c55-86f3-2ed0ea651b3e",
   "metadata": {},
   "outputs": [
    {
     "data": {
      "text/html": [
       "<div>\n",
       "<style scoped>\n",
       "    .dataframe tbody tr th:only-of-type {\n",
       "        vertical-align: middle;\n",
       "    }\n",
       "\n",
       "    .dataframe tbody tr th {\n",
       "        vertical-align: top;\n",
       "    }\n",
       "\n",
       "    .dataframe thead th {\n",
       "        text-align: right;\n",
       "    }\n",
       "</style>\n",
       "<table border=\"1\" class=\"dataframe\">\n",
       "  <thead>\n",
       "    <tr style=\"text-align: right;\">\n",
       "      <th></th>\n",
       "      <th>title</th>\n",
       "      <th>author</th>\n",
       "      <th>created_utc</th>\n",
       "      <th>selftext</th>\n",
       "      <th>score</th>\n",
       "      <th>subreddit</th>\n",
       "    </tr>\n",
       "  </thead>\n",
       "  <tbody>\n",
       "    <tr>\n",
       "      <th>0</th>\n",
       "      <td>Why do we vomit when we are too hot?</td>\n",
       "      <td>childloser</td>\n",
       "      <td>1627143368</td>\n",
       "      <td>[removed]</td>\n",
       "      <td>1</td>\n",
       "      <td>askscience</td>\n",
       "    </tr>\n",
       "    <tr>\n",
       "      <th>1</th>\n",
       "      <td>How much CO2 is released by manufacturing a ki...</td>\n",
       "      <td>banmeyoucoward</td>\n",
       "      <td>1627143292</td>\n",
       "      <td>[removed]</td>\n",
       "      <td>1</td>\n",
       "      <td>askscience</td>\n",
       "    </tr>\n",
       "    <tr>\n",
       "      <th>2</th>\n",
       "      <td>Is the level of AI portrayed in movies (fully ...</td>\n",
       "      <td>SchoolThrow123</td>\n",
       "      <td>1627143240</td>\n",
       "      <td>[removed]</td>\n",
       "      <td>1</td>\n",
       "      <td>askscience</td>\n",
       "    </tr>\n",
       "    <tr>\n",
       "      <th>3</th>\n",
       "      <td>Why do some animals have moustache and whiskers</td>\n",
       "      <td>notowork</td>\n",
       "      <td>1627143114</td>\n",
       "      <td>[removed]</td>\n",
       "      <td>1</td>\n",
       "      <td>askscience</td>\n",
       "    </tr>\n",
       "    <tr>\n",
       "      <th>4</th>\n",
       "      <td>What is the maximal theoretical size for an an...</td>\n",
       "      <td>Vantaie</td>\n",
       "      <td>1627142862</td>\n",
       "      <td>[removed]</td>\n",
       "      <td>1</td>\n",
       "      <td>askscience</td>\n",
       "    </tr>\n",
       "  </tbody>\n",
       "</table>\n",
       "</div>"
      ],
      "text/plain": [
       "                                               title          author  \\\n",
       "0               Why do we vomit when we are too hot?      childloser   \n",
       "1  How much CO2 is released by manufacturing a ki...  banmeyoucoward   \n",
       "2  Is the level of AI portrayed in movies (fully ...  SchoolThrow123   \n",
       "3    Why do some animals have moustache and whiskers        notowork   \n",
       "4  What is the maximal theoretical size for an an...         Vantaie   \n",
       "\n",
       "   created_utc   selftext  score   subreddit  \n",
       "0   1627143368  [removed]      1  askscience  \n",
       "1   1627143292  [removed]      1  askscience  \n",
       "2   1627143240  [removed]      1  askscience  \n",
       "3   1627143114  [removed]      1  askscience  \n",
       "4   1627142862  [removed]      1  askscience  "
      ]
     },
     "execution_count": 59,
     "metadata": {},
     "output_type": "execute_result"
    }
   ],
   "source": [
    "df.head()"
   ]
  },
  {
   "cell_type": "code",
   "execution_count": 60,
   "id": "b5173ea4-7a31-44e9-afcd-ed06222759df",
   "metadata": {},
   "outputs": [
    {
     "data": {
      "text/plain": [
       "(53818, 6)"
      ]
     },
     "execution_count": 60,
     "metadata": {},
     "output_type": "execute_result"
    }
   ],
   "source": [
    "df.shape"
   ]
  },
  {
   "cell_type": "code",
   "execution_count": 84,
   "id": "6a7e827b-e5d8-4bca-af43-f6f930184871",
   "metadata": {},
   "outputs": [
    {
     "data": {
      "text/plain": [
       "title              0\n",
       "author             0\n",
       "created_utc        0\n",
       "selftext       13274\n",
       "score              0\n",
       "subreddit          0\n",
       "dtype: int64"
      ]
     },
     "execution_count": 84,
     "metadata": {},
     "output_type": "execute_result"
    }
   ],
   "source": [
    "df[(df['selftext'] != \"[removed]\") & (df['selftext']!=\"[deleted]\")].isnull().sum()"
   ]
  },
  {
   "cell_type": "code",
   "execution_count": 70,
   "id": "4b71e377-0bc1-41c6-a673-cd0ef0c5a400",
   "metadata": {},
   "outputs": [
    {
     "data": {
      "text/plain": [
       "37198"
      ]
     },
     "execution_count": 70,
     "metadata": {},
     "output_type": "execute_result"
    }
   ],
   "source": [
    "(df['selftext'] == \"[removed]\").sum()"
   ]
  },
  {
   "cell_type": "code",
   "execution_count": 71,
   "id": "4abd612f-1c03-4ea5-b72e-0b5ba2ececaf",
   "metadata": {},
   "outputs": [
    {
     "data": {
      "text/plain": [
       "410"
      ]
     },
     "execution_count": 71,
     "metadata": {},
     "output_type": "execute_result"
    }
   ],
   "source": [
    "(df['selftext'] == \"[deleted]\").sum()"
   ]
  },
  {
   "cell_type": "code",
   "execution_count": null,
   "id": "8a3b291f-8097-4663-b5ba-e53d8ef7f6f8",
   "metadata": {},
   "outputs": [],
   "source": []
  },
  {
   "cell_type": "code",
   "execution_count": 48,
   "id": "f339223a-67b1-43e6-ab2c-4ef83113ee03",
   "metadata": {},
   "outputs": [],
   "source": [
    "longevity_comments = pd.read_csv('longevityinlongevity_comments.csv')\n",
    "longevity_comments.drop(columns='Unnamed: 0', inplace=True)"
   ]
  },
  {
   "cell_type": "code",
   "execution_count": 49,
   "id": "cb13dd9d-3266-4231-b164-ef585f2bb1f6",
   "metadata": {},
   "outputs": [
    {
     "data": {
      "text/html": [
       "<div>\n",
       "<style scoped>\n",
       "    .dataframe tbody tr th:only-of-type {\n",
       "        vertical-align: middle;\n",
       "    }\n",
       "\n",
       "    .dataframe tbody tr th {\n",
       "        vertical-align: top;\n",
       "    }\n",
       "\n",
       "    .dataframe thead th {\n",
       "        text-align: right;\n",
       "    }\n",
       "</style>\n",
       "<table border=\"1\" class=\"dataframe\">\n",
       "  <thead>\n",
       "    <tr style=\"text-align: right;\">\n",
       "      <th></th>\n",
       "      <th>author</th>\n",
       "      <th>body</th>\n",
       "      <th>score</th>\n",
       "      <th>created_utc</th>\n",
       "      <th>subreddit</th>\n",
       "    </tr>\n",
       "  </thead>\n",
       "  <tbody>\n",
       "    <tr>\n",
       "      <th>0</th>\n",
       "      <td>nickengerer</td>\n",
       "      <td>Shameless plug: [longevity blog](http://nicken...</td>\n",
       "      <td>1</td>\n",
       "      <td>1626988425</td>\n",
       "      <td>longevity</td>\n",
       "    </tr>\n",
       "    <tr>\n",
       "      <th>1</th>\n",
       "      <td>rosts</td>\n",
       "      <td>Not directly about longevity, but I'm expectin...</td>\n",
       "      <td>10</td>\n",
       "      <td>1626978437</td>\n",
       "      <td>longevity</td>\n",
       "    </tr>\n",
       "    <tr>\n",
       "      <th>2</th>\n",
       "      <td>newbooke</td>\n",
       "      <td>Sure, hopefully. By definition it kind of can'...</td>\n",
       "      <td>1</td>\n",
       "      <td>1626977878</td>\n",
       "      <td>longevity</td>\n",
       "    </tr>\n",
       "    <tr>\n",
       "      <th>3</th>\n",
       "      <td>snormie</td>\n",
       "      <td>Better fix climate change or all the longevity...</td>\n",
       "      <td>-9</td>\n",
       "      <td>1626963790</td>\n",
       "      <td>longevity</td>\n",
       "    </tr>\n",
       "    <tr>\n",
       "      <th>4</th>\n",
       "      <td>mamaBiskothu</td>\n",
       "      <td>Have you seen big hero 6, there's this stoner ...</td>\n",
       "      <td>-8</td>\n",
       "      <td>1626953498</td>\n",
       "      <td>longevity</td>\n",
       "    </tr>\n",
       "  </tbody>\n",
       "</table>\n",
       "</div>"
      ],
      "text/plain": [
       "         author                                               body  score  \\\n",
       "0   nickengerer  Shameless plug: [longevity blog](http://nicken...      1   \n",
       "1         rosts  Not directly about longevity, but I'm expectin...     10   \n",
       "2      newbooke  Sure, hopefully. By definition it kind of can'...      1   \n",
       "3       snormie  Better fix climate change or all the longevity...     -9   \n",
       "4  mamaBiskothu  Have you seen big hero 6, there's this stoner ...     -8   \n",
       "\n",
       "   created_utc  subreddit  \n",
       "0   1626988425  longevity  \n",
       "1   1626978437  longevity  \n",
       "2   1626977878  longevity  \n",
       "3   1626963790  longevity  \n",
       "4   1626953498  longevity  "
      ]
     },
     "execution_count": 49,
     "metadata": {},
     "output_type": "execute_result"
    }
   ],
   "source": [
    "longevity_comments.head()"
   ]
  },
  {
   "cell_type": "code",
   "execution_count": 50,
   "id": "021d4b36-5d5c-4bef-8968-59742a7d13c7",
   "metadata": {},
   "outputs": [],
   "source": [
    "askscience_comments = pd.read_csv('longevityinaskscience_comments.csv')\n",
    "askscience_comments.drop(columns='Unnamed: 0', inplace=True)"
   ]
  },
  {
   "cell_type": "code",
   "execution_count": 53,
   "id": "50fcd3d6-336e-4a69-97d8-76212a8faf85",
   "metadata": {},
   "outputs": [],
   "source": [
    "df_comments=pd.concat([longevity_comments, askscience_comments])"
   ]
  },
  {
   "cell_type": "code",
   "execution_count": 57,
   "id": "56c7d897-796d-422b-8d79-64a07f7011f0",
   "metadata": {},
   "outputs": [
    {
     "data": {
      "text/plain": [
       "0"
      ]
     },
     "execution_count": 57,
     "metadata": {},
     "output_type": "execute_result"
    }
   ],
   "source": []
  },
  {
   "cell_type": "markdown",
   "id": "ffb7ff9e-bfae-40ab-a2b4-cab93d74f5e3",
   "metadata": {},
   "source": [
    "**Create labels for subreddits**"
   ]
  },
  {
   "cell_type": "code",
   "execution_count": 63,
   "id": "49a8743f-714e-4d70-9142-3382bd9b57bf",
   "metadata": {},
   "outputs": [],
   "source": [
    "subreddit_dict = {'longevity':0,\n",
    "            'askscience':1}"
   ]
  },
  {
   "cell_type": "code",
   "execution_count": 64,
   "id": "1fd530e9-fe55-4269-8d94-819b9c6afa40",
   "metadata": {},
   "outputs": [],
   "source": [
    "df_comments['subreddit'] = df_comments['subreddit'].map(subreddit_dict)\n",
    "df['subreddit'] = df['subreddit'].map(subreddit_dict)"
   ]
  },
  {
   "cell_type": "code",
   "execution_count": 65,
   "id": "32086988-3b39-4a70-bb07-8a0b19f461c3",
   "metadata": {},
   "outputs": [
    {
     "data": {
      "text/html": [
       "<div>\n",
       "<style scoped>\n",
       "    .dataframe tbody tr th:only-of-type {\n",
       "        vertical-align: middle;\n",
       "    }\n",
       "\n",
       "    .dataframe tbody tr th {\n",
       "        vertical-align: top;\n",
       "    }\n",
       "\n",
       "    .dataframe thead th {\n",
       "        text-align: right;\n",
       "    }\n",
       "</style>\n",
       "<table border=\"1\" class=\"dataframe\">\n",
       "  <thead>\n",
       "    <tr style=\"text-align: right;\">\n",
       "      <th></th>\n",
       "      <th>author</th>\n",
       "      <th>body</th>\n",
       "      <th>score</th>\n",
       "      <th>created_utc</th>\n",
       "      <th>subreddit</th>\n",
       "    </tr>\n",
       "  </thead>\n",
       "  <tbody>\n",
       "    <tr>\n",
       "      <th>0</th>\n",
       "      <td>nickengerer</td>\n",
       "      <td>Shameless plug: [longevity blog](http://nicken...</td>\n",
       "      <td>1</td>\n",
       "      <td>1626988425</td>\n",
       "      <td>0</td>\n",
       "    </tr>\n",
       "    <tr>\n",
       "      <th>1</th>\n",
       "      <td>rosts</td>\n",
       "      <td>Not directly about longevity, but I'm expectin...</td>\n",
       "      <td>10</td>\n",
       "      <td>1626978437</td>\n",
       "      <td>0</td>\n",
       "    </tr>\n",
       "    <tr>\n",
       "      <th>2</th>\n",
       "      <td>newbooke</td>\n",
       "      <td>Sure, hopefully. By definition it kind of can'...</td>\n",
       "      <td>1</td>\n",
       "      <td>1626977878</td>\n",
       "      <td>0</td>\n",
       "    </tr>\n",
       "    <tr>\n",
       "      <th>3</th>\n",
       "      <td>snormie</td>\n",
       "      <td>Better fix climate change or all the longevity...</td>\n",
       "      <td>-9</td>\n",
       "      <td>1626963790</td>\n",
       "      <td>0</td>\n",
       "    </tr>\n",
       "    <tr>\n",
       "      <th>4</th>\n",
       "      <td>mamaBiskothu</td>\n",
       "      <td>Have you seen big hero 6, there's this stoner ...</td>\n",
       "      <td>-8</td>\n",
       "      <td>1626953498</td>\n",
       "      <td>0</td>\n",
       "    </tr>\n",
       "  </tbody>\n",
       "</table>\n",
       "</div>"
      ],
      "text/plain": [
       "         author                                               body  score  \\\n",
       "0   nickengerer  Shameless plug: [longevity blog](http://nicken...      1   \n",
       "1         rosts  Not directly about longevity, but I'm expectin...     10   \n",
       "2      newbooke  Sure, hopefully. By definition it kind of can'...      1   \n",
       "3       snormie  Better fix climate change or all the longevity...     -9   \n",
       "4  mamaBiskothu  Have you seen big hero 6, there's this stoner ...     -8   \n",
       "\n",
       "   created_utc  subreddit  \n",
       "0   1626988425          0  \n",
       "1   1626978437          0  \n",
       "2   1626977878          0  \n",
       "3   1626963790          0  \n",
       "4   1626953498          0  "
      ]
     },
     "execution_count": 65,
     "metadata": {},
     "output_type": "execute_result"
    }
   ],
   "source": [
    "df_comments.head()"
   ]
  },
  {
   "cell_type": "code",
   "execution_count": null,
   "id": "751442be-ca24-446b-b6a8-2a959d4d8eeb",
   "metadata": {},
   "outputs": [],
   "source": []
  }
 ],
 "metadata": {
  "kernelspec": {
   "display_name": "Python 3",
   "language": "python",
   "name": "python3"
  },
  "language_info": {
   "codemirror_mode": {
    "name": "ipython",
    "version": 3
   },
   "file_extension": ".py",
   "mimetype": "text/x-python",
   "name": "python",
   "nbconvert_exporter": "python",
   "pygments_lexer": "ipython3",
   "version": "3.8.8"
  }
 },
 "nbformat": 4,
 "nbformat_minor": 5
}
