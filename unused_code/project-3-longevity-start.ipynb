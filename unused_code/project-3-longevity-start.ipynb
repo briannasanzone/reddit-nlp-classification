{
 "cells": [
  {
   "cell_type": "markdown",
   "id": "fbe1a872-461b-4c3d-8f73-b47147d7f9f6",
   "metadata": {},
   "source": [
    "#### **Imports**"
   ]
  },
  {
   "cell_type": "code",
   "execution_count": 4,
   "id": "f1a4b7a6-547b-484f-bd22-aedfa4eacfad",
   "metadata": {},
   "outputs": [],
   "source": [
    "import requests\n",
    "import pandas as pd\n",
    "import time\n",
    "import datetime as dt"
   ]
  },
  {
   "cell_type": "markdown",
   "id": "d18aa78f-f1c8-4c7f-806e-dc44f5f0cdbe",
   "metadata": {},
   "source": [
    "#### **Posts: Subreddit Longevity**"
   ]
  },
  {
   "cell_type": "code",
   "execution_count": 45,
   "id": "697ca99e-d47d-49fe-8eaf-a30d6fa0d0bb",
   "metadata": {},
   "outputs": [],
   "source": [
    "for pull in range(3):\n",
    "    \n",
    "    url = f'https://api.pushshift.io/reddit/search/submission/?subreddit=longevity&before=1627143786&size=100'\n",
    "    \n",
    "    res = requests.get(url)\n",
    "    assert res.status_code == 200\n",
    "    post_list = res.json()['data']"
   ]
  },
  {
   "cell_type": "code",
   "execution_count": 19,
   "id": "6dd10263-6abd-4a59-b9db-7e1cdd13895f",
   "metadata": {},
   "outputs": [],
   "source": [
    "full_df = pd.DataFrame(post_list)[['title', 'author', 'created_utc', 'selftext', 'score', 'subreddit']]"
   ]
  },
  {
   "cell_type": "code",
   "execution_count": 20,
   "id": "ae8006ca-58c9-4877-924c-88b60aebf9a0",
   "metadata": {},
   "outputs": [],
   "source": [
    "full_df.to_csv('longevity_posts.csv')"
   ]
  },
  {
   "cell_type": "code",
   "execution_count": 29,
   "id": "bd2c7034-8374-4695-b221-0b03344e79c1",
   "metadata": {},
   "outputs": [],
   "source": [
    "unix_times_stamp = 1627143786\n",
    "def pushshift_query(full_df_path, subreddit, s_type, iters=200):\n",
    "\n",
    "    for pull in range(iters):\n",
    "        full_df = pd.read_csv(full_df_path)\n",
    "        url = f'https://api.pushshift.io/reddit/search/submission/?subreddit=longevity&before={full_df[\"created_utc\"].min()}&size=100'\n",
    "\n",
    "        res = requests.get(url)\n",
    "        print(res.status_code)\n",
    "        if res.status_code == 200:\n",
    "            post_list = res.json()['data']\n",
    "            temp_df = pd.DataFrame(post_list)[['title', 'author', 'created_utc', 'selftext', 'score', 'subreddit']]\n",
    "            full_df = pd.concat([full_df, temp_df])\n",
    "            print(full_df.shape)\n",
    "            print(full_df['title'].nunique())\n",
    "            print('waiting until next pull...')\n",
    "\n",
    "            time.sleep(5)\n",
    "        else:\n",
    "            continue\n",
    "        full_df.to_csv(full_df_path, index=False)"
   ]
  },
  {
   "cell_type": "code",
   "execution_count": 1,
   "id": "bcff33a5-4732-48b5-91c3-29e5c82cfbe9",
   "metadata": {},
   "outputs": [],
   "source": [
    "pushshift_query(full_df_path='./longevity_posts.csv', subreddit='longevity', s_type='submissions')"
   ]
  },
  {
   "cell_type": "markdown",
   "id": "2e3ae282-0d8f-481f-a71c-5febc36caa63",
   "metadata": {},
   "source": [
    "#### **Longevity in Comments: Subreddit Longevity**"
   ]
  },
  {
   "cell_type": "code",
   "execution_count": 39,
   "id": "b5f8f07d-154d-4ee1-bc2a-dd4535b3c6a3",
   "metadata": {},
   "outputs": [],
   "source": [
    "for pull in range(3):\n",
    "    \n",
    "    url = f'https://api.pushshift.io/reddit/search/comment/?q=longevity&subreddit=longevity&before=1627143786&size=100'\n",
    "    \n",
    "    res = requests.get(url)\n",
    "    assert res.status_code == 200\n",
    "    comment_list = res.json()['data']"
   ]
  },
  {
   "cell_type": "code",
   "execution_count": 35,
   "id": "6af4bc86-fc7e-4e5e-9dfd-d2143dd3b26f",
   "metadata": {},
   "outputs": [],
   "source": [
    "full_df = pd.DataFrame(comment_list)[['author', 'body', 'score', 'created_utc', 'subreddit']]\n",
    "full_df.to_csv('longevityinlongevity_comments.csv')"
   ]
  },
  {
   "cell_type": "code",
   "execution_count": 41,
   "id": "f382337b-1d1d-4df8-9cc3-c849159bd278",
   "metadata": {},
   "outputs": [],
   "source": [
    "unix_times_stamp = 1627075090\n",
    "def pushshift_query(full_df_path, subreddit, s_type, iters=500):\n",
    "\n",
    "    for pull in range(iters):\n",
    "        full_df = pd.read_csv(full_df_path)\n",
    "        url = f'https://api.pushshift.io/reddit/search/comment/?subreddit=longevity&before={full_df[\"created_utc\"].min()}&size=100'\n",
    "\n",
    "        res = requests.get(url)\n",
    "        print(res.status_code)\n",
    "        if res.status_code == 200:\n",
    "            post_list = res.json()['data']\n",
    "            temp_df = pd.DataFrame(comment_list)[['author', 'body', 'score', 'created_utc', 'subreddit']]\n",
    "            full_df = pd.concat([full_df, temp_df])\n",
    "            print(full_df.shape)\n",
    "            print(full_df['subreddit'].nunique())\n",
    "            print('waiting until next pull...')\n",
    "\n",
    "            time.sleep(5)\n",
    "        else:\n",
    "            continue\n",
    "        full_df.to_csv(full_df_path, index=False)"
   ]
  },
  {
   "cell_type": "code",
   "execution_count": 2,
   "id": "1cb3ccd0-df19-465b-b81f-2aec97ede9b8",
   "metadata": {},
   "outputs": [],
   "source": [
    "pushshift_query(full_df_path='./longevityinlongevity_comments.csv', subreddit='longevity', s_type='comment')"
   ]
  },
  {
   "cell_type": "markdown",
   "id": "296e1b87-ab1c-42ad-9ea4-2085a7550438",
   "metadata": {},
   "source": [
    "#### "
   ]
  },
  {
   "cell_type": "code",
   "execution_count": 5,
   "id": "3822684c-afbe-446a-b029-5f2c16b2a3f6",
   "metadata": {},
   "outputs": [],
   "source": [
    "for pull in range(3):\n",
    "    \n",
    "    url = f'https://api.pushshift.io/reddit/search/comment/?subreddit=longevity&before=162741086&size=100'\n",
    "    \n",
    "    res = requests.get(url)\n",
    "    assert res.status_code == 200\n",
    "    comment_list = res.json()['data']"
   ]
  },
  {
   "cell_type": "code",
   "execution_count": 7,
   "id": "7d8dc3b8-6c01-48db-864d-ce2bd5eeebf7",
   "metadata": {},
   "outputs": [
    {
     "ename": "KeyError",
     "evalue": "\"None of [Index(['author', 'body', 'score', 'created_utc', 'subreddit'], dtype='object')] are in the [columns]\"",
     "output_type": "error",
     "traceback": [
      "\u001b[1;31m---------------------------------------------------------------------------\u001b[0m",
      "\u001b[1;31mKeyError\u001b[0m                                  Traceback (most recent call last)",
      "\u001b[1;32m<ipython-input-7-6e44b3c1951b>\u001b[0m in \u001b[0;36m<module>\u001b[1;34m\u001b[0m\n\u001b[1;32m----> 1\u001b[1;33m \u001b[0mfull_df\u001b[0m \u001b[1;33m=\u001b[0m \u001b[0mpd\u001b[0m\u001b[1;33m.\u001b[0m\u001b[0mDataFrame\u001b[0m\u001b[1;33m(\u001b[0m\u001b[0mcomment_list\u001b[0m\u001b[1;33m)\u001b[0m\u001b[1;33m[\u001b[0m\u001b[1;33m[\u001b[0m\u001b[1;34m'author'\u001b[0m\u001b[1;33m,\u001b[0m \u001b[1;34m'body'\u001b[0m\u001b[1;33m,\u001b[0m \u001b[1;34m'score'\u001b[0m\u001b[1;33m,\u001b[0m \u001b[1;34m'created_utc'\u001b[0m\u001b[1;33m,\u001b[0m \u001b[1;34m'subreddit'\u001b[0m\u001b[1;33m]\u001b[0m\u001b[1;33m]\u001b[0m\u001b[1;33m\u001b[0m\u001b[1;33m\u001b[0m\u001b[0m\n\u001b[0m\u001b[0;32m      2\u001b[0m \u001b[1;31m# full_df.to_csv('longevity_comments.csv')\u001b[0m\u001b[1;33m\u001b[0m\u001b[1;33m\u001b[0m\u001b[1;33m\u001b[0m\u001b[0m\n",
      "\u001b[1;32m~\\Anaconda3\\lib\\site-packages\\pandas\\core\\frame.py\u001b[0m in \u001b[0;36m__getitem__\u001b[1;34m(self, key)\u001b[0m\n\u001b[0;32m   3028\u001b[0m             \u001b[1;32mif\u001b[0m \u001b[0mis_iterator\u001b[0m\u001b[1;33m(\u001b[0m\u001b[0mkey\u001b[0m\u001b[1;33m)\u001b[0m\u001b[1;33m:\u001b[0m\u001b[1;33m\u001b[0m\u001b[1;33m\u001b[0m\u001b[0m\n\u001b[0;32m   3029\u001b[0m                 \u001b[0mkey\u001b[0m \u001b[1;33m=\u001b[0m \u001b[0mlist\u001b[0m\u001b[1;33m(\u001b[0m\u001b[0mkey\u001b[0m\u001b[1;33m)\u001b[0m\u001b[1;33m\u001b[0m\u001b[1;33m\u001b[0m\u001b[0m\n\u001b[1;32m-> 3030\u001b[1;33m             \u001b[0mindexer\u001b[0m \u001b[1;33m=\u001b[0m \u001b[0mself\u001b[0m\u001b[1;33m.\u001b[0m\u001b[0mloc\u001b[0m\u001b[1;33m.\u001b[0m\u001b[0m_get_listlike_indexer\u001b[0m\u001b[1;33m(\u001b[0m\u001b[0mkey\u001b[0m\u001b[1;33m,\u001b[0m \u001b[0maxis\u001b[0m\u001b[1;33m=\u001b[0m\u001b[1;36m1\u001b[0m\u001b[1;33m,\u001b[0m \u001b[0mraise_missing\u001b[0m\u001b[1;33m=\u001b[0m\u001b[1;32mTrue\u001b[0m\u001b[1;33m)\u001b[0m\u001b[1;33m[\u001b[0m\u001b[1;36m1\u001b[0m\u001b[1;33m]\u001b[0m\u001b[1;33m\u001b[0m\u001b[1;33m\u001b[0m\u001b[0m\n\u001b[0m\u001b[0;32m   3031\u001b[0m \u001b[1;33m\u001b[0m\u001b[0m\n\u001b[0;32m   3032\u001b[0m         \u001b[1;31m# take() does not accept boolean indexers\u001b[0m\u001b[1;33m\u001b[0m\u001b[1;33m\u001b[0m\u001b[1;33m\u001b[0m\u001b[0m\n",
      "\u001b[1;32m~\\Anaconda3\\lib\\site-packages\\pandas\\core\\indexing.py\u001b[0m in \u001b[0;36m_get_listlike_indexer\u001b[1;34m(self, key, axis, raise_missing)\u001b[0m\n\u001b[0;32m   1264\u001b[0m             \u001b[0mkeyarr\u001b[0m\u001b[1;33m,\u001b[0m \u001b[0mindexer\u001b[0m\u001b[1;33m,\u001b[0m \u001b[0mnew_indexer\u001b[0m \u001b[1;33m=\u001b[0m \u001b[0max\u001b[0m\u001b[1;33m.\u001b[0m\u001b[0m_reindex_non_unique\u001b[0m\u001b[1;33m(\u001b[0m\u001b[0mkeyarr\u001b[0m\u001b[1;33m)\u001b[0m\u001b[1;33m\u001b[0m\u001b[1;33m\u001b[0m\u001b[0m\n\u001b[0;32m   1265\u001b[0m \u001b[1;33m\u001b[0m\u001b[0m\n\u001b[1;32m-> 1266\u001b[1;33m         \u001b[0mself\u001b[0m\u001b[1;33m.\u001b[0m\u001b[0m_validate_read_indexer\u001b[0m\u001b[1;33m(\u001b[0m\u001b[0mkeyarr\u001b[0m\u001b[1;33m,\u001b[0m \u001b[0mindexer\u001b[0m\u001b[1;33m,\u001b[0m \u001b[0maxis\u001b[0m\u001b[1;33m,\u001b[0m \u001b[0mraise_missing\u001b[0m\u001b[1;33m=\u001b[0m\u001b[0mraise_missing\u001b[0m\u001b[1;33m)\u001b[0m\u001b[1;33m\u001b[0m\u001b[1;33m\u001b[0m\u001b[0m\n\u001b[0m\u001b[0;32m   1267\u001b[0m         \u001b[1;32mreturn\u001b[0m \u001b[0mkeyarr\u001b[0m\u001b[1;33m,\u001b[0m \u001b[0mindexer\u001b[0m\u001b[1;33m\u001b[0m\u001b[1;33m\u001b[0m\u001b[0m\n\u001b[0;32m   1268\u001b[0m \u001b[1;33m\u001b[0m\u001b[0m\n",
      "\u001b[1;32m~\\Anaconda3\\lib\\site-packages\\pandas\\core\\indexing.py\u001b[0m in \u001b[0;36m_validate_read_indexer\u001b[1;34m(self, key, indexer, axis, raise_missing)\u001b[0m\n\u001b[0;32m   1306\u001b[0m             \u001b[1;32mif\u001b[0m \u001b[0mmissing\u001b[0m \u001b[1;33m==\u001b[0m \u001b[0mlen\u001b[0m\u001b[1;33m(\u001b[0m\u001b[0mindexer\u001b[0m\u001b[1;33m)\u001b[0m\u001b[1;33m:\u001b[0m\u001b[1;33m\u001b[0m\u001b[1;33m\u001b[0m\u001b[0m\n\u001b[0;32m   1307\u001b[0m                 \u001b[0maxis_name\u001b[0m \u001b[1;33m=\u001b[0m \u001b[0mself\u001b[0m\u001b[1;33m.\u001b[0m\u001b[0mobj\u001b[0m\u001b[1;33m.\u001b[0m\u001b[0m_get_axis_name\u001b[0m\u001b[1;33m(\u001b[0m\u001b[0maxis\u001b[0m\u001b[1;33m)\u001b[0m\u001b[1;33m\u001b[0m\u001b[1;33m\u001b[0m\u001b[0m\n\u001b[1;32m-> 1308\u001b[1;33m                 \u001b[1;32mraise\u001b[0m \u001b[0mKeyError\u001b[0m\u001b[1;33m(\u001b[0m\u001b[1;34mf\"None of [{key}] are in the [{axis_name}]\"\u001b[0m\u001b[1;33m)\u001b[0m\u001b[1;33m\u001b[0m\u001b[1;33m\u001b[0m\u001b[0m\n\u001b[0m\u001b[0;32m   1309\u001b[0m \u001b[1;33m\u001b[0m\u001b[0m\n\u001b[0;32m   1310\u001b[0m             \u001b[0max\u001b[0m \u001b[1;33m=\u001b[0m \u001b[0mself\u001b[0m\u001b[1;33m.\u001b[0m\u001b[0mobj\u001b[0m\u001b[1;33m.\u001b[0m\u001b[0m_get_axis\u001b[0m\u001b[1;33m(\u001b[0m\u001b[0maxis\u001b[0m\u001b[1;33m)\u001b[0m\u001b[1;33m\u001b[0m\u001b[1;33m\u001b[0m\u001b[0m\n",
      "\u001b[1;31mKeyError\u001b[0m: \"None of [Index(['author', 'body', 'score', 'created_utc', 'subreddit'], dtype='object')] are in the [columns]\""
     ]
    }
   ],
   "source": [
    "full_df = pd.DataFrame(comment_list)[['author', 'body', 'score', 'created_utc', 'subreddit']]\n",
    "# full_df.to_csv('longevity_comments.csv')"
   ]
  },
  {
   "cell_type": "code",
   "execution_count": null,
   "id": "ee48fd94-110b-49f7-b8ce-e4ca62e289f9",
   "metadata": {},
   "outputs": [],
   "source": [
    "unix_times_stamp = 1627075090\n",
    "def pushshift_query(full_df_path, subreddit, s_type, iters=500):\n",
    "\n",
    "    for pull in range(iters):\n",
    "        full_df = pd.read_csv(full_df_path)\n",
    "        url = f'https://api.pushshift.io/reddit/search/comment/?q=longevity&subreddit=longevity&before={full_df[\"created_utc\"].min()}&size=100'\n",
    "\n",
    "        res = requests.get(url)\n",
    "        print(res.status_code)\n",
    "        if res.status_code == 200:\n",
    "            post_list = res.json()['data']\n",
    "            temp_df = pd.DataFrame(comment_list)[['author', 'body', 'score', 'created_utc', 'subreddit']]\n",
    "            full_df = pd.concat([full_df, temp_df])\n",
    "            print(full_df.shape)\n",
    "            print(full_df['subreddit'].nunique())\n",
    "            print('waiting until next pull...')\n",
    "\n",
    "            time.sleep(5)\n",
    "        else:\n",
    "            continue\n",
    "        full_df.to_csv(full_df_path, index=False)"
   ]
  },
  {
   "cell_type": "code",
   "execution_count": null,
   "id": "75728b13-bf38-4c44-bbec-5dde530272c4",
   "metadata": {},
   "outputs": [],
   "source": [
    "pushshift_query(full_df_path='./longevityinlongevity_comments.csv', subreddit='longevity', s_type='comment')"
   ]
  }
 ],
 "metadata": {
  "kernelspec": {
   "display_name": "Python 3",
   "language": "python",
   "name": "python3"
  },
  "language_info": {
   "codemirror_mode": {
    "name": "ipython",
    "version": 3
   },
   "file_extension": ".py",
   "mimetype": "text/x-python",
   "name": "python",
   "nbconvert_exporter": "python",
   "pygments_lexer": "ipython3",
   "version": "3.8.8"
  }
 },
 "nbformat": 4,
 "nbformat_minor": 5
}
