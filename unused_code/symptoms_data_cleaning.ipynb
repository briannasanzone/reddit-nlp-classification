{
 "cells": [
  {
   "cell_type": "code",
   "execution_count": 1,
   "id": "1dd7ccb8-00cc-4cf8-ac1e-15f69231f1b2",
   "metadata": {},
   "outputs": [],
   "source": [
    "import pandas as pd\n",
    "import numpy as np\n",
    "import re"
   ]
  },
  {
   "cell_type": "code",
   "execution_count": 2,
   "id": "93cc7596-2e9b-49a1-b145-00d0b2fd379b",
   "metadata": {},
   "outputs": [
    {
     "data": {
      "text/plain": [
       "(11191, 5)"
      ]
     },
     "execution_count": 2,
     "metadata": {},
     "output_type": "execute_result"
    }
   ],
   "source": [
    "asksci=pd.read_csv('symptomsinaskscience_comments.csv')\n",
    "longevity = pd.read_csv('symptomsinlongevity_comments.csv')\n",
    "df = pd.concat([asksci, longevity])\n",
    "df.drop(columns='Unnamed: 0', inplace=True)\n",
    "df.shape"
   ]
  },
  {
   "cell_type": "code",
   "execution_count": 3,
   "id": "a6b6d149-be4f-4382-9be2-22d026192e5e",
   "metadata": {},
   "outputs": [
    {
     "data": {
      "text/html": [
       "<div>\n",
       "<style scoped>\n",
       "    .dataframe tbody tr th:only-of-type {\n",
       "        vertical-align: middle;\n",
       "    }\n",
       "\n",
       "    .dataframe tbody tr th {\n",
       "        vertical-align: top;\n",
       "    }\n",
       "\n",
       "    .dataframe thead th {\n",
       "        text-align: right;\n",
       "    }\n",
       "</style>\n",
       "<table border=\"1\" class=\"dataframe\">\n",
       "  <thead>\n",
       "    <tr style=\"text-align: right;\">\n",
       "      <th></th>\n",
       "      <th>author</th>\n",
       "      <th>body</th>\n",
       "      <th>score</th>\n",
       "      <th>created_utc</th>\n",
       "      <th>subreddit</th>\n",
       "    </tr>\n",
       "  </thead>\n",
       "  <tbody>\n",
       "    <tr>\n",
       "      <th>0</th>\n",
       "      <td>KATIE_EATS_POOP</td>\n",
       "      <td>Well… It kind of depends on how you define “be...</td>\n",
       "      <td>51</td>\n",
       "      <td>1627085302</td>\n",
       "      <td>askscience</td>\n",
       "    </tr>\n",
       "    <tr>\n",
       "      <th>1</th>\n",
       "      <td>nodiaque</td>\n",
       "      <td>Nop that's not it. % is the reduction of sympt...</td>\n",
       "      <td>-1</td>\n",
       "      <td>1627079785</td>\n",
       "      <td>askscience</td>\n",
       "    </tr>\n",
       "    <tr>\n",
       "      <th>2</th>\n",
       "      <td>nodiaque</td>\n",
       "      <td>This is not what the % efficiency mean at all....</td>\n",
       "      <td>-4</td>\n",
       "      <td>1627079669</td>\n",
       "      <td>askscience</td>\n",
       "    </tr>\n",
       "    <tr>\n",
       "      <th>3</th>\n",
       "      <td>zopGorgel</td>\n",
       "      <td>This is exactly my main concern, the long last...</td>\n",
       "      <td>6</td>\n",
       "      <td>1627066537</td>\n",
       "      <td>askscience</td>\n",
       "    </tr>\n",
       "    <tr>\n",
       "      <th>4</th>\n",
       "      <td>plaid-lemming</td>\n",
       "      <td>There's some pre-publication data out of Israe...</td>\n",
       "      <td>34</td>\n",
       "      <td>1627056640</td>\n",
       "      <td>askscience</td>\n",
       "    </tr>\n",
       "  </tbody>\n",
       "</table>\n",
       "</div>"
      ],
      "text/plain": [
       "            author                                               body  score  \\\n",
       "0  KATIE_EATS_POOP  Well… It kind of depends on how you define “be...     51   \n",
       "1         nodiaque  Nop that's not it. % is the reduction of sympt...     -1   \n",
       "2         nodiaque  This is not what the % efficiency mean at all....     -4   \n",
       "3        zopGorgel  This is exactly my main concern, the long last...      6   \n",
       "4    plaid-lemming  There's some pre-publication data out of Israe...     34   \n",
       "\n",
       "   created_utc   subreddit  \n",
       "0   1627085302  askscience  \n",
       "1   1627079785  askscience  \n",
       "2   1627079669  askscience  \n",
       "3   1627066537  askscience  \n",
       "4   1627056640  askscience  "
      ]
     },
     "execution_count": 3,
     "metadata": {},
     "output_type": "execute_result"
    }
   ],
   "source": [
    "df.head()"
   ]
  },
  {
   "cell_type": "code",
   "execution_count": 4,
   "id": "9ce9cd5a-13a3-4ad3-af0e-b79a9d0baf94",
   "metadata": {},
   "outputs": [
    {
     "name": "stdout",
     "output_type": "stream",
     "text": [
      "<class 'pandas.core.frame.DataFrame'>\n",
      "Int64Index: 11191 entries, 0 to 90\n",
      "Data columns (total 5 columns):\n",
      " #   Column       Non-Null Count  Dtype \n",
      "---  ------       --------------  ----- \n",
      " 0   author       11191 non-null  object\n",
      " 1   body         11191 non-null  object\n",
      " 2   score        11191 non-null  int64 \n",
      " 3   created_utc  11191 non-null  int64 \n",
      " 4   subreddit    11191 non-null  object\n",
      "dtypes: int64(2), object(3)\n",
      "memory usage: 524.6+ KB\n"
     ]
    }
   ],
   "source": [
    "df.info()"
   ]
  },
  {
   "cell_type": "code",
   "execution_count": 5,
   "id": "ba246fb7-2eeb-4e81-ae05-763a8543ff5b",
   "metadata": {},
   "outputs": [
    {
     "data": {
      "text/plain": [
       "askscience    11100\n",
       "longevity        91\n",
       "Name: subreddit, dtype: int64"
      ]
     },
     "execution_count": 5,
     "metadata": {},
     "output_type": "execute_result"
    }
   ],
   "source": [
    "df['subreddit'].value_counts()"
   ]
  },
  {
   "cell_type": "code",
   "execution_count": 6,
   "id": "6f13e5d8-0335-46e2-89c1-e2c20e77dd63",
   "metadata": {},
   "outputs": [],
   "source": [
    "removed_comment = \"Thank you for your submission! Unfortunately, your submission has been removed for the following reason(s):\\n\\n* This subreddit does not provide [medical or safety advice] (http://www.reddit.com/r/askscience/comments/s4chc/meta_medical_advice_on_askscience_the_guidelines/). Please see our [guidelines](https://www.reddit.com/r/AskScience/wiki/quickstart/guidelines#wiki_no_medical_advice). If you have concerns about your or someone else's health, you need to speak to a medical professional.\\n\\n* Hi, we don't allow medical advice questions, but HIV tests are a simple blood testing procedure - please see a professional and get a test if you're concerned, rather than looking for symptoms\\n\\n\\n\\nIf you disagree with this decision, please send a [message to the moderators.](https://www.reddit.com/message/compose?to=%2Fr%2Faskscience)\"\n",
    "df = df[(df['body'] != removed_comment)]"
   ]
  },
  {
   "cell_type": "code",
   "execution_count": 7,
   "id": "d1d8c3fb-a7b4-4156-b84e-28e518df4ea0",
   "metadata": {},
   "outputs": [
    {
     "data": {
      "text/plain": [
       "count                                                 11190\n",
       "unique                                                11157\n",
       "top       Ok short answer: yes\\n\\nIn reality: no\\n\\nHere...\n",
       "freq                                                      6\n",
       "Name: body, dtype: object"
      ]
     },
     "execution_count": 7,
     "metadata": {},
     "output_type": "execute_result"
    }
   ],
   "source": [
    "df['body'].describe()"
   ]
  },
  {
   "cell_type": "code",
   "execution_count": 8,
   "id": "262074e9-76a4-4c2e-aa92-508943987dc1",
   "metadata": {},
   "outputs": [
    {
     "data": {
      "text/plain": [
       "0"
      ]
     },
     "execution_count": 8,
     "metadata": {},
     "output_type": "execute_result"
    }
   ],
   "source": [
    "df['body'].isna().sum()"
   ]
  },
  {
   "cell_type": "code",
   "execution_count": 9,
   "id": "6f3e79ee-269d-409d-8580-356ee67cf444",
   "metadata": {},
   "outputs": [],
   "source": [
    "df['body'] = df['body'].map(lambda x: re.sub(\"[^a-zA-Z]\", \" \", x))"
   ]
  },
  {
   "cell_type": "code",
   "execution_count": 10,
   "id": "f63a7fd1-790f-4cf8-834e-f0ebc6c8288b",
   "metadata": {},
   "outputs": [
    {
     "data": {
      "text/html": [
       "<div>\n",
       "<style scoped>\n",
       "    .dataframe tbody tr th:only-of-type {\n",
       "        vertical-align: middle;\n",
       "    }\n",
       "\n",
       "    .dataframe tbody tr th {\n",
       "        vertical-align: top;\n",
       "    }\n",
       "\n",
       "    .dataframe thead th {\n",
       "        text-align: right;\n",
       "    }\n",
       "</style>\n",
       "<table border=\"1\" class=\"dataframe\">\n",
       "  <thead>\n",
       "    <tr style=\"text-align: right;\">\n",
       "      <th></th>\n",
       "      <th>author</th>\n",
       "      <th>body</th>\n",
       "      <th>score</th>\n",
       "      <th>created_utc</th>\n",
       "      <th>subreddit</th>\n",
       "    </tr>\n",
       "  </thead>\n",
       "  <tbody>\n",
       "    <tr>\n",
       "      <th>0</th>\n",
       "      <td>KATIE_EATS_POOP</td>\n",
       "      <td>Well  It kind of depends on how you define  be...</td>\n",
       "      <td>51</td>\n",
       "      <td>1627085302</td>\n",
       "      <td>askscience</td>\n",
       "    </tr>\n",
       "    <tr>\n",
       "      <th>1</th>\n",
       "      <td>nodiaque</td>\n",
       "      <td>Nop that s not it    is the reduction of sympt...</td>\n",
       "      <td>-1</td>\n",
       "      <td>1627079785</td>\n",
       "      <td>askscience</td>\n",
       "    </tr>\n",
       "    <tr>\n",
       "      <th>2</th>\n",
       "      <td>nodiaque</td>\n",
       "      <td>This is not what the   efficiency mean at all ...</td>\n",
       "      <td>-4</td>\n",
       "      <td>1627079669</td>\n",
       "      <td>askscience</td>\n",
       "    </tr>\n",
       "    <tr>\n",
       "      <th>3</th>\n",
       "      <td>zopGorgel</td>\n",
       "      <td>This is exactly my main concern  the long last...</td>\n",
       "      <td>6</td>\n",
       "      <td>1627066537</td>\n",
       "      <td>askscience</td>\n",
       "    </tr>\n",
       "    <tr>\n",
       "      <th>4</th>\n",
       "      <td>plaid-lemming</td>\n",
       "      <td>There s some pre publication data out of Israe...</td>\n",
       "      <td>34</td>\n",
       "      <td>1627056640</td>\n",
       "      <td>askscience</td>\n",
       "    </tr>\n",
       "  </tbody>\n",
       "</table>\n",
       "</div>"
      ],
      "text/plain": [
       "            author                                               body  score  \\\n",
       "0  KATIE_EATS_POOP  Well  It kind of depends on how you define  be...     51   \n",
       "1         nodiaque  Nop that s not it    is the reduction of sympt...     -1   \n",
       "2         nodiaque  This is not what the   efficiency mean at all ...     -4   \n",
       "3        zopGorgel  This is exactly my main concern  the long last...      6   \n",
       "4    plaid-lemming  There s some pre publication data out of Israe...     34   \n",
       "\n",
       "   created_utc   subreddit  \n",
       "0   1627085302  askscience  \n",
       "1   1627079785  askscience  \n",
       "2   1627079669  askscience  \n",
       "3   1627066537  askscience  \n",
       "4   1627056640  askscience  "
      ]
     },
     "execution_count": 10,
     "metadata": {},
     "output_type": "execute_result"
    }
   ],
   "source": [
    "df.head()"
   ]
  },
  {
   "cell_type": "code",
   "execution_count": 11,
   "id": "e20dd728-8081-4aac-8635-8854a5cb7082",
   "metadata": {},
   "outputs": [],
   "source": [
    "subreddit_dict = {'longevity':0,\n",
    "            'askscience':1}\n",
    "df['subreddit'] = df['subreddit'].map(subreddit_dict)"
   ]
  },
  {
   "cell_type": "code",
   "execution_count": 12,
   "id": "9245ca7a-9925-410b-aee7-545dfe32fbb7",
   "metadata": {},
   "outputs": [
    {
     "data": {
      "text/html": [
       "<div>\n",
       "<style scoped>\n",
       "    .dataframe tbody tr th:only-of-type {\n",
       "        vertical-align: middle;\n",
       "    }\n",
       "\n",
       "    .dataframe tbody tr th {\n",
       "        vertical-align: top;\n",
       "    }\n",
       "\n",
       "    .dataframe thead th {\n",
       "        text-align: right;\n",
       "    }\n",
       "</style>\n",
       "<table border=\"1\" class=\"dataframe\">\n",
       "  <thead>\n",
       "    <tr style=\"text-align: right;\">\n",
       "      <th></th>\n",
       "      <th>author</th>\n",
       "      <th>body</th>\n",
       "      <th>score</th>\n",
       "      <th>created_utc</th>\n",
       "      <th>subreddit</th>\n",
       "    </tr>\n",
       "  </thead>\n",
       "  <tbody>\n",
       "    <tr>\n",
       "      <th>0</th>\n",
       "      <td>KATIE_EATS_POOP</td>\n",
       "      <td>Well  It kind of depends on how you define  be...</td>\n",
       "      <td>51</td>\n",
       "      <td>1627085302</td>\n",
       "      <td>1</td>\n",
       "    </tr>\n",
       "    <tr>\n",
       "      <th>1</th>\n",
       "      <td>nodiaque</td>\n",
       "      <td>Nop that s not it    is the reduction of sympt...</td>\n",
       "      <td>-1</td>\n",
       "      <td>1627079785</td>\n",
       "      <td>1</td>\n",
       "    </tr>\n",
       "    <tr>\n",
       "      <th>2</th>\n",
       "      <td>nodiaque</td>\n",
       "      <td>This is not what the   efficiency mean at all ...</td>\n",
       "      <td>-4</td>\n",
       "      <td>1627079669</td>\n",
       "      <td>1</td>\n",
       "    </tr>\n",
       "    <tr>\n",
       "      <th>3</th>\n",
       "      <td>zopGorgel</td>\n",
       "      <td>This is exactly my main concern  the long last...</td>\n",
       "      <td>6</td>\n",
       "      <td>1627066537</td>\n",
       "      <td>1</td>\n",
       "    </tr>\n",
       "    <tr>\n",
       "      <th>4</th>\n",
       "      <td>plaid-lemming</td>\n",
       "      <td>There s some pre publication data out of Israe...</td>\n",
       "      <td>34</td>\n",
       "      <td>1627056640</td>\n",
       "      <td>1</td>\n",
       "    </tr>\n",
       "  </tbody>\n",
       "</table>\n",
       "</div>"
      ],
      "text/plain": [
       "            author                                               body  score  \\\n",
       "0  KATIE_EATS_POOP  Well  It kind of depends on how you define  be...     51   \n",
       "1         nodiaque  Nop that s not it    is the reduction of sympt...     -1   \n",
       "2         nodiaque  This is not what the   efficiency mean at all ...     -4   \n",
       "3        zopGorgel  This is exactly my main concern  the long last...      6   \n",
       "4    plaid-lemming  There s some pre publication data out of Israe...     34   \n",
       "\n",
       "   created_utc  subreddit  \n",
       "0   1627085302          1  \n",
       "1   1627079785          1  \n",
       "2   1627079669          1  \n",
       "3   1627066537          1  \n",
       "4   1627056640          1  "
      ]
     },
     "execution_count": 12,
     "metadata": {},
     "output_type": "execute_result"
    }
   ],
   "source": [
    "df.head()"
   ]
  },
  {
   "cell_type": "code",
   "execution_count": 14,
   "id": "bf023472-b6d9-4d24-a449-2e7a120d0d96",
   "metadata": {},
   "outputs": [],
   "source": [
    "df.to_csv('symptoms.csv')"
   ]
  },
  {
   "cell_type": "code",
   "execution_count": null,
   "id": "d87c33b8-2b22-4ee8-8863-ea8250f30da0",
   "metadata": {},
   "outputs": [],
   "source": []
  }
 ],
 "metadata": {
  "kernelspec": {
   "display_name": "Python 3",
   "language": "python",
   "name": "python3"
  },
  "language_info": {
   "codemirror_mode": {
    "name": "ipython",
    "version": 3
   },
   "file_extension": ".py",
   "mimetype": "text/x-python",
   "name": "python",
   "nbconvert_exporter": "python",
   "pygments_lexer": "ipython3",
   "version": "3.8.8"
  }
 },
 "nbformat": 4,
 "nbformat_minor": 5
}
