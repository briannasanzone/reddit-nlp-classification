{
 "cells": [
  {
   "cell_type": "markdown",
   "id": "6f646c9f-f8d6-485e-ac52-c0c683e1f17b",
   "metadata": {},
   "source": [
    "#### **Imports**"
   ]
  },
  {
   "cell_type": "code",
   "execution_count": 31,
   "id": "d696ccc2-cd5f-438d-a4c3-de87ca517e6b",
   "metadata": {},
   "outputs": [],
   "source": [
    "import pandas as pd\n",
    "import numpy as np\n",
    "import requests\n",
    "import time\n",
    "import nltk\n",
    "import regex as re\n",
    "from collections import Counter\n",
    "import matplotlib.pyplot as plt\n",
    "import seaborn as sns\n",
    "\n",
    "from sklearn.model_selection import train_test_split, GridSearchCV, cross_val_score\n",
    "from nltk.corpus import stopwords\n",
    "from sklearn.preprocessing import StandardScaler\n",
    "from sklearn.linear_model import LogisticRegression\n",
    "from sklearn.metrics import confusion_matrix, ConfusionMatrixDisplay, accuracy_score\n",
    "from sklearn.feature_extraction.text import CountVectorizer, TfidfVectorizer\n",
    "from sklearn.pipeline import Pipeline\n",
    "from sklearn.naive_bayes import MultinomialNB, BernoulliNB\n",
    "from sklearn.tree import DecisionTreeClassifier, plot_tree, export_text"
   ]
  },
  {
   "cell_type": "markdown",
   "id": "a53b11b8-165c-455d-8e0b-3d708a45ff9c",
   "metadata": {},
   "source": [
    "##### **Read in .csv file**"
   ]
  },
  {
   "cell_type": "code",
   "execution_count": 32,
   "id": "b62f21a8-ec04-4e8e-b06d-a57b2834ca73",
   "metadata": {},
   "outputs": [],
   "source": [
    "# read in dataframe saved as .csv file\n",
    "df = pd.read_csv('posts.csv')\n",
    "# drop first column\n",
    "df.drop(columns='Unnamed: 0', inplace=True)"
   ]
  },
  {
   "cell_type": "code",
   "execution_count": 33,
   "id": "691670a4-10e7-46d2-9b10-be70b511b4fe",
   "metadata": {},
   "outputs": [
    {
     "data": {
      "text/html": [
       "<div>\n",
       "<style scoped>\n",
       "    .dataframe tbody tr th:only-of-type {\n",
       "        vertical-align: middle;\n",
       "    }\n",
       "\n",
       "    .dataframe tbody tr th {\n",
       "        vertical-align: top;\n",
       "    }\n",
       "\n",
       "    .dataframe thead th {\n",
       "        text-align: right;\n",
       "    }\n",
       "</style>\n",
       "<table border=\"1\" class=\"dataframe\">\n",
       "  <thead>\n",
       "    <tr style=\"text-align: right;\">\n",
       "      <th></th>\n",
       "      <th>title</th>\n",
       "      <th>author</th>\n",
       "      <th>created_utc</th>\n",
       "      <th>score</th>\n",
       "      <th>subreddit</th>\n",
       "      <th>text</th>\n",
       "    </tr>\n",
       "  </thead>\n",
       "  <tbody>\n",
       "    <tr>\n",
       "      <th>0</th>\n",
       "      <td>Why do we vomit when we are too hot?</td>\n",
       "      <td>childloser</td>\n",
       "      <td>1627143368</td>\n",
       "      <td>1</td>\n",
       "      <td>1</td>\n",
       "      <td>Why do we vomit when we are too hot</td>\n",
       "    </tr>\n",
       "    <tr>\n",
       "      <th>1</th>\n",
       "      <td>How much CO2 is released by manufacturing a ki...</td>\n",
       "      <td>banmeyoucoward</td>\n",
       "      <td>1627143292</td>\n",
       "      <td>1</td>\n",
       "      <td>1</td>\n",
       "      <td>How much CO  is released by manufacturing a ki...</td>\n",
       "    </tr>\n",
       "    <tr>\n",
       "      <th>2</th>\n",
       "      <td>Is the level of AI portrayed in movies (fully ...</td>\n",
       "      <td>SchoolThrow123</td>\n",
       "      <td>1627143240</td>\n",
       "      <td>1</td>\n",
       "      <td>1</td>\n",
       "      <td>Is the level of AI portrayed in movies  fully ...</td>\n",
       "    </tr>\n",
       "    <tr>\n",
       "      <th>3</th>\n",
       "      <td>Why do some animals have moustache and whiskers</td>\n",
       "      <td>notowork</td>\n",
       "      <td>1627143114</td>\n",
       "      <td>1</td>\n",
       "      <td>1</td>\n",
       "      <td>Why do some animals have moustache and whiskers</td>\n",
       "    </tr>\n",
       "    <tr>\n",
       "      <th>4</th>\n",
       "      <td>What is the maximal theoretical size for an an...</td>\n",
       "      <td>Vantaie</td>\n",
       "      <td>1627142862</td>\n",
       "      <td>1</td>\n",
       "      <td>1</td>\n",
       "      <td>What is the maximal theoretical size for an an...</td>\n",
       "    </tr>\n",
       "  </tbody>\n",
       "</table>\n",
       "</div>"
      ],
      "text/plain": [
       "                                               title          author  \\\n",
       "0               Why do we vomit when we are too hot?      childloser   \n",
       "1  How much CO2 is released by manufacturing a ki...  banmeyoucoward   \n",
       "2  Is the level of AI portrayed in movies (fully ...  SchoolThrow123   \n",
       "3    Why do some animals have moustache and whiskers        notowork   \n",
       "4  What is the maximal theoretical size for an an...         Vantaie   \n",
       "\n",
       "   created_utc  score  subreddit  \\\n",
       "0   1627143368      1          1   \n",
       "1   1627143292      1          1   \n",
       "2   1627143240      1          1   \n",
       "3   1627143114      1          1   \n",
       "4   1627142862      1          1   \n",
       "\n",
       "                                                text  \n",
       "0               Why do we vomit when we are too hot   \n",
       "1  How much CO  is released by manufacturing a ki...  \n",
       "2  Is the level of AI portrayed in movies  fully ...  \n",
       "3    Why do some animals have moustache and whiskers  \n",
       "4  What is the maximal theoretical size for an an...  "
      ]
     },
     "execution_count": 33,
     "metadata": {},
     "output_type": "execute_result"
    }
   ],
   "source": [
    "df.head()"
   ]
  },
  {
   "cell_type": "code",
   "execution_count": 34,
   "id": "a748489b-0291-4742-9daa-124008e93585",
   "metadata": {},
   "outputs": [],
   "source": [
    "X= df['text']\n",
    "y= df['subreddit']\n",
    "\n",
    "X = [word.lower().split() for word in df['text']]\n",
    "stops = set(stopwords.words('english'))\n",
    "posts_list = []\n",
    "for post in X:\n",
    "    meaningful_words = [word for word in post if word not in stops]\n",
    "    meaningful_post = \" \".join(meaningful_words)\n",
    "    posts_list.append(meaningful_post)\n",
    "    \n",
    "modeltext = pd.Series(posts_list)\n",
    "df['modeltext'] = modeltext\n",
    "X = df['modeltext']\n",
    "y = df['subreddit']\n",
    "X_train, X_test, y_train, y_test = train_test_split(X,\n",
    "                                   y,\n",
    "                                   train_size=0.75,\n",
    "                                   stratify=y,\n",
    "                                   random_state=42)\n",
    "\n",
    "# cv = CountVectorizer()\n",
    "# cv.fit(X_train)\n",
    "\n",
    "# X_train_cv = cv.transform(X_train)\n",
    "# X_test_cv = cv.transform(X_test)"
   ]
  },
  {
   "cell_type": "markdown",
   "id": "bbea2dfc-a0ef-4a86-8e62-0e3b60dcf356",
   "metadata": {},
   "source": [
    "##### **Baseline Accuracy**"
   ]
  },
  {
   "cell_type": "code",
   "execution_count": 35,
   "id": "92ffa1cb-9950-48ee-bacf-91c70578aca8",
   "metadata": {},
   "outputs": [
    {
     "data": {
      "text/plain": [
       "1    0.655863\n",
       "0    0.344137\n",
       "Name: subreddit, dtype: float64"
      ]
     },
     "execution_count": 35,
     "metadata": {},
     "output_type": "execute_result"
    }
   ],
   "source": [
    "y.value_counts(normalize=True)"
   ]
  },
  {
   "cell_type": "code",
   "execution_count": 36,
   "id": "31613221-fc66-4e84-8329-53524797c50b",
   "metadata": {},
   "outputs": [],
   "source": [
    "feature_names = cv.get_feature_names()"
   ]
  },
  {
   "cell_type": "code",
   "execution_count": 37,
   "id": "aae9b898-5d05-47cf-a9ac-6ddca98c0dbe",
   "metadata": {},
   "outputs": [],
   "source": [
    "# text_transformed=pd.DataFrame(text_transformed.todense())\n",
    "# text_transformed.columns = feature_names\n",
    "# (text_transformed.sum().sort_values(ascending = False).head(15))\n",
    "# text_transformed.sum().sort_values(ascending = False).head(15).plot(kind='barh');"
   ]
  },
  {
   "cell_type": "code",
   "execution_count": 40,
   "id": "32e749d7-d87f-4881-8ceb-6b5077a5ca27",
   "metadata": {},
   "outputs": [
    {
     "name": "stdout",
     "output_type": "stream",
     "text": [
      "Fitting 5 folds for each of 288 candidates, totalling 1440 fits\n"
     ]
    },
    {
     "name": "stderr",
     "output_type": "stream",
     "text": [
      "C:\\Users\\Brianna\\Anaconda3\\lib\\site-packages\\sklearn\\model_selection\\_search.py:918: UserWarning: One or more of the test scores are non-finite: [       nan 0.83209866 0.87345441 0.87506504        nan 0.92848826\n",
      " 0.92719977 0.92722455        nan 0.83209866 0.87526329 0.87692346\n",
      "        nan 0.92804223 0.92655551 0.92648118        nan 0.83212344\n",
      " 0.87355352 0.87518893        nan 0.92836436 0.92732366 0.92732366\n",
      "        nan 0.83209866 0.87531285 0.8768739         nan 0.92799267\n",
      " 0.92672896 0.92672896        nan 0.83209866 0.87347919 0.8751146\n",
      "        nan 0.92838914 0.92712543 0.92715021        nan 0.83209866\n",
      " 0.87538718 0.87689868        nan 0.92811656 0.92650597 0.92645641\n",
      "        nan 0.83212344 0.87672521 0.87870749        nan 0.93721042\n",
      " 0.93743343 0.93745821        nan 0.83209866 0.87959955 0.88091282\n",
      "        nan 0.93706174 0.93738383 0.93733427        nan 0.83209866\n",
      " 0.87677477 0.87873227        nan 0.93728475 0.9374582  0.93743342\n",
      "        nan 0.83209866 0.87957477 0.88091282        nan 0.9371113\n",
      " 0.93745816 0.93750772        nan 0.83209866 0.87672521 0.87868271\n",
      "        nan 0.93725998 0.93740865 0.93745821        nan 0.83212344\n",
      " 0.87957477 0.8809376         nan 0.93703695 0.93730949 0.93730948\n",
      "        nan 0.83212344 0.87704734 0.87900485        nan 0.93773075\n",
      " 0.93879629 0.93882107        nan 0.83212344 0.88009511 0.88116061\n",
      "        nan 0.93800331 0.93862279 0.93862279        nan 0.83212344\n",
      " 0.87699778 0.87900485        nan 0.93778031 0.93882108 0.9387963\n",
      "        nan 0.83209866 0.88011989 0.88118538        nan 0.93773075\n",
      " 0.93864754 0.93867232        nan 0.83209866 0.87702256 0.87898008\n",
      "        nan 0.93787942 0.93899452 0.9390193         nan 0.83209866\n",
      " 0.88002078 0.88108627        nan 0.9379042  0.93864755 0.93862277\n",
      "        nan 0.83209866 0.87345441 0.87506504        nan 0.92851304\n",
      " 0.92719977 0.92722455        nan 0.83209866 0.87526329 0.87692346\n",
      "        nan 0.92806701 0.92655551 0.92648118        nan 0.83212344\n",
      " 0.87355352 0.87518893        nan 0.92838914 0.92732366 0.92732366\n",
      "        nan 0.83212344 0.87531285 0.8768739         nan 0.92799268\n",
      " 0.92672896 0.92672896        nan 0.83212344 0.87347919 0.8751146\n",
      "        nan 0.92841392 0.92712543 0.92715021        nan 0.83209866\n",
      " 0.87538718 0.87689868        nan 0.92814134 0.92650597 0.92645641\n",
      "        nan 0.83209866 0.87672521 0.87870749        nan 0.93718564\n",
      " 0.93743343 0.93745821        nan 0.83209866 0.87959955 0.88091282\n",
      "        nan 0.93713608 0.93738383 0.93733427        nan 0.83209866\n",
      " 0.87677477 0.87873227        nan 0.93730953 0.9374582  0.93743342\n",
      "        nan 0.83209866 0.87957477 0.88091282        nan 0.93708652\n",
      " 0.93745816 0.93750772        nan 0.83212344 0.87672521 0.87868271\n",
      "        nan 0.9372352  0.93740865 0.93745821        nan 0.83209866\n",
      " 0.87957477 0.8809376         nan 0.93706173 0.93730949 0.93730948\n",
      "        nan 0.83209866 0.87704734 0.87900485        nan 0.93778032\n",
      " 0.93879629 0.93882107        nan 0.83209866 0.88009511 0.88116061\n",
      "        nan 0.93797853 0.93862279 0.93862279        nan 0.83212344\n",
      " 0.87699778 0.87900485        nan 0.93780509 0.93882108 0.9387963\n",
      "        nan 0.83209866 0.88011989 0.88118538        nan 0.93780509\n",
      " 0.93864754 0.93867232        nan 0.83209866 0.87702256 0.87898008\n",
      "        nan 0.93787942 0.93899452 0.9390193         nan 0.83209866\n",
      " 0.88002078 0.88108627        nan 0.93785464 0.93864755 0.93862277]\n",
      "  warnings.warn(\n"
     ]
    },
    {
     "name": "stdout",
     "output_type": "stream",
     "text": [
      "{'cv__max_df': 0.9, 'cv__max_features': 5000, 'cv__min_df': 5, 'cv__ngram_range': (1, 1), 'logreg__C': 1.0, 'logreg__penalty': 'l2', 'logreg__solver': 'liblinear'}\n",
      "0.9613945536090394\n",
      "0.9434326915929533\n"
     ]
    }
   ],
   "source": [
    "pipe_cv = Pipeline([\n",
    "    ('cv', CountVectorizer(stop_words='english', max_features=10000)),\n",
    "    ('logreg', LogisticRegression())\n",
    "]\n",
    ")\n",
    "params_cv = {\n",
    "    'cv__max_features':[1_000, 4_000, 5_000],\n",
    "    'cv__min_df'      : [2, 3, 5],\n",
    "    'cv__max_df'      : [.90, .95],\n",
    "    'cv__ngram_range' : [(1,1), (1,2)],\n",
    "    'logreg__C'       : [.01, 1.0],\n",
    "    'logreg__penalty' : ['l1', 'l2'],\n",
    "    'logreg__solver'  : ['lbfgs', 'liblinear']\n",
    "}\n",
    "\n",
    "gs_cv = GridSearchCV(pipe_cv, params_cv, cv=5, verbose=1, n_jobs = -1)\n",
    "gs_cv.fit(X_train, y_train)\n",
    "print(gs_cv.best_params_)\n",
    "print(gs_cv.score(X_train, y_train))\n",
    "print(gs_cv.score(X_test, y_test))"
   ]
  },
  {
   "cell_type": "code",
   "execution_count": 41,
   "id": "f74c60e9-d66a-4569-b35e-d1f81d966c98",
   "metadata": {},
   "outputs": [
    {
     "name": "stdout",
     "output_type": "stream",
     "text": [
      "Accuracy Score: 0.9434326915929533\n"
     ]
    }
   ],
   "source": [
    "predictions = gs_cv.predict(X_test)\n",
    "print(f'Accuracy Score: {accuracy_score(y_test, predictions)}')"
   ]
  },
  {
   "cell_type": "code",
   "execution_count": null,
   "id": "f5782258-32de-43b8-af88-7226406d3123",
   "metadata": {},
   "outputs": [],
   "source": []
  },
  {
   "cell_type": "code",
   "execution_count": null,
   "id": "374b5a28-50d8-4060-878f-7c148fb3da8b",
   "metadata": {},
   "outputs": [],
   "source": []
  },
  {
   "cell_type": "code",
   "execution_count": null,
   "id": "4b93abd8-d78a-46a7-bbfb-de209538e51f",
   "metadata": {},
   "outputs": [],
   "source": []
  },
  {
   "cell_type": "code",
   "execution_count": null,
   "id": "67033eef-be83-4673-ba1e-a119bd92fb66",
   "metadata": {},
   "outputs": [],
   "source": []
  },
  {
   "cell_type": "code",
   "execution_count": null,
   "id": "0ce64fe7-3198-4f9a-94f3-40b5e38c6428",
   "metadata": {},
   "outputs": [],
   "source": []
  },
  {
   "cell_type": "code",
   "execution_count": 146,
   "id": "b53d5701-977d-463f-9509-f28655c54b6a",
   "metadata": {},
   "outputs": [
    {
     "name": "stdout",
     "output_type": "stream",
     "text": [
      "Fitting 5 folds for each of 108 candidates, totalling 540 fits\n",
      "{'logreg__C': 1.0, 'tvec__max_df': 0.95, 'tvec__max_features': 10000, 'tvec__min_df': 2, 'tvec__ngram_range': (1, 2)}\n",
      "0.9533414277572664\n",
      "0.9407567085408459\n",
      "Wall time: 5min 44s\n"
     ]
    }
   ],
   "source": [
    "%%time\n",
    "pipe_tv = Pipeline([\n",
    "    ('tv', TfidfVectorizer(stop_words='english')),\n",
    "    ('logreg', LogisticRegression())\n",
    "]\n",
    ")\n",
    "params_tv = {\n",
    "    'tv__max_features':[4000, 5000, 10000],\n",
    "    'tv__min_df'      : [1, 2, 5, 10],\n",
    "    'tv__max_df'      : [.95, .98],\n",
    "    'tv__ngram_range' : [(1,1), (1,2)]\n",
    "}\n",
    "\n",
    "gs_tv = GridSearchCV(pipe_tv, params_tv, cv=5, verbose=1, n_jobs = -1)\n",
    "gs_tv.fit(X_train, y_train)\n",
    "print(gs_tv.best_params_)\n",
    "print(gs_tv.score(X_train, y_train))\n",
    "print(gs_tv.score(X_test, y_test))"
   ]
  },
  {
   "cell_type": "code",
   "execution_count": 147,
   "id": "72ea04ac-dc52-41e6-a186-75f9af2348f8",
   "metadata": {},
   "outputs": [
    {
     "name": "stdout",
     "output_type": "stream",
     "text": [
      "Accuracy score: 0.9407567085408459\n",
      "Wall time: 381 ms\n"
     ]
    }
   ],
   "source": [
    "%%time\n",
    "preds_tv = gs_tv.predict(X_test)\n",
    "print(f'Accuracy score: {accuracy_score(y_test, preds_tv)}')"
   ]
  },
  {
   "cell_type": "code",
   "execution_count": 145,
   "id": "45ceddf3-d5c0-4ff3-be27-9d3e6d0d01dd",
   "metadata": {},
   "outputs": [],
   "source": [
    "confusion_matrix(y_test, preds)\n",
    "cmatrix = ConfusionMatrixDisplay(confusion_matrix)"
   ]
  },
  {
   "cell_type": "code",
   "execution_count": null,
   "id": "46dd6030-c5ca-4b82-bbfc-9bdf5607a7eb",
   "metadata": {},
   "outputs": [],
   "source": [
    "pipe"
   ]
  }
 ],
 "metadata": {
  "kernelspec": {
   "display_name": "Python 3",
   "language": "python",
   "name": "python3"
  },
  "language_info": {
   "codemirror_mode": {
    "name": "ipython",
    "version": 3
   },
   "file_extension": ".py",
   "mimetype": "text/x-python",
   "name": "python",
   "nbconvert_exporter": "python",
   "pygments_lexer": "ipython3",
   "version": "3.8.8"
  }
 },
 "nbformat": 4,
 "nbformat_minor": 5
}
