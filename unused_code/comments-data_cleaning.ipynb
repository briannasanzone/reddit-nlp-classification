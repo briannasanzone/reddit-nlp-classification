{
 "cells": [
  {
   "cell_type": "markdown",
   "id": "076acdc6-4386-4585-bf6d-db2bfbc8737a",
   "metadata": {},
   "source": [
    "##### **Imports**"
   ]
  },
  {
   "cell_type": "code",
   "execution_count": 3,
   "id": "5115c6bc-1481-4b73-a330-f72f7bfd7190",
   "metadata": {},
   "outputs": [],
   "source": [
    "import pandas as pd\n",
    "import numpy as np\n",
    "import requests\n",
    "from bs4 import BeautifulSoup\n",
    "import time\n",
    "import nltk\n",
    "import regex as re\n",
    "from collections import Counter\n",
    "import matplotlib.pyplot as plt\n",
    "import seaborn as sns\n",
    "import os\n",
    "\n",
    "from sklearn.model_selection import train_test_split, GridSearchCV, cross_val_score\n",
    "from nltk.corpus import stopwords\n",
    "from sklearn.preprocessing import StandardScaler\n",
    "from sklearn.linear_model import LogisticRegression\n",
    "from sklearn.metrics import confusion_matrix, ConfusionMatrixDisplay, accuracy_score\n",
    "from sklearn.feature_extraction.text import CountVectorizer, TfidfVectorizer\n",
    "from sklearn.pipeline import Pipeline\n",
    "from sklearn.naive_bayes import MultinomialNB, BernoulliNB\n",
    "\n",
    "from collections import Counter\n",
    "import matplotlib as plt\n",
    "from sklearn.naive_bayes import BernoulliNB"
   ]
  },
  {
   "cell_type": "markdown",
   "id": "f18f7f97-5237-4696-9741-bb20c8949e3d",
   "metadata": {},
   "source": [
    "##### **Read in CSV**"
   ]
  },
  {
   "cell_type": "code",
   "execution_count": 4,
   "id": "ea818b0f-7718-48ba-a70b-c2bb9ba4648a",
   "metadata": {},
   "outputs": [
    {
     "name": "stdout",
     "output_type": "stream",
     "text": [
      "(51700, 5)\n"
     ]
    }
   ],
   "source": [
    "# create variable for csv files in comment_data folder to read in\n",
    "files = os.listdir('longevitycomments_data')\n",
    "data_folder = 'longevitycomments_data/'\n",
    "list_dataframe=[]\n",
    "# create a loop to read in csv files\n",
    "for file in files:\n",
    "    try:\n",
    "        file = pd.read_csv(data_folder+file)\n",
    "        list_dataframe.append(file)\n",
    "    except:\n",
    "        continue\n",
    "# combine both dataframes into one dataframe\n",
    "df = pd.concat([list_dataframe[0],list_dataframe[1]], ignore_index=True)\n",
    "# drop first column\n",
    "df.drop(columns='Unnamed: 0', inplace=True)\n",
    "# print shape\n",
    "print(df.shape)"
   ]
  },
  {
   "cell_type": "code",
   "execution_count": 5,
   "id": "644160d7-0ea7-4fdd-bdc5-d8097dbb92df",
   "metadata": {},
   "outputs": [
    {
     "data": {
      "text/html": [
       "<div>\n",
       "<style scoped>\n",
       "    .dataframe tbody tr th:only-of-type {\n",
       "        vertical-align: middle;\n",
       "    }\n",
       "\n",
       "    .dataframe tbody tr th {\n",
       "        vertical-align: top;\n",
       "    }\n",
       "\n",
       "    .dataframe thead th {\n",
       "        text-align: right;\n",
       "    }\n",
       "</style>\n",
       "<table border=\"1\" class=\"dataframe\">\n",
       "  <thead>\n",
       "    <tr style=\"text-align: right;\">\n",
       "      <th></th>\n",
       "      <th>author</th>\n",
       "      <th>body</th>\n",
       "      <th>score</th>\n",
       "      <th>created_utc</th>\n",
       "      <th>subreddit</th>\n",
       "    </tr>\n",
       "  </thead>\n",
       "  <tbody>\n",
       "    <tr>\n",
       "      <th>0</th>\n",
       "      <td>CtotheW</td>\n",
       "      <td>I agree, but insofar as up until recently(200i...</td>\n",
       "      <td>1</td>\n",
       "      <td>1625152630</td>\n",
       "      <td>askscience</td>\n",
       "    </tr>\n",
       "    <tr>\n",
       "      <th>1</th>\n",
       "      <td>CorticalBaggage</td>\n",
       "      <td>Think of additional vaccinations as additional...</td>\n",
       "      <td>1</td>\n",
       "      <td>1624663627</td>\n",
       "      <td>askscience</td>\n",
       "    </tr>\n",
       "    <tr>\n",
       "      <th>2</th>\n",
       "      <td>MayorLag</td>\n",
       "      <td>I have no authority to claim anything as a fac...</td>\n",
       "      <td>24</td>\n",
       "      <td>1623679339</td>\n",
       "      <td>askscience</td>\n",
       "    </tr>\n",
       "    <tr>\n",
       "      <th>3</th>\n",
       "      <td>stupidhoes</td>\n",
       "      <td>And we are merely 100s I'd thousands of a blip...</td>\n",
       "      <td>1</td>\n",
       "      <td>1623674627</td>\n",
       "      <td>askscience</td>\n",
       "    </tr>\n",
       "    <tr>\n",
       "      <th>4</th>\n",
       "      <td>xXugleprutXx</td>\n",
       "      <td>While the process of having children isn't pro...</td>\n",
       "      <td>2</td>\n",
       "      <td>1623256286</td>\n",
       "      <td>askscience</td>\n",
       "    </tr>\n",
       "  </tbody>\n",
       "</table>\n",
       "</div>"
      ],
      "text/plain": [
       "            author                                               body  score  \\\n",
       "0          CtotheW  I agree, but insofar as up until recently(200i...      1   \n",
       "1  CorticalBaggage  Think of additional vaccinations as additional...      1   \n",
       "2         MayorLag  I have no authority to claim anything as a fac...     24   \n",
       "3       stupidhoes  And we are merely 100s I'd thousands of a blip...      1   \n",
       "4     xXugleprutXx  While the process of having children isn't pro...      2   \n",
       "\n",
       "   created_utc   subreddit  \n",
       "0   1625152630  askscience  \n",
       "1   1624663627  askscience  \n",
       "2   1623679339  askscience  \n",
       "3   1623674627  askscience  \n",
       "4   1623256286  askscience  "
      ]
     },
     "execution_count": 5,
     "metadata": {},
     "output_type": "execute_result"
    }
   ],
   "source": [
    "# display first 5 rows of dataframe\n",
    "df.head()"
   ]
  },
  {
   "cell_type": "code",
   "execution_count": 6,
   "id": "a608a69f-d502-4250-85cf-680bd97d7a17",
   "metadata": {},
   "outputs": [],
   "source": [
    "# create dictionary to binarize subreddits\n",
    "subreddit_dict = {'longevity':0,\n",
    "            'askscience':1}\n",
    "# map function to replace subreddits to binarize\n",
    "df['subreddit'] = df['subreddit'].map(subreddit_dict)"
   ]
  },
  {
   "cell_type": "code",
   "execution_count": 7,
   "id": "4f1731e2-e55e-4214-814f-b9bd8709f652",
   "metadata": {},
   "outputs": [
    {
     "name": "stdout",
     "output_type": "stream",
     "text": [
      "0\n",
      "0\n",
      "0\n"
     ]
    }
   ],
   "source": [
    "# print total rows in body with [removed], [deleted], and null values\n",
    "print((df['body'] == \"[removed]\").sum())\n",
    "print((df['body'] == \"[deleted]\").sum())\n",
    "print((df['body'].isna().sum()))"
   ]
  },
  {
   "cell_type": "code",
   "execution_count": 8,
   "id": "791b66ce-1ac6-41b4-baee-933c72085208",
   "metadata": {},
   "outputs": [],
   "source": [
    "# regex function to return only letters in body\n",
    "df['body'] = df['body'].map(lambda x: re.sub(\"[^a-zA-Z]\", \" \", x))"
   ]
  },
  {
   "cell_type": "code",
   "execution_count": 35,
   "id": "bc819645-fb77-423e-98eb-0093b070363d",
   "metadata": {},
   "outputs": [
    {
     "ename": "TypeError",
     "evalue": "'module' object is not callable",
     "output_type": "error",
     "traceback": [
      "\u001b[1;31m---------------------------------------------------------------------------\u001b[0m",
      "\u001b[1;31mTypeError\u001b[0m                                 Traceback (most recent call last)",
      "\u001b[1;32m<ipython-input-35-0f1cac4740ae>\u001b[0m in \u001b[0;36m<module>\u001b[1;34m\u001b[0m\n\u001b[0;32m      1\u001b[0m \u001b[0mdf\u001b[0m\u001b[1;33m.\u001b[0m\u001b[0mboxplot\u001b[0m\u001b[1;33m(\u001b[0m\u001b[0mcolumn\u001b[0m\u001b[1;33m=\u001b[0m\u001b[1;33m[\u001b[0m\u001b[1;34m'score'\u001b[0m\u001b[1;33m]\u001b[0m\u001b[1;33m,\u001b[0m \u001b[0mby\u001b[0m\u001b[1;33m=\u001b[0m\u001b[1;33m[\u001b[0m\u001b[1;34m'subreddit'\u001b[0m\u001b[1;33m]\u001b[0m\u001b[1;33m)\u001b[0m\u001b[1;33m\u001b[0m\u001b[1;33m\u001b[0m\u001b[0m\n\u001b[1;32m----> 2\u001b[1;33m \u001b[0mplt\u001b[0m\u001b[1;33m.\u001b[0m\u001b[0mfigure\u001b[0m\u001b[1;33m(\u001b[0m\u001b[0mfigsize\u001b[0m\u001b[1;33m=\u001b[0m\u001b[1;33m(\u001b[0m\u001b[1;36m20\u001b[0m\u001b[1;33m,\u001b[0m\u001b[1;36m20\u001b[0m\u001b[1;33m)\u001b[0m\u001b[1;33m)\u001b[0m\u001b[1;33m\u001b[0m\u001b[1;33m\u001b[0m\u001b[0m\n\u001b[0m",
      "\u001b[1;31mTypeError\u001b[0m: 'module' object is not callable"
     ]
    },
    {
     "data": {
      "image/png": "[encoded data removed]",
      "text/plain": [
       "<Figure size 432x288 with 1 Axes>"
      ]
     },
     "metadata": {
      "needs_background": "light"
     },
     "output_type": "display_data"
    }
   ],
   "source": [
    "df.boxplot(column=['score'], by=['subreddit'])\n",
    "plt.figure(figsize=(20,20))"
   ]
  },
  {
   "cell_type": "code",
   "execution_count": 8,
   "id": "2742ea24-e841-4bc0-b6ee-6527238bda70",
   "metadata": {},
   "outputs": [],
   "source": [
    "X= df['body']\n",
    "y= df['subreddit']"
   ]
  },
  {
   "cell_type": "code",
   "execution_count": 10,
   "id": "3fefedad-0ccc-4e1d-8c74-b711a7d92516",
   "metadata": {},
   "outputs": [],
   "source": [
    "X = [word.lower().split() for word in df['body']]\n",
    "stops = set(stopwords.words('english'))\n",
    "stopwords = ('https', 'www', 'com', 'like')\n",
    "posts_list = []\n",
    "for post in X:\n",
    "    meaningful_words = [word for word in post if word not in stops or stop_words]\n",
    "    meaningful_post = \" \".join(meaningful_words)\n",
    "    posts_list.append(meaningful_post)\n",
    "    \n",
    "modeltext = pd.Series(posts_list)\n",
    "df['modeltext'] = modeltext\n",
    "X = df['modeltext']\n",
    "y = df['subreddit']\n",
    "X_train, X_test, y_train, y_test = train_test_split(X,\n",
    "                                   y,\n",
    "                                   train_size=0.75,\n",
    "                                   stratify=y,\n",
    "                                   random_state=42)"
   ]
  },
  {
   "cell_type": "code",
   "execution_count": 11,
   "id": "0dacc8af-3bfe-415a-8ea0-03d7c130410f",
   "metadata": {},
   "outputs": [
    {
     "data": {
      "text/plain": [
       "1    0.500967\n",
       "0    0.499033\n",
       "Name: subreddit, dtype: float64"
      ]
     },
     "execution_count": 11,
     "metadata": {},
     "output_type": "execute_result"
    }
   ],
   "source": [
    "y.value_counts(normalize=True)"
   ]
  },
  {
   "cell_type": "code",
   "execution_count": 14,
   "id": "8dbefe1e-c04d-4f0e-a182-88fbc2f3710f",
   "metadata": {},
   "outputs": [
    {
     "data": {
      "text/plain": [
       "longevity    75187\n",
       "https        49075\n",
       "com          35624\n",
       "www          23770\n",
       "reddit       20125\n",
       "cancer       17867\n",
       "old          17041\n",
       "like         16041\n",
       "aging        14972\n",
       "comments     14964\n",
       "people       14468\n",
       "time         12935\n",
       "age          12405\n",
       "long         11906\n",
       "amp          11883\n",
       "dtype: int64"
      ]
     },
     "execution_count": 14,
     "metadata": {},
     "output_type": "execute_result"
    }
   ],
   "source": [
    "cvec = CountVectorizer(max_features=5_000, stop_words=('english'))\n",
    "text_transformed = cvec.fit_transform(X)\n",
    "feature_names = cvec.get_feature_names()\n",
    "\n",
    "text_transformed=pd.DataFrame(text_transformed.todense())\n",
    "text_transformed.columns = feature_names\n",
    "(text_transformed.sum().sort_values(ascending = False).head(15))"
   ]
  },
  {
   "cell_type": "code",
   "execution_count": null,
   "id": "15c12dab-26b2-4b06-982c-9c9909572f8e",
   "metadata": {},
   "outputs": [],
   "source": [
    "plt.scatter(text_transformed)"
   ]
  }
 ],
 "metadata": {
  "kernelspec": {
   "display_name": "Python 3",
   "language": "python",
   "name": "python3"
  },
  "language_info": {
   "codemirror_mode": {
    "name": "ipython",
    "version": 3
   },
   "file_extension": ".py",
   "mimetype": "text/x-python",
   "name": "python",
   "nbconvert_exporter": "python",
   "pygments_lexer": "ipython3",
   "version": "3.8.8"
  }
 },
 "nbformat": 4,
 "nbformat_minor": 5
}
