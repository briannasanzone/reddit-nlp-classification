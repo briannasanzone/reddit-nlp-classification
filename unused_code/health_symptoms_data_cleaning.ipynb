{
 "cells": [
  {
   "cell_type": "code",
   "execution_count": 47,
   "id": "a4d0050b-a6c9-4f11-9d8a-7f6ce04f4ffd",
   "metadata": {},
   "outputs": [],
   "source": [
    "import numpy as np\n",
    "import requests\n",
    "import pandas as pd\n",
    "import matplotlib.pyplot as plt\n",
    "import time\n",
    "import sys\n",
    "\n",
    "from collections import Counter\n",
    "from sklearn.model_selection import train_test_split, GridSearchCV, cross_val_score\n",
    "from nltk.tokenize import sent_tokenize, word_tokenize, RegexpTokenizer\n",
    "from nltk.corpus import stopwords\n",
    "from nltk.sentiment.vader import SentimentIntensityAnalyzer\n",
    "\n",
    "import re\n",
    "import os"
   ]
  },
  {
   "cell_type": "code",
   "execution_count": 48,
   "id": "b3fa5ed5-b54d-48db-9064-5c3c679d899f",
   "metadata": {},
   "outputs": [
    {
     "data": {
      "text/plain": [
       "(11256, 5)"
      ]
     },
     "execution_count": 48,
     "metadata": {},
     "output_type": "execute_result"
    }
   ],
   "source": [
    "as_health = pd.read_csv('health_data/health_askscience.csv')\n",
    "long_health = pd.read_csv('health_data/health_longevity.csv')\n",
    "df = pd.concat([as_health, long_health])\n",
    "df.drop(columns='Unnamed: 0', inplace=True)\n",
    "df.shape"
   ]
  },
  {
   "cell_type": "code",
   "execution_count": 49,
   "id": "ec1ec1e8-f184-4878-af22-189863ef2e67",
   "metadata": {},
   "outputs": [],
   "source": [
    "df = df[(df['body'] != 'Hi!  This subreddit does not provide medical or safety advice.  If you are concerned about a health issue, please see a doctor.  If you need other professional assistance, please see the appropriate professional.  Cheers!\\n\\n*I am a bot, and this action was performed automatically. Please [contact the moderators of this subreddit](/message/compose/?to=/r/askscience) if you have any questions or concerns.*'  )]"
   ]
  },
  {
   "cell_type": "code",
   "execution_count": 50,
   "id": "9ffe5967-7f9c-469e-8824-5fcf34633920",
   "metadata": {},
   "outputs": [],
   "source": [
    "df = df[df['body'] != \"Thank you for your submission! Unfortunately, your submission has been removed.\\n\\nWe do not offer [medical advice] (http://www.reddit.com/r/askscience/comments/s4chc/meta_medical_advice_on_askscience_the_guidelines/) on /r/AskScience. Please see our [guidelines.](https://www.reddit.com/r/AskScience/wiki/quickstart/guidelines#wiki_no_medical_advice) If you have concerns about your or someone else's health, you need to speak to a medical professional.\\nWe also cannot evaluate the safety of commercial products or how healthy a specific practice is.\\n\\nIf you disagree with this decision, please send a [message to the moderators.](https://www.reddit.com/message/compose?to=%2Fr%2Faskscience)\"]"
   ]
  },
  {
   "cell_type": "code",
   "execution_count": 52,
   "id": "6a0dd6aa-0149-453b-8b73-b2bf84c13ea3",
   "metadata": {},
   "outputs": [],
   "source": [
    "df = df[df['body'] != \"Thank you for your submission! Unfortunately, your submission has been removed for the following reason(s):\\n\\n- This subreddit does not provide medical or safety advice. Please see our guidelines. If you have concerns about your or someone else's health, you need to speak to a medical professional.\\n\\n- Questions based on personal anecdotes or isolated events tend to invite speculation and more anecdotes, which are not allowed on /r/AskScience.\\n\\n For more information regarding this and similar issues, please see our guidelines.\\n\\nIf you disagree with this decision, please send a message to the moderators.\"]"
   ]
  },
  {
   "cell_type": "code",
   "execution_count": 53,
   "id": "b95285d6-2129-4781-b460-dcec44f54969",
   "metadata": {},
   "outputs": [
    {
     "data": {
      "text/html": [
       "<div>\n",
       "<style scoped>\n",
       "    .dataframe tbody tr th:only-of-type {\n",
       "        vertical-align: middle;\n",
       "    }\n",
       "\n",
       "    .dataframe tbody tr th {\n",
       "        vertical-align: top;\n",
       "    }\n",
       "\n",
       "    .dataframe thead th {\n",
       "        text-align: right;\n",
       "    }\n",
       "</style>\n",
       "<table border=\"1\" class=\"dataframe\">\n",
       "  <thead>\n",
       "    <tr style=\"text-align: right;\">\n",
       "      <th></th>\n",
       "      <th>index</th>\n",
       "      <th>author</th>\n",
       "      <th>body</th>\n",
       "      <th>score</th>\n",
       "      <th>created_utc</th>\n",
       "      <th>subreddit</th>\n",
       "    </tr>\n",
       "  </thead>\n",
       "  <tbody>\n",
       "    <tr>\n",
       "      <th>0</th>\n",
       "      <td>11</td>\n",
       "      <td>xccr</td>\n",
       "      <td>Wasn’t that number also just a preliminary fin...</td>\n",
       "      <td>1</td>\n",
       "      <td>1627081705</td>\n",
       "      <td>askscience</td>\n",
       "    </tr>\n",
       "    <tr>\n",
       "      <th>1</th>\n",
       "      <td>12</td>\n",
       "      <td>the_krusher</td>\n",
       "      <td>Before anyone reads this and panics, it’s extr...</td>\n",
       "      <td>5</td>\n",
       "      <td>1627074085</td>\n",
       "      <td>askscience</td>\n",
       "    </tr>\n",
       "    <tr>\n",
       "      <th>2</th>\n",
       "      <td>14</td>\n",
       "      <td>mcs_987654321</td>\n",
       "      <td>Hey - so, bad news/good news: \\n\\n- bad news i...</td>\n",
       "      <td>29</td>\n",
       "      <td>1627072107</td>\n",
       "      <td>askscience</td>\n",
       "    </tr>\n",
       "    <tr>\n",
       "      <th>3</th>\n",
       "      <td>15</td>\n",
       "      <td>NoKindofHero</td>\n",
       "      <td>References\\n\\nDavies NG, Abbott S, Barnard RC,...</td>\n",
       "      <td>2</td>\n",
       "      <td>1627067611</td>\n",
       "      <td>askscience</td>\n",
       "    </tr>\n",
       "    <tr>\n",
       "      <th>4</th>\n",
       "      <td>16</td>\n",
       "      <td>zopGorgel</td>\n",
       "      <td>This is exactly my main concern, the long last...</td>\n",
       "      <td>6</td>\n",
       "      <td>1627066537</td>\n",
       "      <td>askscience</td>\n",
       "    </tr>\n",
       "  </tbody>\n",
       "</table>\n",
       "</div>"
      ],
      "text/plain": [
       "   index         author                                               body  \\\n",
       "0     11           xccr  Wasn’t that number also just a preliminary fin...   \n",
       "1     12    the_krusher  Before anyone reads this and panics, it’s extr...   \n",
       "2     14  mcs_987654321  Hey - so, bad news/good news: \\n\\n- bad news i...   \n",
       "3     15   NoKindofHero  References\\n\\nDavies NG, Abbott S, Barnard RC,...   \n",
       "4     16      zopGorgel  This is exactly my main concern, the long last...   \n",
       "\n",
       "   score  created_utc   subreddit  \n",
       "0      1   1627081705  askscience  \n",
       "1      5   1627074085  askscience  \n",
       "2     29   1627072107  askscience  \n",
       "3      2   1627067611  askscience  \n",
       "4      6   1627066537  askscience  "
      ]
     },
     "execution_count": 53,
     "metadata": {},
     "output_type": "execute_result"
    }
   ],
   "source": [
    "df.reset_index(inplace=True)\n",
    "df.head()"
   ]
  },
  {
   "cell_type": "code",
   "execution_count": 54,
   "id": "7c6d0e23-c0ff-4754-833b-1278087969ec",
   "metadata": {},
   "outputs": [
    {
     "data": {
      "text/plain": [
       "(10149, 6)"
      ]
     },
     "execution_count": 54,
     "metadata": {},
     "output_type": "execute_result"
    }
   ],
   "source": [
    "df.shape"
   ]
  },
  {
   "cell_type": "code",
   "execution_count": 55,
   "id": "c3d99c17-7a35-43bb-bf03-7635b8cfcb61",
   "metadata": {},
   "outputs": [
    {
     "data": {
      "text/plain": [
       "askscience    0.629914\n",
       "longevity     0.370086\n",
       "Name: subreddit, dtype: float64"
      ]
     },
     "execution_count": 55,
     "metadata": {},
     "output_type": "execute_result"
    }
   ],
   "source": [
    "df['subreddit'].value_counts(normalize=True)"
   ]
  },
  {
   "cell_type": "code",
   "execution_count": 60,
   "id": "a4c8e5e0-1eee-4195-8eda-4cbbff69d9b6",
   "metadata": {},
   "outputs": [
    {
     "data": {
      "text/plain": [
       "Thank you for your submission! Unfortunately, your submission has been removed for the following reason(s):\\n\\n* This subreddit does not provide [medical or safety advice] (http://www.reddit.com/r/askscience/comments/s4chc/meta_medical_advice_on_askscience_the_guidelines/). Please see our [guidelines](https://www.reddit.com/r/AskScience/wiki/quickstart/guidelines#wiki_no_medical_advice). If you have concerns about your or someone else's health, you need to speak to a medical professional.\\n\\n\\n\\nIf you disagree with this decision, please send a [message to the moderators.](https://www.reddit.com/message/compose?to=%2Fr%2Faskscience)                                                                                                                                                                                                                                                                                                                                                             666\n",
       "Thank you for your submission! Unfortunately, your submission has been removed for the following reason(s):\\n\\n* This subreddit does not provide [medical or safety advice] (http://www.reddit.com/r/askscience/comments/s4chc/meta_medical_advice_on_askscience_the_guidelines/). Please see our [guidelines](https://www.reddit.com/r/AskScience/wiki/quickstart/guidelines#wiki_no_medical_advice). If you have concerns about your or someone else's health, you need to speak to a medical professional.\\n\\n* Questions based on personal anecdotes or isolated events tend to invite speculation and more anecdotes, which are not allowed on /r/AskScience.\\n\\nFor more information regarding this and similar issues, please see our [guidelines.](http://www.reddit.com/r/askscience/wiki/guidelines#wiki_avoid_questions_about_personal_or_isolated_events.)\\n\\n\\n\\nIf you disagree with this decision, please send a [message to the moderators.](https://www.reddit.com/message/compose?to=%2Fr%2Faskscience)    192\n",
       "We do not offer any medical, health, dietary, nutritional, or really any sort of advice on this sub. Please see the guidelines. If you have a concern, please speak with a physician.                                                                                                                                                                                                                                                                                                                                                                                                                                                                                                                                                                                                                                                                                                                                                                                                                                        168\n",
       "We do not offer any medical, health, dietary, nutritional, or really any sort of advice on this sub. Please see the guidelines.                                                                                                                                                                                                                                                                                                                                                                                                                                                                                                                                                                                                                                                                                                                                                                                                                                                                                               71\n",
       "biorxiv articles are not peer-reviewed, edited, or typeset before being posted online. However, all articles undergo a basic screening process for offensive and/or non-scientific content and for material that might pose a health or biosecurity risk and are checked for plagiarism. No endorsement of an article’s methods, assumptions, conclusions, or scientific quality by Cold Spring Harbor Laboratory is implied by its appearance in bioRxiv.  **A reminder: these are preliminary reports that have not been peer-reviewed. They should not be regarded as conclusive, guide clinical practice/health-related behavior, or be reported in news media as established information.**\\n\\n*I am a bot, and this action was performed automatically. Please [contact the moderators of this subreddit](/message/compose/?to=/r/longevity) if you have any questions or concerns.*                                                                                                                                    58\n",
       "                                                                                                                                                                                                                                                                                                                                                                                                                                                                                                                                                                                                                                                                                                                                                                                                                                                                                                                                                                                                                            ... \n",
       "Hi and thanks for joining us today!\\n\\nDo you think COVID might be the impetus for One Health to get proper funding?\\n\\nWhat is the outlook for malaria in the coming years?\\n\\nWhat is the your favorite disease-related pop lit book?                                                                                                                                                                                                                                                                                                                                                                                                                                                                                                                                                                                                                                                                                                                                                                                        1\n",
       "It looks like they've changed their pricing a bit. When I last looked, you could get a paired down version (the MRI + full genome sequencing) for like 7.5k. To get the full blown test, you're looking at 25k and you can get subsequent follow-up tests to see how you're doing (they look like checkups) for an additional 6k every few years you want to do it. \\n\\nSource: https://www.humanlongevity.com/health-nucleus/hnx-platinum\\n\\nI don't know if they have lower price test, but I do think that they have been exploring offering either a la carte or making different packages because they sent me a survey asking me which tests I thought would be most important.\\n\\nEdit: I poked around their site a bit more and found a cheaper package offering. https://www.humanlongevity.com/health-nucleus/hnx                                                                                                                                                                                                    1\n",
       "Its here already. Type in ‘ash die back wales’  to google and this is the one of the first responses- \\n\\nChalara dieback of ash is well-established across Wales and will continue to spread. UK national plant health legislation1 currently prohibits all imports and internal movement of ash seeds, plants and trees. ... Older trees can survive infection for a number of years, and some might not die from this disease.                                                                                                                                                                                                                                                                                                                                                                                                                                                                                                                                                                                              1\n",
       "a) Isn't this old news ? As in, yes, they found some more pieces in the mechanistic puzzle, but the concept is old.\\n\\nb) Can we stop with the \\*\\*\\*\\* metaphors already ? For one, it obfuscates the actual findings, secondly it's confusing. Initially I thought this was about an epidemiological study regrading brain health and how often people take out their garbage.                                                                                                                                                                                                                                                                                                                                                                                                                                                                                                                                                                                                                                               1\n",
       "&gt; Really ? This is the first time I'm hearing this , does the state pay for the healthcare expenses ?\\n\\nYes.    Longevity treatments are intended to extend health by reversing age related damage/disease.  Once it becomes an approved therapy, it falls under healthcare rather than something hypothetical at this point.    I recommend checking out [the introductory thread for videos on the topic](https://old.reddit.com/r/longevity/comments/fspzty/introductory_videos_and_charitable_donations_for/).                                                                                                                                                                                                                                                                                                                                                                                                                                                                                                         1\n",
       "Name: body, Length: 8795, dtype: int64"
      ]
     },
     "execution_count": 60,
     "metadata": {},
     "output_type": "execute_result"
    }
   ],
   "source": [
    "[x for x inif We do not offer any medical, health, dietary, nutritional, or really any sort of advice on this sub. Please see the guidelines. If you have a concern, please speak with a physician.]"
   ]
  },
  {
   "cell_type": "code",
   "execution_count": null,
   "id": "8c39dabe-f809-421c-bac3-f8d4c3664818",
   "metadata": {},
   "outputs": [],
   "source": []
  }
 ],
 "metadata": {
  "kernelspec": {
   "display_name": "Python 3",
   "language": "python",
   "name": "python3"
  },
  "language_info": {
   "codemirror_mode": {
    "name": "ipython",
    "version": 3
   },
   "file_extension": ".py",
   "mimetype": "text/x-python",
   "name": "python",
   "nbconvert_exporter": "python",
   "pygments_lexer": "ipython3",
   "version": "3.8.8"
  }
 },
 "nbformat": 4,
 "nbformat_minor": 5
}
