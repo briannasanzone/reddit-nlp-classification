{
 "cells": [
  {
   "cell_type": "code",
   "execution_count": 1,
   "id": "f1a4b7a6-547b-484f-bd22-aedfa4eacfad",
   "metadata": {},
   "outputs": [],
   "source": [
    "import requests\n",
    "import pandas as pd\n",
    "import time\n",
    "import datetime as dt"
   ]
  },
  {
   "cell_type": "code",
   "execution_count": 2,
   "id": "bd2c7034-8374-4695-b221-0b03344e79c1",
   "metadata": {},
   "outputs": [],
   "source": [
    "s_type = 'submission'\n",
    "subreddit = 'longevity'\n",
    "unix_times_stamp = 1627075090\n",
    "\n",
    "for pull in range(3):\n",
    "    \n",
    "    url = f'https://api.pushshift.io/reddit/search/{s_type}/?q={subreddit}&before={1627075090}&size=100'\n",
    "    \n",
    "    res = requests.get(url)\n",
    "    assert res.status_code == 200\n",
    "    post_list = res.json()['data']\n",
    "#     temp_df = pd.DataFrame(post_list)[['title', 'author', 'selftext', 'score', 'num_comments', 'subreddit']]\n",
    "#     full_df = pd.concat([full_df, temp_df])\n",
    "#     print(full_df.shape)\n",
    "#     print(full_df.nunique())\n",
    "#     print('waiting until next pull...')\n",
    "    \n",
    "#     time.sleep(5)..full_df['created_utc']"
   ]
  },
  {
   "cell_type": "code",
   "execution_count": 4,
   "id": "bcff33a5-4732-48b5-91c3-29e5c82cfbe9",
   "metadata": {},
   "outputs": [],
   "source": [
    "# post_list"
   ]
  },
  {
   "cell_type": "code",
   "execution_count": 5,
   "id": "4c017259-3d4e-4bd0-a6df-667083e2c310",
   "metadata": {},
   "outputs": [
    {
     "data": {
      "text/plain": [
       "200"
      ]
     },
     "execution_count": 5,
     "metadata": {},
     "output_type": "execute_result"
    }
   ],
   "source": [
    "res.status_code"
   ]
  },
  {
   "cell_type": "code",
   "execution_count": 6,
   "id": "1e375894-3ea8-4d57-8f5e-8fb35c1304fb",
   "metadata": {},
   "outputs": [],
   "source": [
    "full_df = pd.DataFrame(post_list)[['title', 'author', 'created_utc', 'selftext', 'score', 'subreddit']]"
   ]
  },
  {
   "cell_type": "code",
   "execution_count": 7,
   "id": "f2436c99-4455-4b2d-b569-6fc59a7577a8",
   "metadata": {},
   "outputs": [],
   "source": [
    "full_df.to_csv('longevity_posts.csv')"
   ]
  },
  {
   "cell_type": "code",
   "execution_count": null,
   "id": "abfec370-9d7b-4dcd-ad7c-15bee0bae01a",
   "metadata": {},
   "outputs": [],
   "source": []
  }
 ],
 "metadata": {
  "kernelspec": {
   "display_name": "Python 3",
   "language": "python",
   "name": "python3"
  },
  "language_info": {
   "codemirror_mode": {
    "name": "ipython",
    "version": 3
   },
   "file_extension": ".py",
   "mimetype": "text/x-python",
   "name": "python",
   "nbconvert_exporter": "python",
   "pygments_lexer": "ipython3",
   "version": "3.8.8"
  }
 },
 "nbformat": 4,
 "nbformat_minor": 5
}
