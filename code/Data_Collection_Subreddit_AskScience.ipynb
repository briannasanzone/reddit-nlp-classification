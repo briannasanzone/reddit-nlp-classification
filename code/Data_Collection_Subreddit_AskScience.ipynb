{
 "cells": [
  {
   "cell_type": "markdown",
   "id": "7da9cc48-8a2e-4c38-8a18-ec4c331968d9",
   "metadata": {},
   "source": [
    "# **Data Collection for Subreddit r/Askscience**"
   ]
  },
  {
   "cell_type": "markdown",
   "id": "48b5fc19-334a-4779-b83d-85672e76e411",
   "metadata": {},
   "source": [
    "#### **Imports**"
   ]
  },
  {
   "cell_type": "code",
   "execution_count": 2,
   "id": "b5c7ea25-528f-4cdb-bb50-8fcff69f9bc9",
   "metadata": {},
   "outputs": [],
   "source": [
    "import requests\n",
    "import pandas as pd\n",
    "import time\n",
    "import datetime as dt"
   ]
  },
  {
   "cell_type": "markdown",
   "id": "f261b3d9-7b43-4d50-b6d0-dad5a564672f",
   "metadata": {},
   "source": [
    "#### **Getting the most recent posts from Subreddit r/Askscience**"
   ]
  },
  {
   "cell_type": "code",
   "execution_count": 9,
   "id": "201f6ddd-64ac-4fb7-a1f5-c8a63bff5267",
   "metadata": {},
   "outputs": [],
   "source": [
    "for pull in range(3):\n",
    "    \n",
    "    url = f'https://api.pushshift.io/reddit/search/submission/?subreddit=askscience&before=1627143786&size=100'\n",
    "    \n",
    "    res = requests.get(url)\n",
    "    assert res.status_code == 200\n",
    "    post_list = res.json()['data']"
   ]
  },
  {
   "cell_type": "code",
   "execution_count": 10,
   "id": "7419004c-3ec4-4d47-9ce5-4d60e26ca270",
   "metadata": {},
   "outputs": [],
   "source": [
    "full_df = pd.DataFrame(post_list)[['title', 'author', 'created_utc', 'selftext', 'score', 'subreddit']]\n",
    "full_df.to_csv('askscience_posts.csv')"
   ]
  },
  {
   "cell_type": "code",
   "execution_count": 14,
   "id": "b69b4515-ef61-4275-9ac8-75988608a611",
   "metadata": {},
   "outputs": [],
   "source": [
    "def pushshift_query(full_df_path, subreddit, s_type, iters=5):\n",
    "\n",
    "    for pull in range(iters):\n",
    "        full_df = pd.read_csv(full_df_path)\n",
    "        url = f'https://api.pushshift.io/reddit/search/submission/?subreddit=askscience&before={full_df[\"created_utc\"].min()}&size=100'\n",
    "\n",
    "        res = requests.get(url)\n",
    "        print(res.status_code)\n",
    "        if res.status_code == 200:\n",
    "            post_list = res.json()['data']\n",
    "            temp_df = pd.DataFrame(post_list)[['title', 'author', 'created_utc', 'selftext', 'score', 'subreddit']]\n",
    "            full_df = pd.concat([full_df, temp_df])\n",
    "            print(full_df.shape)\n",
    "            print(full_df['title'].nunique())\n",
    "            print('waiting until next pull...')\n",
    "\n",
    "            time.sleep(5)\n",
    "        else:\n",
    "            continue\n",
    "        full_df.to_csv(full_df_path, index=False)"
   ]
  },
  {
   "cell_type": "code",
   "execution_count": 15,
   "id": "748687b8-08f4-41fe-bf0f-16c6c4e47087",
   "metadata": {},
   "outputs": [],
   "source": [
    "pushshift_query(full_df_path='./askscience_posts.csv', subreddit='askscience', s_type='submission')"
   ]
  },
  {
   "cell_type": "markdown",
   "id": "03ca429c-a742-4425-9012-2763a8fe63d3",
   "metadata": {},
   "source": [
    "#### **Getting the most recent comments from r/Askscience subreddit with keyword \"symptoms\" in comment**"
   ]
  },
  {
   "cell_type": "code",
   "execution_count": 3,
   "id": "4cf3837c-9ff3-4025-80bc-2c139692b110",
   "metadata": {},
   "outputs": [],
   "source": [
    "for pull in range(3):\n",
    "    \n",
    "    url = f'https://api.pushshift.io/reddit/search/comment/?q=symptoms&subreddit=askscience&before=1627143786&size=100'\n",
    "    \n",
    "    res = requests.get(url)\n",
    "    assert res.status_code == 200\n",
    "    data_list = res.json()['data']"
   ]
  },
  {
   "cell_type": "code",
   "execution_count": 4,
   "id": "47f6be52-20d1-4414-abf0-ffe53a05dfd2",
   "metadata": {},
   "outputs": [],
   "source": [
    "full_df = pd.DataFrame(data_list)[['author', 'body', 'score', 'created_utc', 'subreddit']]\n",
    "full_df.to_csv('symptomsinaskscience_comments.csv')"
   ]
  },
  {
   "cell_type": "code",
   "execution_count": 6,
   "id": "c7c48787-353c-4de0-b5db-3411fe87d090",
   "metadata": {},
   "outputs": [],
   "source": [
    "unix_times_stamp = 1627075090\n",
    "def pushshift_query(full_df_path, subreddit, s_type, iters=250):\n",
    "\n",
    "    for pull in range(iters):\n",
    "        full_df = pd.read_csv(full_df_path)\n",
    "        url = f'https://api.pushshift.io/reddit/search/comment/?q=symptoms&subreddit=askscience&before={full_df[\"created_utc\"].min()}&size=100'\n",
    "\n",
    "        res = requests.get(url)\n",
    "        print(res.status_code)\n",
    "        if res.status_code == 200:\n",
    "            data_list = res.json()['data']\n",
    "            temp_df = pd.DataFrame(data_list)[['author', 'body', 'score', 'created_utc', 'subreddit']]\n",
    "            full_df = pd.concat([full_df, temp_df])\n",
    "            print(full_df.shape)\n",
    "            print(full_df['subreddit'].nunique())\n",
    "            print('waiting until next pull...')\n",
    "\n",
    "            time.sleep(5)\n",
    "        else:\n",
    "            continue\n",
    "        full_df.to_csv(full_df_path, index=False)"
   ]
  },
  {
   "cell_type": "code",
   "execution_count": 14,
   "id": "e3df2d0a-e998-45ec-8190-4c2670cc1036",
   "metadata": {},
   "outputs": [],
   "source": [
    "pushshift_query(full_df_path='./symptomsinaskscience_comments.csv', subreddit='askscience', s_type='comment')"
   ]
  },
  {
   "cell_type": "markdown",
   "id": "fab905ae-ef04-4e3c-b2de-a887b3f21a44",
   "metadata": {},
   "source": [
    "#### **Getting most recent comments from subreddit r/Askscience with no keyword**"
   ]
  },
  {
   "cell_type": "code",
   "execution_count": 16,
   "id": "4b9d3b6e-840e-4329-b336-80add605f4f0",
   "metadata": {},
   "outputs": [],
   "source": [
    "for pull in range(3):\n",
    "    \n",
    "    url = f'https://api.pushshift.io/reddit/search/comment/?subreddit=askscience&before=1627143786&size=100'\n",
    "    \n",
    "    res = requests.get(url)\n",
    "    assert res.status_code == 200\n",
    "    data_list = res.json()['data']"
   ]
  },
  {
   "cell_type": "code",
   "execution_count": 17,
   "id": "698a075e-ca36-4603-8571-dce26b930063",
   "metadata": {},
   "outputs": [],
   "source": [
    "full_df = pd.DataFrame(data_list)[['author', 'body', 'score', 'created_utc', 'subreddit']]\n",
    "full_df.to_csv('comments_askscience.csv')"
   ]
  },
  {
   "cell_type": "code",
   "execution_count": 18,
   "id": "80a3f0be-eaf0-4d62-bf54-240fe0ea364d",
   "metadata": {},
   "outputs": [],
   "source": [
    "unix_times_stamp = 1627075090\n",
    "def pushshift_query(full_df_path, subreddit, s_type, iters=250):\n",
    "\n",
    "    for pull in range(iters):\n",
    "        full_df = pd.read_csv(full_df_path)\n",
    "        url = f'https://api.pushshift.io/reddit/search/comment/?subreddit=askscience&before={full_df[\"created_utc\"].min()}&size=100'\n",
    "\n",
    "        res = requests.get(url)\n",
    "        print(res.status_code)\n",
    "        if res.status_code == 200:\n",
    "            data_list = res.json()['data']\n",
    "            temp_df = pd.DataFrame(data_list)[['author', 'body', 'score', 'created_utc', 'subreddit']]\n",
    "            full_df = pd.concat([full_df, temp_df])\n",
    "            print(full_df.shape)\n",
    "            print(full_df['subreddit'].nunique())\n",
    "            print('waiting until next pull...')\n",
    "\n",
    "            time.sleep(5)\n",
    "        else:\n",
    "            continue\n",
    "        full_df.to_csv(full_df_path, index=False)"
   ]
  },
  {
   "cell_type": "code",
   "execution_count": 22,
   "id": "56eab613-7f75-4a7e-bd17-0ac70ba929b5",
   "metadata": {},
   "outputs": [],
   "source": [
    "pushshift_query(full_df_path='./comments_askscience.csv', subreddit='askscience', s_type='comment')"
   ]
  }
 ],
 "metadata": {
  "kernelspec": {
   "display_name": "Python 3",
   "language": "python",
   "name": "python3"
  },
  "language_info": {
   "codemirror_mode": {
    "name": "ipython",
    "version": 3
   },
   "file_extension": ".py",
   "mimetype": "text/x-python",
   "name": "python",
   "nbconvert_exporter": "python",
   "pygments_lexer": "ipython3",
   "version": "3.8.8"
  }
 },
 "nbformat": 4,
 "nbformat_minor": 5
}
