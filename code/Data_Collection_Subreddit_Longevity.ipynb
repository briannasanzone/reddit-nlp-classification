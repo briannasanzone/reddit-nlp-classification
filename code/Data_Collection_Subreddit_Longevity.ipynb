{
 "cells": [
  {
   "cell_type": "markdown",
   "id": "f2a9c193-61c4-400d-affc-68025c18e978",
   "metadata": {},
   "source": [
    "# **Data Collection for Subreddit r/Longevity**"
   ]
  },
  {
   "cell_type": "markdown",
   "id": "78b11c38-593f-42e7-af7a-2e48bf60b3a6",
   "metadata": {},
   "source": [
    "#### **Imports**"
   ]
  },
  {
   "cell_type": "code",
   "execution_count": 2,
   "id": "f1a4b7a6-547b-484f-bd22-aedfa4eacfad",
   "metadata": {},
   "outputs": [],
   "source": [
    "import requests\n",
    "import pandas as pd\n",
    "import time\n",
    "import datetime as dt"
   ]
  },
  {
   "cell_type": "markdown",
   "id": "386d8b13-e78a-4c16-b2a8-c6ceccae9052",
   "metadata": {},
   "source": [
    "#### **Getting the most recent posts from subreddit r/longevity**"
   ]
  },
  {
   "cell_type": "code",
   "execution_count": 45,
   "id": "697ca99e-d47d-49fe-8eaf-a30d6fa0d0bb",
   "metadata": {},
   "outputs": [],
   "source": [
    "for pull in range(3):\n",
    "    \n",
    "    url = f'https://api.pushshift.io/reddit/search/submission/?subreddit=longevity&before=1627143786&size=100'\n",
    "    \n",
    "    res = requests.get(url)\n",
    "    assert res.status_code == 200\n",
    "    post_list = res.json()['data']"
   ]
  },
  {
   "cell_type": "code",
   "execution_count": 19,
   "id": "6dd10263-6abd-4a59-b9db-7e1cdd13895f",
   "metadata": {},
   "outputs": [],
   "source": [
    "full_df = pd.DataFrame(post_list)[['title', 'author', 'created_utc', 'selftext', 'score', 'subreddit']]\n",
    "full_df.to_csv('longevity_posts.csv')"
   ]
  },
  {
   "cell_type": "code",
   "execution_count": 29,
   "id": "bd2c7034-8374-4695-b221-0b03344e79c1",
   "metadata": {},
   "outputs": [],
   "source": [
    "unix_times_stamp = 1627143786\n",
    "def pushshift_query(full_df_path, subreddit, s_type, iters=200):\n",
    "\n",
    "    for pull in range(iters):\n",
    "        full_df = pd.read_csv(full_df_path)\n",
    "        url = f'https://api.pushshift.io/reddit/search/submission/?subreddit=longevity&before={full_df[\"created_utc\"].min()}&size=100'\n",
    "\n",
    "        res = requests.get(url)\n",
    "        print(res.status_code)\n",
    "        if res.status_code == 200:\n",
    "            post_list = res.json()['data']\n",
    "            temp_df = pd.DataFrame(post_list)[['title', 'author', 'created_utc', 'selftext', 'score', 'subreddit']]\n",
    "            full_df = pd.concat([full_df, temp_df])\n",
    "            print(full_df.shape)\n",
    "            print(full_df['title'].nunique())\n",
    "            print('waiting until next pull...')\n",
    "\n",
    "            time.sleep(5)\n",
    "        else:\n",
    "            continue\n",
    "        full_df.to_csv(full_df_path, index=False)"
   ]
  },
  {
   "cell_type": "code",
   "execution_count": 23,
   "id": "bcff33a5-4732-48b5-91c3-29e5c82cfbe9",
   "metadata": {},
   "outputs": [],
   "source": [
    "pushshift_query(full_df_path='./longevity_posts.csv', subreddit='longevity', s_type='submissions')"
   ]
  },
  {
   "cell_type": "markdown",
   "id": "4071ff9f-fe0c-4979-93da-fcc40a0eec09",
   "metadata": {},
   "source": [
    "#### **Getting the most recent comments in subreddit r/longevity with keyword \"symptoms\" in comment**"
   ]
  },
  {
   "cell_type": "code",
   "execution_count": 15,
   "id": "b5f8f07d-154d-4ee1-bc2a-dd4535b3c6a3",
   "metadata": {},
   "outputs": [],
   "source": [
    "for pull in range(3):\n",
    "    \n",
    "    url = f'https://api.pushshift.io/reddit/search/comment/?q=symptoms&subreddit=longevity&before=1627143786&size=100'\n",
    "    \n",
    "    res = requests.get(url)\n",
    "    assert res.status_code == 200\n",
    "    data_list = res.json()['data']"
   ]
  },
  {
   "cell_type": "code",
   "execution_count": 16,
   "id": "6af4bc86-fc7e-4e5e-9dfd-d2143dd3b26f",
   "metadata": {},
   "outputs": [],
   "source": [
    "full_df = pd.DataFrame(data_list)[['author', 'body', 'score', 'created_utc', 'subreddit']]\n",
    "full_df.to_csv('symptomsinlongevity_comments.csv')"
   ]
  },
  {
   "cell_type": "code",
   "execution_count": 18,
   "id": "f382337b-1d1d-4df8-9cc3-c849159bd278",
   "metadata": {},
   "outputs": [],
   "source": [
    "unix_times_stamp = 1627075090\n",
    "def pushshift_query(full_df_path, subreddit, s_type, iters=500):\n",
    "\n",
    "    for pull in range(iters):\n",
    "        full_df = pd.read_csv(full_df_path)\n",
    "        url = f'https://api.pushshift.io/reddit/search/comment/?q=symptoms&subreddit=longevity&before={full_df[\"created_utc\"].min()}&size=100'\n",
    "\n",
    "        res = requests.get(url)\n",
    "        print(res.status_code)\n",
    "        if res.status_code == 200:\n",
    "            data_list = res.json()['data']\n",
    "            temp_df = pd.DataFrame(data_list)[['author', 'body', 'score', 'created_utc', 'subreddit']]\n",
    "            full_df = pd.concat([full_df, temp_df])\n",
    "            print(full_df.shape)\n",
    "            print(full_df['subreddit'].nunique())\n",
    "            print('waiting until next pull...')\n",
    "\n",
    "            time.sleep(5)\n",
    "        else:\n",
    "            continue\n",
    "        full_df.to_csv(full_df_path, index=False)"
   ]
  },
  {
   "cell_type": "code",
   "execution_count": 20,
   "id": "1cb3ccd0-df19-465b-b81f-2aec97ede9b8",
   "metadata": {},
   "outputs": [],
   "source": [
    "pushshift_query(full_df_path='./symptomsinlongevity_comments.csv', subreddit='longevity', s_type='comment')"
   ]
  },
  {
   "cell_type": "markdown",
   "id": "89d24f20-1108-4470-a91d-d827fefd3dd9",
   "metadata": {},
   "source": [
    "#### **Getting the most recent comments from subreddit r/longevity**"
   ]
  },
  {
   "cell_type": "code",
   "execution_count": 24,
   "id": "0ac4d1dd-63e5-494f-b648-17ba58ecdcdd",
   "metadata": {},
   "outputs": [],
   "source": [
    "for pull in range(3):\n",
    "    \n",
    "    url = f'https://api.pushshift.io/reddit/search/comment/?subreddit=longevity&before=1627143786&size=100'\n",
    "    \n",
    "    res = requests.get(url)\n",
    "    assert res.status_code == 200\n",
    "    comment_list = res.json()['data']"
   ]
  },
  {
   "cell_type": "code",
   "execution_count": 25,
   "id": "c307f1f4-b73d-4092-ac99-0679bce668f1",
   "metadata": {},
   "outputs": [],
   "source": [
    "full_df = pd.DataFrame(comment_list)[['author', 'body', 'score', 'created_utc', 'subreddit']]\n",
    "full_df.to_csv('comments_longevity.csv')"
   ]
  },
  {
   "cell_type": "code",
   "execution_count": 26,
   "id": "35f84864-09ae-41ff-a9a8-7223f1e72b74",
   "metadata": {},
   "outputs": [],
   "source": [
    "def pushshift_query(full_df_path, subreddit, s_type, iters=500):\n",
    "\n",
    "    for pull in range(iters):\n",
    "        full_df = pd.read_csv(full_df_path)\n",
    "        url = f'https://api.pushshift.io/reddit/search/comment/?subreddit=longevity&before={full_df[\"created_utc\"].min()}&size=100'\n",
    "\n",
    "        res = requests.get(url)\n",
    "        print(res.status_code)\n",
    "        if res.status_code == 200:\n",
    "            comment_list = res.json()['data']\n",
    "            temp_df = pd.DataFrame(comment_list)[['author', 'body', 'score', 'created_utc', 'subreddit']]\n",
    "            full_df = pd.concat([full_df, temp_df])\n",
    "            print(full_df.shape)\n",
    "            print(full_df['subreddit'].nunique())\n",
    "            print('waiting until next pull...')\n",
    "\n",
    "            time.sleep(5)\n",
    "        else:\n",
    "            continue\n",
    "        full_df.to_csv(full_df_path, index=False)"
   ]
  },
  {
   "cell_type": "code",
   "execution_count": 28,
   "id": "b2e12c46-5b36-4b1f-ae6a-0688a05a9a85",
   "metadata": {},
   "outputs": [],
   "source": [
    "pushshift_query(full_df_path='./comments_longevity.csv', subreddit='longevity', s_type='comment')"
   ]
  }
 ],
 "metadata": {
  "kernelspec": {
   "display_name": "Python 3",
   "language": "python",
   "name": "python3"
  },
  "language_info": {
   "codemirror_mode": {
    "name": "ipython",
    "version": 3
   },
   "file_extension": ".py",
   "mimetype": "text/x-python",
   "name": "python",
   "nbconvert_exporter": "python",
   "pygments_lexer": "ipython3",
   "version": "3.8.8"
  }
 },
 "nbformat": 4,
 "nbformat_minor": 5
}
