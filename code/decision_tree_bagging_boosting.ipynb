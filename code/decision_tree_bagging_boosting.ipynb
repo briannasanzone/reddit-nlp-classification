{
 "cells": [
  {
   "cell_type": "markdown",
   "id": "b60a8ebf-8250-41fa-bc61-64000bec0b45",
   "metadata": {},
   "source": [
    "#### **Imports**"
   ]
  },
  {
   "cell_type": "code",
   "execution_count": 80,
   "id": "545f88fa-2865-4dd8-afcc-707a1642c2c4",
   "metadata": {},
   "outputs": [],
   "source": [
    "import pandas as pd\n",
    "import numpy as np\n",
    "import requests\n",
    "import time\n",
    "import nltk\n",
    "import regex as re\n",
    "from collections import Counter\n",
    "import matplotlib.pyplot as plt\n",
    "import seaborn as sns\n",
    "\n",
    "from sklearn.model_selection import train_test_split, GridSearchCV, cross_val_score, RandomizedSearchCV\n",
    "from nltk.corpus import stopwords\n",
    "from sklearn.preprocessing import StandardScaler\n",
    "from sklearn.linear_model import LogisticRegression\n",
    "from sklearn.metrics import confusion_matrix, ConfusionMatrixDisplay, accuracy_score\n",
    "from sklearn.feature_extraction.text import CountVectorizer, TfidfVectorizer\n",
    "from sklearn.pipeline import Pipeline\n",
    "from sklearn.naive_bayes import MultinomialNB, BernoulliNB\n",
    "from sklearn.tree import DecisionTreeClassifier, plot_tree, export_text\n",
    "from sklearn.ensemble import GradientBoostingClassifier, AdaBoostClassifier, RandomForestClassifier, BaggingClassifier\n",
    "from xgboost import XGBClassifier\n",
    "import warnings \n",
    "warnings.filterwarnings(\"ignore\")"
   ]
  },
  {
   "cell_type": "markdown",
   "id": "363184cd-442b-43ea-a5cf-05b32250a48c",
   "metadata": {},
   "source": [
    "#### **Read in .csv file and remove first column**"
   ]
  },
  {
   "cell_type": "code",
   "execution_count": 81,
   "id": "3c31cd46-582c-4ec7-ab44-2bd5680647e2",
   "metadata": {},
   "outputs": [
    {
     "data": {
      "text/html": [
       "<div>\n",
       "<style scoped>\n",
       "    .dataframe tbody tr th:only-of-type {\n",
       "        vertical-align: middle;\n",
       "    }\n",
       "\n",
       "    .dataframe tbody tr th {\n",
       "        vertical-align: top;\n",
       "    }\n",
       "\n",
       "    .dataframe thead th {\n",
       "        text-align: right;\n",
       "    }\n",
       "</style>\n",
       "<table border=\"1\" class=\"dataframe\">\n",
       "  <thead>\n",
       "    <tr style=\"text-align: right;\">\n",
       "      <th></th>\n",
       "      <th>author</th>\n",
       "      <th>body</th>\n",
       "      <th>score</th>\n",
       "      <th>created_utc</th>\n",
       "      <th>subreddit</th>\n",
       "      <th>body_word_count</th>\n",
       "    </tr>\n",
       "  </thead>\n",
       "  <tbody>\n",
       "    <tr>\n",
       "      <th>0</th>\n",
       "      <td>RobusEtCeleritas</td>\n",
       "      <td>None of that means anything  You clearly have ...</td>\n",
       "      <td>3</td>\n",
       "      <td>1627142891</td>\n",
       "      <td>1</td>\n",
       "      <td>11</td>\n",
       "    </tr>\n",
       "    <tr>\n",
       "      <th>1</th>\n",
       "      <td>hydroxypcp</td>\n",
       "      <td>The legal limit varies among countries  It s c...</td>\n",
       "      <td>0</td>\n",
       "      <td>1627140964</td>\n",
       "      <td>1</td>\n",
       "      <td>130</td>\n",
       "    </tr>\n",
       "    <tr>\n",
       "      <th>2</th>\n",
       "      <td>AnthillOmbudsman</td>\n",
       "      <td>But magma chambers aren t hollow caverns   I m...</td>\n",
       "      <td>1</td>\n",
       "      <td>1627140360</td>\n",
       "      <td>1</td>\n",
       "      <td>14</td>\n",
       "    </tr>\n",
       "    <tr>\n",
       "      <th>3</th>\n",
       "      <td>AWormDude</td>\n",
       "      <td>According to this study  https   www research...</td>\n",
       "      <td>5</td>\n",
       "      <td>1627139388</td>\n",
       "      <td>1</td>\n",
       "      <td>487</td>\n",
       "    </tr>\n",
       "    <tr>\n",
       "      <th>4</th>\n",
       "      <td>Trypanosoma_</td>\n",
       "      <td>Look up TH   cellular response  vs TH   humora...</td>\n",
       "      <td>-4</td>\n",
       "      <td>1627136260</td>\n",
       "      <td>1</td>\n",
       "      <td>57</td>\n",
       "    </tr>\n",
       "  </tbody>\n",
       "</table>\n",
       "</div>"
      ],
      "text/plain": [
       "             author                                               body  score  \\\n",
       "0  RobusEtCeleritas  None of that means anything  You clearly have ...      3   \n",
       "1        hydroxypcp  The legal limit varies among countries  It s c...      0   \n",
       "2  AnthillOmbudsman  But magma chambers aren t hollow caverns   I m...      1   \n",
       "3         AWormDude   According to this study  https   www research...      5   \n",
       "4      Trypanosoma_  Look up TH   cellular response  vs TH   humora...     -4   \n",
       "\n",
       "   created_utc  subreddit  body_word_count  \n",
       "0   1627142891          1               11  \n",
       "1   1627140964          1              130  \n",
       "2   1627140360          1               14  \n",
       "3   1627139388          1              487  \n",
       "4   1627136260          1               57  "
      ]
     },
     "execution_count": 81,
     "metadata": {},
     "output_type": "execute_result"
    }
   ],
   "source": [
    "# read in dataframe saved as .csv file\n",
    "df = pd.read_csv('comments.csv')\n",
    "# drop first column\n",
    "df.drop(columns='Unnamed: 0', inplace=True)\n",
    "df.head()"
   ]
  },
  {
   "cell_type": "code",
   "execution_count": 82,
   "id": "f6fea7cc-4419-400c-affc-8ec1e71bd6e0",
   "metadata": {},
   "outputs": [],
   "source": [
    "all_stop_words = stopwords.words('english')\n",
    "new_words=('https', 'com', 'www', 'really', 'would', 'gt', 'like', 'also', 'get', 'even', 'much', 'could', 'see', 'really', 'know')\n",
    "for i in new_words:\n",
    "    all_stop_words.append(i)"
   ]
  },
  {
   "cell_type": "markdown",
   "id": "9bacbcb5-0213-4352-9727-a117f3fb3ac1",
   "metadata": {},
   "source": [
    "#### **X, y, train_test_split**"
   ]
  },
  {
   "cell_type": "code",
   "execution_count": 83,
   "id": "966a31ef-822a-4ed4-8919-0e00a223bd4e",
   "metadata": {},
   "outputs": [],
   "source": [
    "X = df[['body']]\n",
    "y = df['subreddit']\n",
    "\n",
    "X = [word.lower().split() for word in df['body']]\n",
    "posts_list = []\n",
    "for post in X:\n",
    "    meaningful_words = [word for word in post if word not in all_stop_words]\n",
    "    meaningful_post = \" \".join(meaningful_words)\n",
    "    posts_list.append(meaningful_post)\n",
    "    \n",
    "modeltext = pd.Series(posts_list)\n",
    "df['body'] = modeltext\n",
    "X = df['body']\n",
    "y = df['subreddit']\n",
    "X_train, X_test, y_train, y_test = train_test_split(X,\n",
    "                                   y,\n",
    "                                   train_size=0.75,\n",
    "                                   stratify=y,\n",
    "                                   random_state=42)"
   ]
  },
  {
   "cell_type": "markdown",
   "id": "d8dd0049-7a22-497c-aae1-c38c77bf9cf6",
   "metadata": {},
   "source": [
    "#### **Baseline Accuracy**"
   ]
  },
  {
   "cell_type": "code",
   "execution_count": 84,
   "id": "9d0187db-1f08-4ba6-85ec-d2f7a4da4501",
   "metadata": {},
   "outputs": [
    {
     "data": {
      "text/plain": [
       "0    0.699791\n",
       "1    0.300209\n",
       "Name: subreddit, dtype: float64"
      ]
     },
     "execution_count": 84,
     "metadata": {},
     "output_type": "execute_result"
    }
   ],
   "source": [
    "y.value_counts(normalize=True)"
   ]
  },
  {
   "cell_type": "markdown",
   "id": "43192c64-fcfe-48cd-986b-b5ad5509541c",
   "metadata": {},
   "source": [
    "#### **Instantiate CountVectorizer**"
   ]
  },
  {
   "cell_type": "code",
   "execution_count": 85,
   "id": "4d187f24-49ff-43f8-bce2-8d2a6c5fe1b0",
   "metadata": {},
   "outputs": [],
   "source": [
    "cv = CountVectorizer(ngram_range=(1,1), min_df=3, max_df=.85)\n",
    "\n",
    "cv.fit(X_train)\n",
    "\n",
    "X_train_cv=cv.transform(X_train)\n",
    "X_test_cv=cv.transform(X_test)"
   ]
  },
  {
   "cell_type": "markdown",
   "id": "bf3af9dc-414a-4b9e-bf9f-2984d54e97c7",
   "metadata": {},
   "source": [
    "##### **DecisionTreeClassifier**"
   ]
  },
  {
   "cell_type": "code",
   "execution_count": 89,
   "id": "3e0eafdf-70b7-49cd-83bf-9b47b33536d0",
   "metadata": {},
   "outputs": [
    {
     "name": "stdout",
     "output_type": "stream",
     "text": [
      "Wall time: 0 ns\n",
      "0.786252999657182\n",
      "0.7716930196683378\n"
     ]
    }
   ],
   "source": [
    "%time\n",
    "dtc = DecisionTreeClassifier(max_depth=15)\n",
    "dtc.fit(X_train_cv, y_train)\n",
    "print(dtc.score(X_train_cv, y_train))\n",
    "print(dtc.score(X_test_cv,y_test))"
   ]
  },
  {
   "cell_type": "code",
   "execution_count": 91,
   "id": "c5efa216-d64d-4eeb-852f-fea8853e4512",
   "metadata": {},
   "outputs": [
    {
     "name": "stdout",
     "output_type": "stream",
     "text": [
      "Accuracy Score: 0.7716930196683378\n"
     ]
    }
   ],
   "source": [
    "predictions_dtc = dtc.predict(X_test_cv)\n",
    "print(f'Accuracy Score: {accuracy_score(y_test, predictions_dtc)}')"
   ]
  },
  {
   "cell_type": "markdown",
   "id": "3f392047-089b-46e6-ac57-dc071e892f64",
   "metadata": {},
   "source": [
    "##### **AdaBoostClassifier**"
   ]
  },
  {
   "cell_type": "code",
   "execution_count": 87,
   "id": "5bf71450-7882-4cf7-a588-a832481f0dc5",
   "metadata": {},
   "outputs": [
    {
     "name": "stdout",
     "output_type": "stream",
     "text": [
      "0.8803136784367501\n",
      "0.852037536958478\n",
      "Wall time: 16.9 s\n"
     ]
    }
   ],
   "source": [
    "%%time\n",
    "abc = AdaBoostClassifier(random_state=22, n_estimators=400)\n",
    "abc.fit(X_train_cv,y_train)\n",
    "print(abc.score(X_train_cv, y_train))\n",
    "print(abc.score(X_test_cv, y_test))"
   ]
  },
  {
   "cell_type": "code",
   "execution_count": 93,
   "id": "682473dd-98f0-461f-a4f4-bc183222e61a",
   "metadata": {},
   "outputs": [
    {
     "name": "stdout",
     "output_type": "stream",
     "text": [
      "Accuracy Score: 0.852037536958478\n"
     ]
    }
   ],
   "source": [
    "predictions_abc = abc.predict(X_test_cv)\n",
    "print(f'Accuracy Score: {accuracy_score(y_test, predictions_abc)}')"
   ]
  },
  {
   "cell_type": "markdown",
   "id": "bf233571-ac68-420f-a383-a80c1d4cb4ff",
   "metadata": {},
   "source": [
    "##### **GradientBoostingClassifier**"
   ]
  },
  {
   "cell_type": "code",
   "execution_count": 94,
   "id": "b63ecb02-ee5d-409e-ab88-d09cb04e26e6",
   "metadata": {},
   "outputs": [
    {
     "name": "stdout",
     "output_type": "stream",
     "text": [
      "      Iter       Train Loss   Remaining Time \n",
      "         1           1.2018           58.47s\n",
      "         2           1.1850           46.65s\n",
      "         3           1.1702           43.64s\n",
      "         4           1.1579           41.12s\n",
      "         5           1.1462           40.30s\n",
      "         6           1.1362           38.61s\n",
      "         7           1.1269           37.64s\n",
      "         8           1.1186           36.92s\n",
      "         9           1.1105           36.33s\n",
      "        10           1.1036           35.85s\n",
      "        20           1.0482           35.56s\n",
      "        30           1.0086           34.46s\n",
      "        40           0.9788           33.30s\n",
      "        50           0.9534           31.53s\n",
      "        60           0.9317           29.94s\n",
      "        70           0.9130           28.26s\n",
      "        80           0.8958           27.07s\n",
      "        90           0.8809           25.80s\n",
      "       100           0.8665           24.83s\n",
      "       200           0.7704           15.33s\n",
      "       300           0.7108            7.40s\n",
      "       400           0.6666            0.00s\n",
      "0.8687007199177237\n",
      "0.8400822727857051\n",
      "Wall time: 29.4 s\n"
     ]
    }
   ],
   "source": [
    "%%time\n",
    "gbc = GradientBoostingClassifier(verbose=1, n_estimators = 400, max_depth=4, random_state=42)\n",
    "gbc.fit(X_train_cv, y_train)\n",
    "print(gbc.score(X_train_cv, y_train))\n",
    "print(gbc.score(X_test_cv, y_test))"
   ]
  },
  {
   "cell_type": "code",
   "execution_count": 98,
   "id": "5210fcb3-0288-49e8-b323-63c9e0c5fbe7",
   "metadata": {},
   "outputs": [
    {
     "name": "stdout",
     "output_type": "stream",
     "text": [
      "Accuracy Score: 0.8400822727857051\n"
     ]
    }
   ],
   "source": [
    "predictions_gbc = gbc.predict(X_test_cv)\n",
    "print(f'Accuracy Score: {accuracy_score(y_test, predictions_gbc)}')"
   ]
  },
  {
   "cell_type": "markdown",
   "id": "027bb2f4-9dbc-472c-ab80-01c81c46d3c1",
   "metadata": {},
   "source": [
    "##### **XGBClassifier**"
   ]
  },
  {
   "cell_type": "code",
   "execution_count": 96,
   "id": "4ff23d4b-bf4f-431d-9aa6-5a8e4ad96587",
   "metadata": {},
   "outputs": [
    {
     "name": "stdout",
     "output_type": "stream",
     "text": [
      "0.8681007884813164\n",
      "0.8421390924283327\n",
      "Wall time: 3.28 s\n"
     ]
    }
   ],
   "source": [
    "%%time\n",
    "xg = XGBClassifier(subsample = 0.5, eval_metric='mlogloss')\n",
    "xg.fit(X_train_cv, y_train)\n",
    "print(xg.score(X_train_cv, y_train))\n",
    "print(xg.score(X_test_cv, y_test))"
   ]
  },
  {
   "cell_type": "code",
   "execution_count": 97,
   "id": "89049ec3-2f73-45ab-8dfd-e7f7063890e5",
   "metadata": {},
   "outputs": [
    {
     "name": "stdout",
     "output_type": "stream",
     "text": [
      "Accuracy Score: 0.8421390924283327\n"
     ]
    }
   ],
   "source": [
    "predictions_xg = xg.predict(X_test_cv)\n",
    "print(f'Accuracy Score: {accuracy_score(y_test, predictions_xg)}')"
   ]
  },
  {
   "cell_type": "markdown",
   "id": "511f78fc-6aea-4fe1-a4fb-5d3741c8b358",
   "metadata": {},
   "source": [
    "#### **Best Score: ADABoostClassifier Confusion Matrix**"
   ]
  },
  {
   "cell_type": "code",
   "execution_count": 99,
   "id": "2de2473f-c95c-451e-af2c-a6926586f9dd",
   "metadata": {},
   "outputs": [
    {
     "name": "stdout",
     "output_type": "stream",
     "text": [
      "Specificity: 0.9410360029390155\n"
     ]
    },
    {
     "data": {
      "image/png": "[encoded data removed]",
      "text/plain": [
       "<Figure size 432x288 with 2 Axes>"
      ]
     },
     "metadata": {
      "needs_background": "light"
     },
     "output_type": "display_data"
    }
   ],
   "source": [
    "cm = confusion_matrix(y_test, predictions_abc)\n",
    "tn, fp, fn, tp = cm.ravel()\n",
    "\n",
    "# Calculate specificity\n",
    "spec = tn / (tn + fp)\n",
    "\n",
    "print('Specificity:', spec)\n",
    "ConfusionMatrixDisplay(cm).plot();"
   ]
  }
 ],
 "metadata": {
  "kernelspec": {
   "display_name": "Python 3",
   "language": "python",
   "name": "python3"
  },
  "language_info": {
   "codemirror_mode": {
    "name": "ipython",
    "version": 3
   },
   "file_extension": ".py",
   "mimetype": "text/x-python",
   "name": "python",
   "nbconvert_exporter": "python",
   "pygments_lexer": "ipython3",
   "version": "3.8.8"
  }
 },
 "nbformat": 4,
 "nbformat_minor": 5
}
