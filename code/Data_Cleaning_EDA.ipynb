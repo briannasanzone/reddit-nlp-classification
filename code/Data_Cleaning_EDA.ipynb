{
 "cells": [
  {
   "cell_type": "markdown",
   "id": "3fb60479-96c5-46ef-8dd2-32e10bd2d9df",
   "metadata": {},
   "source": [
    "## **Data Cleaning: Posts**"
   ]
  },
  {
   "cell_type": "markdown",
   "id": "af42c733-b1fc-4bf7-be99-fb62f1c3b865",
   "metadata": {},
   "source": [
    "##### **Imports**"
   ]
  },
  {
   "cell_type": "code",
   "execution_count": 145,
   "id": "f3697d28-8cc6-4e89-b989-6c9406bc22d5",
   "metadata": {},
   "outputs": [],
   "source": [
    "import pandas as pd\n",
    "import numpy as np\n",
    "import matplotlib.pyplot as plt\n",
    "import seaborn as sns\n",
    "import time\n",
    "import re\n",
    "import os\n",
    "\n",
    "from nltk.tokenize import sent_tokenize, word_tokenize, RegexpTokenizer\n",
    "from nltk.stem import WordNetLemmatizer\n",
    "from nltk.stem.porter import PorterStemmer\n",
    "from nltk.corpus import stopwords\n",
    "from nltk.sentiment.vader import SentimentIntensityAnalyzer\n",
    "from sklearn.model_selection import train_test_split, cross_val_score, GridSearchCV, cross_val_score\n",
    "from sklearn.feature_extraction.text import CountVectorizer, TfidfVectorizer\n",
    "\n",
    "sns.set_theme(palette='crest')"
   ]
  },
  {
   "cell_type": "markdown",
   "id": "ba05d043-8f0f-470c-9ddd-4420951e18c4",
   "metadata": {},
   "source": [
    "##### **Read in data saved in ./datasets folder**"
   ]
  },
  {
   "cell_type": "code",
   "execution_count": 38,
   "id": "46bf157f-b3f0-40be-894c-88fcf46224cb",
   "metadata": {},
   "outputs": [
    {
     "name": "stdout",
     "output_type": "stream",
     "text": [
      "(53819, 6)\n"
     ]
    }
   ],
   "source": [
    "files = os.listdir('posts_data/')\n",
    "data_folder = 'posts_data/'\n",
    "list_dataframe=[]\n",
    "for file in files:\n",
    "    file = pd.read_csv(data_folder+file)\n",
    "    list_dataframe.append(file)\n",
    "df = pd.concat([list_dataframe[0],list_dataframe[1]], ignore_index=True)\n",
    "df.drop(columns='Unnamed: 0', inplace=True)\n",
    "print(df.shape)"
   ]
  },
  {
   "cell_type": "markdown",
   "id": "ee967335-b8f8-4fe5-841d-4e5986fa0ae4",
   "metadata": {},
   "source": [
    "##### **Quick look at the first 5 rows of the dataframe**"
   ]
  },
  {
   "cell_type": "code",
   "execution_count": 39,
   "id": "c5765d7f-ee40-44ae-8c8a-02eea7f332e7",
   "metadata": {},
   "outputs": [
    {
     "data": {
      "text/html": [
       "<div>\n",
       "<style scoped>\n",
       "    .dataframe tbody tr th:only-of-type {\n",
       "        vertical-align: middle;\n",
       "    }\n",
       "\n",
       "    .dataframe tbody tr th {\n",
       "        vertical-align: top;\n",
       "    }\n",
       "\n",
       "    .dataframe thead th {\n",
       "        text-align: right;\n",
       "    }\n",
       "</style>\n",
       "<table border=\"1\" class=\"dataframe\">\n",
       "  <thead>\n",
       "    <tr style=\"text-align: right;\">\n",
       "      <th></th>\n",
       "      <th>title</th>\n",
       "      <th>author</th>\n",
       "      <th>created_utc</th>\n",
       "      <th>selftext</th>\n",
       "      <th>score</th>\n",
       "      <th>subreddit</th>\n",
       "    </tr>\n",
       "  </thead>\n",
       "  <tbody>\n",
       "    <tr>\n",
       "      <th>0</th>\n",
       "      <td>Why do we vomit when we are too hot?</td>\n",
       "      <td>childloser</td>\n",
       "      <td>1627143368</td>\n",
       "      <td>[removed]</td>\n",
       "      <td>1</td>\n",
       "      <td>askscience</td>\n",
       "    </tr>\n",
       "    <tr>\n",
       "      <th>1</th>\n",
       "      <td>How much CO2 is released by manufacturing a ki...</td>\n",
       "      <td>banmeyoucoward</td>\n",
       "      <td>1627143292</td>\n",
       "      <td>[removed]</td>\n",
       "      <td>1</td>\n",
       "      <td>askscience</td>\n",
       "    </tr>\n",
       "    <tr>\n",
       "      <th>2</th>\n",
       "      <td>Is the level of AI portrayed in movies (fully ...</td>\n",
       "      <td>SchoolThrow123</td>\n",
       "      <td>1627143240</td>\n",
       "      <td>[removed]</td>\n",
       "      <td>1</td>\n",
       "      <td>askscience</td>\n",
       "    </tr>\n",
       "    <tr>\n",
       "      <th>3</th>\n",
       "      <td>Why do some animals have moustache and whiskers</td>\n",
       "      <td>notowork</td>\n",
       "      <td>1627143114</td>\n",
       "      <td>[removed]</td>\n",
       "      <td>1</td>\n",
       "      <td>askscience</td>\n",
       "    </tr>\n",
       "    <tr>\n",
       "      <th>4</th>\n",
       "      <td>What is the maximal theoretical size for an an...</td>\n",
       "      <td>Vantaie</td>\n",
       "      <td>1627142862</td>\n",
       "      <td>[removed]</td>\n",
       "      <td>1</td>\n",
       "      <td>askscience</td>\n",
       "    </tr>\n",
       "  </tbody>\n",
       "</table>\n",
       "</div>"
      ],
      "text/plain": [
       "                                               title          author  \\\n",
       "0               Why do we vomit when we are too hot?      childloser   \n",
       "1  How much CO2 is released by manufacturing a ki...  banmeyoucoward   \n",
       "2  Is the level of AI portrayed in movies (fully ...  SchoolThrow123   \n",
       "3    Why do some animals have moustache and whiskers        notowork   \n",
       "4  What is the maximal theoretical size for an an...         Vantaie   \n",
       "\n",
       "   created_utc   selftext  score   subreddit  \n",
       "0   1627143368  [removed]      1  askscience  \n",
       "1   1627143292  [removed]      1  askscience  \n",
       "2   1627143240  [removed]      1  askscience  \n",
       "3   1627143114  [removed]      1  askscience  \n",
       "4   1627142862  [removed]      1  askscience  "
      ]
     },
     "execution_count": 39,
     "metadata": {},
     "output_type": "execute_result"
    }
   ],
   "source": [
    "df.head()"
   ]
  },
  {
   "cell_type": "markdown",
   "id": "24b277e4-e14b-4260-a9b5-065f35ad4be4",
   "metadata": {},
   "source": [
    "##### **Evaluate for any duplicated rows and remove from dataframe**"
   ]
  },
  {
   "cell_type": "code",
   "execution_count": 40,
   "id": "4f2334f0-2f8a-4326-ae91-cceaa932efbc",
   "metadata": {},
   "outputs": [],
   "source": [
    "df.drop_duplicates(inplace=True,ignore_index=True)"
   ]
  },
  {
   "cell_type": "markdown",
   "id": "cd87cdd1-0967-42ff-97da-58470952c5ba",
   "metadata": {},
   "source": [
    "##### **Evaluate nulls, [removed], and [deleted] posts**\n",
    "###### 300 out of >53,000 posts that have no selftext other than [removed] or [deleted]"
   ]
  },
  {
   "cell_type": "code",
   "execution_count": 42,
   "id": "1e882543-d7f5-4d58-9f8b-b4af5a48392c",
   "metadata": {},
   "outputs": [
    {
     "name": "stdout",
     "output_type": "stream",
     "text": [
      "37190\n",
      "410\n",
      "13274\n"
     ]
    }
   ],
   "source": [
    "print((df['selftext'] == \"[removed]\").sum())\n",
    "print((df['selftext'] == \"[deleted]\").sum())\n",
    "print((df['selftext'].isna().sum()))"
   ]
  },
  {
   "cell_type": "markdown",
   "id": "3d08a5ba-6fc4-4ae5-954c-ace0455268bc",
   "metadata": {},
   "source": [
    "##### **Explore [removed] and [deleted] posts further**"
   ]
  },
  {
   "cell_type": "code",
   "execution_count": 43,
   "id": "30810962-92c5-43cd-a7a3-a0510366b834",
   "metadata": {},
   "outputs": [
    {
     "data": {
      "text/html": [
       "<div>\n",
       "<style scoped>\n",
       "    .dataframe tbody tr th:only-of-type {\n",
       "        vertical-align: middle;\n",
       "    }\n",
       "\n",
       "    .dataframe tbody tr th {\n",
       "        vertical-align: top;\n",
       "    }\n",
       "\n",
       "    .dataframe thead th {\n",
       "        text-align: right;\n",
       "    }\n",
       "</style>\n",
       "<table border=\"1\" class=\"dataframe\">\n",
       "  <thead>\n",
       "    <tr style=\"text-align: right;\">\n",
       "      <th></th>\n",
       "      <th>count</th>\n",
       "      <th>mean</th>\n",
       "      <th>std</th>\n",
       "      <th>min</th>\n",
       "      <th>25%</th>\n",
       "      <th>50%</th>\n",
       "      <th>75%</th>\n",
       "      <th>max</th>\n",
       "    </tr>\n",
       "    <tr>\n",
       "      <th>selftext</th>\n",
       "      <th></th>\n",
       "      <th></th>\n",
       "      <th></th>\n",
       "      <th></th>\n",
       "      <th></th>\n",
       "      <th></th>\n",
       "      <th></th>\n",
       "      <th></th>\n",
       "    </tr>\n",
       "  </thead>\n",
       "  <tbody>\n",
       "    <tr>\n",
       "      <th>[deleted]</th>\n",
       "      <td>410.0</td>\n",
       "      <td>2.480488</td>\n",
       "      <td>5.015464</td>\n",
       "      <td>0.0</td>\n",
       "      <td>1.0</td>\n",
       "      <td>1.0</td>\n",
       "      <td>1.0</td>\n",
       "      <td>44.0</td>\n",
       "    </tr>\n",
       "    <tr>\n",
       "      <th>[removed]</th>\n",
       "      <td>37190.0</td>\n",
       "      <td>1.072654</td>\n",
       "      <td>1.782989</td>\n",
       "      <td>0.0</td>\n",
       "      <td>1.0</td>\n",
       "      <td>1.0</td>\n",
       "      <td>1.0</td>\n",
       "      <td>149.0</td>\n",
       "    </tr>\n",
       "  </tbody>\n",
       "</table>\n",
       "</div>"
      ],
      "text/plain": [
       "             count      mean       std  min  25%  50%  75%    max\n",
       "selftext                                                         \n",
       "[deleted]    410.0  2.480488  5.015464  0.0  1.0  1.0  1.0   44.0\n",
       "[removed]  37190.0  1.072654  1.782989  0.0  1.0  1.0  1.0  149.0"
      ]
     },
     "execution_count": 43,
     "metadata": {},
     "output_type": "execute_result"
    }
   ],
   "source": [
    "df[(df['selftext'] == '[removed]')|(df['selftext'] == '[deleted]')].groupby('selftext')['score'].describe()"
   ]
  },
  {
   "cell_type": "code",
   "execution_count": 44,
   "id": "4f2b2fa4-2e9e-4916-9be5-f78d8209231a",
   "metadata": {},
   "outputs": [],
   "source": [
    "df[(df['selftext'] == '[removed]')|(df['selftext'] == '[deleted]')].groupby('selftext')['author'].value_counts()\n",
    "df = df[(df['author'] != \"[deleted]\") & (df['selftext'] != \"[deleted]\")]"
   ]
  },
  {
   "cell_type": "code",
   "execution_count": 45,
   "id": "6bcbd9e1-6ebb-4e5b-9be0-79e1537c865a",
   "metadata": {},
   "outputs": [
    {
     "data": {
      "text/plain": [
       "selftext   subreddit \n",
       "[removed]  askscience    34915\n",
       "           longevity      2248\n",
       "Name: subreddit, dtype: int64"
      ]
     },
     "execution_count": 45,
     "metadata": {},
     "output_type": "execute_result"
    }
   ],
   "source": [
    "df[(df['selftext'] == '[removed]')].groupby('selftext')['subreddit'].value_counts()"
   ]
  },
  {
   "cell_type": "code",
   "execution_count": 46,
   "id": "acaebf11-3315-41a2-88fe-5ada7a3a5ddf",
   "metadata": {},
   "outputs": [
    {
     "data": {
      "text/html": [
       "<div>\n",
       "<style scoped>\n",
       "    .dataframe tbody tr th:only-of-type {\n",
       "        vertical-align: middle;\n",
       "    }\n",
       "\n",
       "    .dataframe tbody tr th {\n",
       "        vertical-align: top;\n",
       "    }\n",
       "\n",
       "    .dataframe thead th {\n",
       "        text-align: right;\n",
       "    }\n",
       "</style>\n",
       "<table border=\"1\" class=\"dataframe\">\n",
       "  <thead>\n",
       "    <tr style=\"text-align: right;\">\n",
       "      <th></th>\n",
       "      <th>title</th>\n",
       "      <th>author</th>\n",
       "      <th>created_utc</th>\n",
       "      <th>selftext</th>\n",
       "      <th>score</th>\n",
       "      <th>subreddit</th>\n",
       "    </tr>\n",
       "  </thead>\n",
       "  <tbody>\n",
       "    <tr>\n",
       "      <th>0</th>\n",
       "      <td>Why do we vomit when we are too hot?</td>\n",
       "      <td>childloser</td>\n",
       "      <td>1627143368</td>\n",
       "      <td>[removed]</td>\n",
       "      <td>1</td>\n",
       "      <td>askscience</td>\n",
       "    </tr>\n",
       "    <tr>\n",
       "      <th>1</th>\n",
       "      <td>How much CO2 is released by manufacturing a ki...</td>\n",
       "      <td>banmeyoucoward</td>\n",
       "      <td>1627143292</td>\n",
       "      <td>[removed]</td>\n",
       "      <td>1</td>\n",
       "      <td>askscience</td>\n",
       "    </tr>\n",
       "    <tr>\n",
       "      <th>2</th>\n",
       "      <td>Is the level of AI portrayed in movies (fully ...</td>\n",
       "      <td>SchoolThrow123</td>\n",
       "      <td>1627143240</td>\n",
       "      <td>[removed]</td>\n",
       "      <td>1</td>\n",
       "      <td>askscience</td>\n",
       "    </tr>\n",
       "    <tr>\n",
       "      <th>3</th>\n",
       "      <td>Why do some animals have moustache and whiskers</td>\n",
       "      <td>notowork</td>\n",
       "      <td>1627143114</td>\n",
       "      <td>[removed]</td>\n",
       "      <td>1</td>\n",
       "      <td>askscience</td>\n",
       "    </tr>\n",
       "    <tr>\n",
       "      <th>4</th>\n",
       "      <td>What is the maximal theoretical size for an an...</td>\n",
       "      <td>Vantaie</td>\n",
       "      <td>1627142862</td>\n",
       "      <td>[removed]</td>\n",
       "      <td>1</td>\n",
       "      <td>askscience</td>\n",
       "    </tr>\n",
       "  </tbody>\n",
       "</table>\n",
       "</div>"
      ],
      "text/plain": [
       "                                               title          author  \\\n",
       "0               Why do we vomit when we are too hot?      childloser   \n",
       "1  How much CO2 is released by manufacturing a ki...  banmeyoucoward   \n",
       "2  Is the level of AI portrayed in movies (fully ...  SchoolThrow123   \n",
       "3    Why do some animals have moustache and whiskers        notowork   \n",
       "4  What is the maximal theoretical size for an an...         Vantaie   \n",
       "\n",
       "   created_utc   selftext  score   subreddit  \n",
       "0   1627143368  [removed]      1  askscience  \n",
       "1   1627143292  [removed]      1  askscience  \n",
       "2   1627143240  [removed]      1  askscience  \n",
       "3   1627143114  [removed]      1  askscience  \n",
       "4   1627142862  [removed]      1  askscience  "
      ]
     },
     "execution_count": 46,
     "metadata": {},
     "output_type": "execute_result"
    }
   ],
   "source": [
    "removed_selftext = df[(df['selftext'] == '[removed]')]\n",
    "removed_selftext.head()"
   ]
  },
  {
   "cell_type": "markdown",
   "id": "555d7291-4dfc-47de-8db9-79d27bfd360d",
   "metadata": {},
   "source": [
    "##### **Replace all [removed], [deleted], and null values in self text**"
   ]
  },
  {
   "cell_type": "code",
   "execution_count": 47,
   "id": "8a3b291f-8097-4663-b5ba-e53d8ef7f6f8",
   "metadata": {},
   "outputs": [],
   "source": [
    "# Replace posts with selftext [removed] and [deleted] with empty string\n",
    "df.replace({'selftext': {'[removed]':'', '[deleted]':''}}, inplace=True)\n",
    "\n",
    "# Replace posts with null values for selftext with empty string\n",
    "df.fillna({'selftext':''}, inplace=True)\n",
    "\n",
    "# combine selftext with title and create new column\n",
    "df['text'] = df['title'] + df['selftext']\n",
    "\n",
    "# drop selftext column\n",
    "df.drop(columns='selftext', inplace=True)"
   ]
  },
  {
   "cell_type": "markdown",
   "id": "dae38aae-d5b1-4925-b5df-80453916c355",
   "metadata": {},
   "source": [
    "##### **Apply regex function to all rows in text with lambda function**"
   ]
  },
  {
   "cell_type": "code",
   "execution_count": 48,
   "id": "964fc9b8-92b0-4438-aefc-b00cf41bc1a6",
   "metadata": {},
   "outputs": [],
   "source": [
    "df['text'] = df['text'].map(lambda x: re.sub(\"[^a-zA-Z]\", \" \", x))"
   ]
  },
  {
   "cell_type": "markdown",
   "id": "ffb7ff9e-bfae-40ab-a2b4-cab93d74f5e3",
   "metadata": {},
   "source": [
    "**Create labels for subreddits**"
   ]
  },
  {
   "cell_type": "code",
   "execution_count": 49,
   "id": "49a8743f-714e-4d70-9142-3382bd9b57bf",
   "metadata": {},
   "outputs": [],
   "source": [
    "subreddit_dict = {'longevity':0,\n",
    "            'askscience':1}\n",
    "df['subreddit'] = df['subreddit'].map(subreddit_dict)"
   ]
  },
  {
   "cell_type": "code",
   "execution_count": 50,
   "id": "7f4919a8-b492-450e-a7d9-6e9c00574c2c",
   "metadata": {},
   "outputs": [
    {
     "data": {
      "text/html": [
       "<div>\n",
       "<style scoped>\n",
       "    .dataframe tbody tr th:only-of-type {\n",
       "        vertical-align: middle;\n",
       "    }\n",
       "\n",
       "    .dataframe tbody tr th {\n",
       "        vertical-align: top;\n",
       "    }\n",
       "\n",
       "    .dataframe thead th {\n",
       "        text-align: right;\n",
       "    }\n",
       "</style>\n",
       "<table border=\"1\" class=\"dataframe\">\n",
       "  <thead>\n",
       "    <tr style=\"text-align: right;\">\n",
       "      <th></th>\n",
       "      <th>title</th>\n",
       "      <th>author</th>\n",
       "      <th>created_utc</th>\n",
       "      <th>score</th>\n",
       "      <th>subreddit</th>\n",
       "      <th>text</th>\n",
       "    </tr>\n",
       "  </thead>\n",
       "  <tbody>\n",
       "    <tr>\n",
       "      <th>0</th>\n",
       "      <td>Why do we vomit when we are too hot?</td>\n",
       "      <td>childloser</td>\n",
       "      <td>1627143368</td>\n",
       "      <td>1</td>\n",
       "      <td>1</td>\n",
       "      <td>Why do we vomit when we are too hot</td>\n",
       "    </tr>\n",
       "    <tr>\n",
       "      <th>1</th>\n",
       "      <td>How much CO2 is released by manufacturing a ki...</td>\n",
       "      <td>banmeyoucoward</td>\n",
       "      <td>1627143292</td>\n",
       "      <td>1</td>\n",
       "      <td>1</td>\n",
       "      <td>How much CO  is released by manufacturing a ki...</td>\n",
       "    </tr>\n",
       "    <tr>\n",
       "      <th>2</th>\n",
       "      <td>Is the level of AI portrayed in movies (fully ...</td>\n",
       "      <td>SchoolThrow123</td>\n",
       "      <td>1627143240</td>\n",
       "      <td>1</td>\n",
       "      <td>1</td>\n",
       "      <td>Is the level of AI portrayed in movies  fully ...</td>\n",
       "    </tr>\n",
       "    <tr>\n",
       "      <th>3</th>\n",
       "      <td>Why do some animals have moustache and whiskers</td>\n",
       "      <td>notowork</td>\n",
       "      <td>1627143114</td>\n",
       "      <td>1</td>\n",
       "      <td>1</td>\n",
       "      <td>Why do some animals have moustache and whiskers</td>\n",
       "    </tr>\n",
       "    <tr>\n",
       "      <th>4</th>\n",
       "      <td>What is the maximal theoretical size for an an...</td>\n",
       "      <td>Vantaie</td>\n",
       "      <td>1627142862</td>\n",
       "      <td>1</td>\n",
       "      <td>1</td>\n",
       "      <td>What is the maximal theoretical size for an an...</td>\n",
       "    </tr>\n",
       "  </tbody>\n",
       "</table>\n",
       "</div>"
      ],
      "text/plain": [
       "                                               title          author  \\\n",
       "0               Why do we vomit when we are too hot?      childloser   \n",
       "1  How much CO2 is released by manufacturing a ki...  banmeyoucoward   \n",
       "2  Is the level of AI portrayed in movies (fully ...  SchoolThrow123   \n",
       "3    Why do some animals have moustache and whiskers        notowork   \n",
       "4  What is the maximal theoretical size for an an...         Vantaie   \n",
       "\n",
       "   created_utc  score  subreddit  \\\n",
       "0   1627143368      1          1   \n",
       "1   1627143292      1          1   \n",
       "2   1627143240      1          1   \n",
       "3   1627143114      1          1   \n",
       "4   1627142862      1          1   \n",
       "\n",
       "                                                text  \n",
       "0               Why do we vomit when we are too hot   \n",
       "1  How much CO  is released by manufacturing a ki...  \n",
       "2  Is the level of AI portrayed in movies  fully ...  \n",
       "3    Why do some animals have moustache and whiskers  \n",
       "4  What is the maximal theoretical size for an an...  "
      ]
     },
     "execution_count": 50,
     "metadata": {},
     "output_type": "execute_result"
    }
   ],
   "source": [
    "df.head()"
   ]
  },
  {
   "cell_type": "markdown",
   "id": "98f9aa2a-2540-4507-9a85-02dec838b901",
   "metadata": {},
   "source": [
    "##### **Save cleaned dataframe as CSV file**"
   ]
  },
  {
   "cell_type": "code",
   "execution_count": 51,
   "id": "751442be-ca24-446b-b6a8-2a959d4d8eeb",
   "metadata": {},
   "outputs": [],
   "source": [
    "df.to_csv('posts.csv')"
   ]
  },
  {
   "cell_type": "markdown",
   "id": "c2474b9e-fb9a-4d7c-b8e4-e8b35377b5d0",
   "metadata": {},
   "source": [
    "## **Data Cleaning: Comments**"
   ]
  },
  {
   "cell_type": "markdown",
   "id": "ba8ed291-7b4a-4513-9cb2-840a1723529d",
   "metadata": {},
   "source": [
    "##### **Read in comments data .csv file as dataframe**"
   ]
  },
  {
   "cell_type": "code",
   "execution_count": 79,
   "id": "714debb3-3bc6-4ebe-b639-3adb47b2553a",
   "metadata": {},
   "outputs": [
    {
     "name": "stdout",
     "output_type": "stream",
     "text": [
      "(50900, 5)\n"
     ]
    }
   ],
   "source": [
    "files = os.listdir('comments_data/')\n",
    "data_folder = 'comments_data/'\n",
    "list_dataframe=[]\n",
    "for file in files:\n",
    "    file = pd.read_csv(data_folder+file)\n",
    "    list_dataframe.append(file)\n",
    "df = pd.concat([list_dataframe[0],list_dataframe[1]], ignore_index=True)\n",
    "df.drop(columns='Unnamed: 0', inplace=True)\n",
    "print(df.shape)"
   ]
  },
  {
   "cell_type": "markdown",
   "id": "fe52844f-7b76-4407-b778-b7dd531efbb7",
   "metadata": {},
   "source": [
    "##### **Display first 5 rows of dataframe**"
   ]
  },
  {
   "cell_type": "code",
   "execution_count": 80,
   "id": "f81a6477-2a02-408c-8d12-adf03de1e73b",
   "metadata": {},
   "outputs": [
    {
     "data": {
      "text/html": [
       "<div>\n",
       "<style scoped>\n",
       "    .dataframe tbody tr th:only-of-type {\n",
       "        vertical-align: middle;\n",
       "    }\n",
       "\n",
       "    .dataframe tbody tr th {\n",
       "        vertical-align: top;\n",
       "    }\n",
       "\n",
       "    .dataframe thead th {\n",
       "        text-align: right;\n",
       "    }\n",
       "</style>\n",
       "<table border=\"1\" class=\"dataframe\">\n",
       "  <thead>\n",
       "    <tr style=\"text-align: right;\">\n",
       "      <th></th>\n",
       "      <th>author</th>\n",
       "      <th>body</th>\n",
       "      <th>score</th>\n",
       "      <th>created_utc</th>\n",
       "      <th>subreddit</th>\n",
       "    </tr>\n",
       "  </thead>\n",
       "  <tbody>\n",
       "    <tr>\n",
       "      <th>0</th>\n",
       "      <td>[deleted]</td>\n",
       "      <td>[removed]</td>\n",
       "      <td>1</td>\n",
       "      <td>1627143248</td>\n",
       "      <td>askscience</td>\n",
       "    </tr>\n",
       "    <tr>\n",
       "      <th>1</th>\n",
       "      <td>AutoModerator</td>\n",
       "      <td>Thank you for your submission! Unfortunately, ...</td>\n",
       "      <td>1</td>\n",
       "      <td>1627143115</td>\n",
       "      <td>askscience</td>\n",
       "    </tr>\n",
       "    <tr>\n",
       "      <th>2</th>\n",
       "      <td>RobusEtCeleritas</td>\n",
       "      <td>None of that means anything. You clearly have ...</td>\n",
       "      <td>3</td>\n",
       "      <td>1627142891</td>\n",
       "      <td>askscience</td>\n",
       "    </tr>\n",
       "    <tr>\n",
       "      <th>3</th>\n",
       "      <td>iayork</td>\n",
       "      <td>Thank you for your submission! Unfortunately, ...</td>\n",
       "      <td>1</td>\n",
       "      <td>1627142729</td>\n",
       "      <td>askscience</td>\n",
       "    </tr>\n",
       "    <tr>\n",
       "      <th>4</th>\n",
       "      <td>iayork</td>\n",
       "      <td>Thank you for your submission! Unfortunately, ...</td>\n",
       "      <td>1</td>\n",
       "      <td>1627142722</td>\n",
       "      <td>askscience</td>\n",
       "    </tr>\n",
       "  </tbody>\n",
       "</table>\n",
       "</div>"
      ],
      "text/plain": [
       "             author                                               body  score  \\\n",
       "0         [deleted]                                          [removed]      1   \n",
       "1     AutoModerator  Thank you for your submission! Unfortunately, ...      1   \n",
       "2  RobusEtCeleritas  None of that means anything. You clearly have ...      3   \n",
       "3            iayork  Thank you for your submission! Unfortunately, ...      1   \n",
       "4            iayork  Thank you for your submission! Unfortunately, ...      1   \n",
       "\n",
       "   created_utc   subreddit  \n",
       "0   1627143248  askscience  \n",
       "1   1627143115  askscience  \n",
       "2   1627142891  askscience  \n",
       "3   1627142729  askscience  \n",
       "4   1627142722  askscience  "
      ]
     },
     "execution_count": 80,
     "metadata": {},
     "output_type": "execute_result"
    }
   ],
   "source": [
    "df.head()"
   ]
  },
  {
   "cell_type": "markdown",
   "id": "268ada9f-425f-400d-9600-2f775a4348f9",
   "metadata": {},
   "source": [
    "##### **Quick overview of total null values in each column and data type of each column**"
   ]
  },
  {
   "cell_type": "code",
   "execution_count": 81,
   "id": "e0ad9da6-4e28-463c-ba2c-233648cf9929",
   "metadata": {},
   "outputs": [
    {
     "name": "stdout",
     "output_type": "stream",
     "text": [
      "<class 'pandas.core.frame.DataFrame'>\n",
      "RangeIndex: 50900 entries, 0 to 50899\n",
      "Data columns (total 5 columns):\n",
      " #   Column       Non-Null Count  Dtype \n",
      "---  ------       --------------  ----- \n",
      " 0   author       50900 non-null  object\n",
      " 1   body         50900 non-null  object\n",
      " 2   score        50900 non-null  int64 \n",
      " 3   created_utc  50900 non-null  int64 \n",
      " 4   subreddit    50900 non-null  object\n",
      "dtypes: int64(2), object(3)\n",
      "memory usage: 1.9+ MB\n"
     ]
    }
   ],
   "source": [
    "df.info()"
   ]
  },
  {
   "cell_type": "markdown",
   "id": "9afac1f4-93e9-41ef-9dbf-170ecfc1528b",
   "metadata": {},
   "source": [
    "###### For all comments with body \"[deleted]\", author is also \"[deleted]\"; We should remove these rows"
   ]
  },
  {
   "cell_type": "code",
   "execution_count": 82,
   "id": "6152e078-3d58-4ade-b5af-e5465e9df1fc",
   "metadata": {},
   "outputs": [],
   "source": [
    "df = df[df['body'] != \"[deleted]\"]"
   ]
  },
  {
   "cell_type": "markdown",
   "id": "2f7a4aac-81a9-40c1-80c7-7f11c3c7b383",
   "metadata": {},
   "source": [
    "###### For all rows with author \"AutoModerator\", the comment 'body' is an automated statement explaining that the post has been removed or deleted due to violation of guidelines. Remove these rows with author as AutoModerator"
   ]
  },
  {
   "cell_type": "code",
   "execution_count": 83,
   "id": "b5875f89-abdd-4be7-a1a0-0a2614dd889b",
   "metadata": {},
   "outputs": [],
   "source": [
    "df = df[df['author']!='AutoModerator']"
   ]
  },
  {
   "cell_type": "markdown",
   "id": "1fcd6a01-4d52-4ab6-b3dc-46db209830a1",
   "metadata": {},
   "source": [
    "###### Remove all rows that contain the word 'removed' in the comment 'body' as this is another indication that the post has been removed or deleted due to violation of guidelines"
   ]
  },
  {
   "cell_type": "code",
   "execution_count": 84,
   "id": "d55a646b-32c9-4c76-b7e3-5cb5e6a7f9f8",
   "metadata": {},
   "outputs": [],
   "source": [
    "not_removed = [x for x in df['body'] if 'removed' not in x]\n",
    "for x in df['body']:\n",
    "    if x not in not_removed:\n",
    "        df['body'].replace(to_replace=x, value=np.nan, inplace=True)"
   ]
  },
  {
   "cell_type": "markdown",
   "id": "97a1f436-0b2c-474e-a7e0-b2949e765fc6",
   "metadata": {},
   "source": [
    "##### **Remove all rows with null value in comment 'body'**"
   ]
  },
  {
   "cell_type": "code",
   "execution_count": 85,
   "id": "922569ab-8a03-4e26-b8d6-8c54c71055cd",
   "metadata": {},
   "outputs": [],
   "source": [
    "df = df[df['body'].notna()]"
   ]
  },
  {
   "cell_type": "markdown",
   "id": "79223ec8-06b9-4a57-843d-fc94d73ccaeb",
   "metadata": {},
   "source": [
    "##### **Remove all rows where comment 'body' is duplicated**"
   ]
  },
  {
   "cell_type": "code",
   "execution_count": 86,
   "id": "693e3efe-9291-4251-b6b7-79d12e0fa167",
   "metadata": {},
   "outputs": [
    {
     "data": {
      "text/html": [
       "<div>\n",
       "<style scoped>\n",
       "    .dataframe tbody tr th:only-of-type {\n",
       "        vertical-align: middle;\n",
       "    }\n",
       "\n",
       "    .dataframe tbody tr th {\n",
       "        vertical-align: top;\n",
       "    }\n",
       "\n",
       "    .dataframe thead th {\n",
       "        text-align: right;\n",
       "    }\n",
       "</style>\n",
       "<table border=\"1\" class=\"dataframe\">\n",
       "  <thead>\n",
       "    <tr style=\"text-align: right;\">\n",
       "      <th></th>\n",
       "      <th>author</th>\n",
       "      <th>body</th>\n",
       "      <th>score</th>\n",
       "      <th>created_utc</th>\n",
       "      <th>subreddit</th>\n",
       "    </tr>\n",
       "  </thead>\n",
       "  <tbody>\n",
       "    <tr>\n",
       "      <th>2</th>\n",
       "      <td>RobusEtCeleritas</td>\n",
       "      <td>None of that means anything. You clearly have ...</td>\n",
       "      <td>3</td>\n",
       "      <td>1627142891</td>\n",
       "      <td>askscience</td>\n",
       "    </tr>\n",
       "    <tr>\n",
       "      <th>15</th>\n",
       "      <td>hydroxypcp</td>\n",
       "      <td>The legal limit varies among countries. It's c...</td>\n",
       "      <td>0</td>\n",
       "      <td>1627140964</td>\n",
       "      <td>askscience</td>\n",
       "    </tr>\n",
       "    <tr>\n",
       "      <th>20</th>\n",
       "      <td>AnthillOmbudsman</td>\n",
       "      <td>But magma chambers aren't hollow caverns.  I'm...</td>\n",
       "      <td>1</td>\n",
       "      <td>1627140360</td>\n",
       "      <td>askscience</td>\n",
       "    </tr>\n",
       "    <tr>\n",
       "      <th>28</th>\n",
       "      <td>AWormDude</td>\n",
       "      <td>[According to this study](https://www.research...</td>\n",
       "      <td>5</td>\n",
       "      <td>1627139388</td>\n",
       "      <td>askscience</td>\n",
       "    </tr>\n",
       "    <tr>\n",
       "      <th>43</th>\n",
       "      <td>Trypanosoma_</td>\n",
       "      <td>Look up TH1 (cellular response) vs TH2 (humora...</td>\n",
       "      <td>-4</td>\n",
       "      <td>1627136260</td>\n",
       "      <td>askscience</td>\n",
       "    </tr>\n",
       "  </tbody>\n",
       "</table>\n",
       "</div>"
      ],
      "text/plain": [
       "              author                                               body  \\\n",
       "2   RobusEtCeleritas  None of that means anything. You clearly have ...   \n",
       "15        hydroxypcp  The legal limit varies among countries. It's c...   \n",
       "20  AnthillOmbudsman  But magma chambers aren't hollow caverns.  I'm...   \n",
       "28         AWormDude  [According to this study](https://www.research...   \n",
       "43      Trypanosoma_  Look up TH1 (cellular response) vs TH2 (humora...   \n",
       "\n",
       "    score  created_utc   subreddit  \n",
       "2       3   1627142891  askscience  \n",
       "15      0   1627140964  askscience  \n",
       "20      1   1627140360  askscience  \n",
       "28      5   1627139388  askscience  \n",
       "43     -4   1627136260  askscience  "
      ]
     },
     "execution_count": 86,
     "metadata": {},
     "output_type": "execute_result"
    }
   ],
   "source": [
    "df.drop_duplicates(subset='body', inplace=True)\n",
    "df.head()"
   ]
  },
  {
   "cell_type": "markdown",
   "id": "1c97037a-d5ff-4aff-9365-01f5c6e78807",
   "metadata": {},
   "source": [
    "###### **Assessing shape after all drops**"
   ]
  },
  {
   "cell_type": "code",
   "execution_count": 87,
   "id": "98263cfb-150f-4590-8d73-121f51572efe",
   "metadata": {},
   "outputs": [
    {
     "data": {
      "text/plain": [
       "(31115, 5)"
      ]
     },
     "execution_count": 87,
     "metadata": {},
     "output_type": "execute_result"
    }
   ],
   "source": [
    "df.shape"
   ]
  },
  {
   "cell_type": "markdown",
   "id": "47205205-f353-4881-b299-c65e83a4b8db",
   "metadata": {},
   "source": [
    "##### **Create a new row of the word count in body for each comment**"
   ]
  },
  {
   "cell_type": "code",
   "execution_count": 88,
   "id": "8b1e3ef2-820d-4bd7-914f-edb5d2405aaa",
   "metadata": {},
   "outputs": [],
   "source": [
    "df['body_word_count'] = [len(x.split()) for x in df['body']]"
   ]
  },
  {
   "cell_type": "markdown",
   "id": "908839ac-3ec2-4d2c-a0aa-379bbed64f2c",
   "metadata": {},
   "source": [
    "##### **Apply Regex by lambda function for comment 'body'**"
   ]
  },
  {
   "cell_type": "code",
   "execution_count": 89,
   "id": "5037f86d-df26-41a4-bb55-ff2629da8067",
   "metadata": {},
   "outputs": [],
   "source": [
    "df['body'] = df['body'].map(lambda x: re.sub(\"[^a-zA-Z]\", \" \", x))"
   ]
  },
  {
   "cell_type": "code",
   "execution_count": 90,
   "id": "0edc18b4-6d9c-4ed3-a257-79ada4a354d7",
   "metadata": {},
   "outputs": [
    {
     "data": {
      "text/html": [
       "<div>\n",
       "<style scoped>\n",
       "    .dataframe tbody tr th:only-of-type {\n",
       "        vertical-align: middle;\n",
       "    }\n",
       "\n",
       "    .dataframe tbody tr th {\n",
       "        vertical-align: top;\n",
       "    }\n",
       "\n",
       "    .dataframe thead th {\n",
       "        text-align: right;\n",
       "    }\n",
       "</style>\n",
       "<table border=\"1\" class=\"dataframe\">\n",
       "  <thead>\n",
       "    <tr style=\"text-align: right;\">\n",
       "      <th></th>\n",
       "      <th>author</th>\n",
       "      <th>body</th>\n",
       "      <th>score</th>\n",
       "      <th>created_utc</th>\n",
       "      <th>subreddit</th>\n",
       "      <th>body_word_count</th>\n",
       "    </tr>\n",
       "  </thead>\n",
       "  <tbody>\n",
       "    <tr>\n",
       "      <th>2</th>\n",
       "      <td>RobusEtCeleritas</td>\n",
       "      <td>None of that means anything  You clearly have ...</td>\n",
       "      <td>3</td>\n",
       "      <td>1627142891</td>\n",
       "      <td>askscience</td>\n",
       "      <td>11</td>\n",
       "    </tr>\n",
       "    <tr>\n",
       "      <th>15</th>\n",
       "      <td>hydroxypcp</td>\n",
       "      <td>The legal limit varies among countries  It s c...</td>\n",
       "      <td>0</td>\n",
       "      <td>1627140964</td>\n",
       "      <td>askscience</td>\n",
       "      <td>130</td>\n",
       "    </tr>\n",
       "    <tr>\n",
       "      <th>20</th>\n",
       "      <td>AnthillOmbudsman</td>\n",
       "      <td>But magma chambers aren t hollow caverns   I m...</td>\n",
       "      <td>1</td>\n",
       "      <td>1627140360</td>\n",
       "      <td>askscience</td>\n",
       "      <td>14</td>\n",
       "    </tr>\n",
       "    <tr>\n",
       "      <th>28</th>\n",
       "      <td>AWormDude</td>\n",
       "      <td>According to this study  https   www research...</td>\n",
       "      <td>5</td>\n",
       "      <td>1627139388</td>\n",
       "      <td>askscience</td>\n",
       "      <td>487</td>\n",
       "    </tr>\n",
       "    <tr>\n",
       "      <th>43</th>\n",
       "      <td>Trypanosoma_</td>\n",
       "      <td>Look up TH   cellular response  vs TH   humora...</td>\n",
       "      <td>-4</td>\n",
       "      <td>1627136260</td>\n",
       "      <td>askscience</td>\n",
       "      <td>57</td>\n",
       "    </tr>\n",
       "  </tbody>\n",
       "</table>\n",
       "</div>"
      ],
      "text/plain": [
       "              author                                               body  \\\n",
       "2   RobusEtCeleritas  None of that means anything  You clearly have ...   \n",
       "15        hydroxypcp  The legal limit varies among countries  It s c...   \n",
       "20  AnthillOmbudsman  But magma chambers aren t hollow caverns   I m...   \n",
       "28         AWormDude   According to this study  https   www research...   \n",
       "43      Trypanosoma_  Look up TH   cellular response  vs TH   humora...   \n",
       "\n",
       "    score  created_utc   subreddit  body_word_count  \n",
       "2       3   1627142891  askscience               11  \n",
       "15      0   1627140964  askscience              130  \n",
       "20      1   1627140360  askscience               14  \n",
       "28      5   1627139388  askscience              487  \n",
       "43     -4   1627136260  askscience               57  "
      ]
     },
     "execution_count": 90,
     "metadata": {},
     "output_type": "execute_result"
    }
   ],
   "source": [
    "df.head()"
   ]
  },
  {
   "cell_type": "markdown",
   "id": "2ec9f186-bfe0-484d-9ac6-a5e6a3e31ce9",
   "metadata": {},
   "source": [
    "##### **Binarize 'subreddit' with map function for EDA and modeling**"
   ]
  },
  {
   "cell_type": "code",
   "execution_count": 91,
   "id": "137df3bc-53ec-4ec1-af39-c74cc9a97ed4",
   "metadata": {},
   "outputs": [],
   "source": [
    "subreddit_dict = {'longevity':0,\n",
    "            'askscience':1}\n",
    "df['subreddit'] = df['subreddit'].map(subreddit_dict)"
   ]
  },
  {
   "cell_type": "markdown",
   "id": "810f973c-4ba5-4398-a123-e6600811ce8b",
   "metadata": {},
   "source": [
    "##### **Quick evaluation of scores on comments in the dataframe**"
   ]
  },
  {
   "cell_type": "code",
   "execution_count": 92,
   "id": "17ff3c74-fa56-41a7-af0a-7d042a7f4933",
   "metadata": {},
   "outputs": [
    {
     "data": {
      "text/plain": [
       "count    31115.000000\n",
       "mean         9.748289\n",
       "std        124.431942\n",
       "min        -54.000000\n",
       "25%          1.000000\n",
       "50%          1.000000\n",
       "75%          4.000000\n",
       "max       8542.000000\n",
       "Name: score, dtype: float64"
      ]
     },
     "execution_count": 92,
     "metadata": {},
     "output_type": "execute_result"
    }
   ],
   "source": [
    "df['score'].describe()"
   ]
  },
  {
   "cell_type": "markdown",
   "id": "795b4f18-749e-486f-9185-6ceebaa9ee09",
   "metadata": {},
   "source": [
    "##### **Quick check of null values and data types after all cleaning for EDA and modeling**"
   ]
  },
  {
   "cell_type": "code",
   "execution_count": 93,
   "id": "8b9208ef-dd65-403a-bfab-bb64a2d0bcf7",
   "metadata": {},
   "outputs": [
    {
     "name": "stdout",
     "output_type": "stream",
     "text": [
      "<class 'pandas.core.frame.DataFrame'>\n",
      "Int64Index: 31115 entries, 2 to 50899\n",
      "Data columns (total 6 columns):\n",
      " #   Column           Non-Null Count  Dtype \n",
      "---  ------           --------------  ----- \n",
      " 0   author           31115 non-null  object\n",
      " 1   body             31115 non-null  object\n",
      " 2   score            31115 non-null  int64 \n",
      " 3   created_utc      31115 non-null  int64 \n",
      " 4   subreddit        31115 non-null  int64 \n",
      " 5   body_word_count  31115 non-null  int64 \n",
      "dtypes: int64(4), object(2)\n",
      "memory usage: 1.7+ MB\n"
     ]
    }
   ],
   "source": [
    "df.info()"
   ]
  },
  {
   "cell_type": "markdown",
   "id": "46fc7ef6-d914-4548-b319-c428cabd3ce7",
   "metadata": {},
   "source": [
    "##### **Save cleaned dataframe into CSV file**"
   ]
  },
  {
   "cell_type": "code",
   "execution_count": 94,
   "id": "1b2994b5-e34d-4b28-a0a5-6752b42518ff",
   "metadata": {},
   "outputs": [],
   "source": [
    "df.to_csv('comments.csv')"
   ]
  },
  {
   "cell_type": "markdown",
   "id": "586e1e9c-2c5c-45a2-b467-e5fde4d5206c",
   "metadata": {},
   "source": [
    "#### **Will move forward with comments data from this point. The majority of the text from posts are titles of journal articles which will not be helpful**"
   ]
  },
  {
   "cell_type": "markdown",
   "id": "022358c7-bec5-453f-aa01-13160a503212",
   "metadata": {},
   "source": [
    "# EDA and Visualizations"
   ]
  },
  {
   "cell_type": "markdown",
   "id": "685bfcee-4cb6-4aa1-afef-9dbb83135da8",
   "metadata": {},
   "source": [
    "##### Dataframe is unbalanced; There are more comments from subreddit longevity (represented by 0) than subreddit askscience (represented by 1)"
   ]
  },
  {
   "cell_type": "code",
   "execution_count": 249,
   "id": "4b55555e-8a1b-4a94-b192-bfe789a38394",
   "metadata": {},
   "outputs": [
    {
     "data": {
      "text/plain": [
       "0    21774\n",
       "1     9341\n",
       "Name: subreddit, dtype: int64"
      ]
     },
     "execution_count": 249,
     "metadata": {},
     "output_type": "execute_result"
    }
   ],
   "source": [
    "df.subreddit.value_counts()"
   ]
  },
  {
   "cell_type": "markdown",
   "id": "55529b4e-d8ba-47cb-89e3-de539ee02a7b",
   "metadata": {},
   "source": [
    "##### **Mean scores and word count grouped by subreddit**"
   ]
  },
  {
   "cell_type": "code",
   "execution_count": 245,
   "id": "dca5c59a-88d4-48b9-9c51-2d86f833253f",
   "metadata": {},
   "outputs": [
    {
     "data": {
      "text/html": [
       "<div>\n",
       "<style scoped>\n",
       "    .dataframe tbody tr th:only-of-type {\n",
       "        vertical-align: middle;\n",
       "    }\n",
       "\n",
       "    .dataframe tbody tr th {\n",
       "        vertical-align: top;\n",
       "    }\n",
       "\n",
       "    .dataframe thead th {\n",
       "        text-align: right;\n",
       "    }\n",
       "</style>\n",
       "<table border=\"1\" class=\"dataframe\">\n",
       "  <thead>\n",
       "    <tr style=\"text-align: right;\">\n",
       "      <th></th>\n",
       "      <th>score</th>\n",
       "      <th>body_word_count</th>\n",
       "    </tr>\n",
       "    <tr>\n",
       "      <th>subreddit</th>\n",
       "      <th></th>\n",
       "      <th></th>\n",
       "    </tr>\n",
       "  </thead>\n",
       "  <tbody>\n",
       "    <tr>\n",
       "      <th>0</th>\n",
       "      <td>3.003628</td>\n",
       "      <td>42.777671</td>\n",
       "    </tr>\n",
       "    <tr>\n",
       "      <th>1</th>\n",
       "      <td>25.470185</td>\n",
       "      <td>60.068836</td>\n",
       "    </tr>\n",
       "  </tbody>\n",
       "</table>\n",
       "</div>"
      ],
      "text/plain": [
       "               score  body_word_count\n",
       "subreddit                            \n",
       "0           3.003628        42.777671\n",
       "1          25.470185        60.068836"
      ]
     },
     "execution_count": 245,
     "metadata": {},
     "output_type": "execute_result"
    }
   ],
   "source": [
    "df.groupby('subreddit')[['score', 'body_word_count']].mean()"
   ]
  },
  {
   "cell_type": "markdown",
   "id": "383eface-ac03-44e9-a2d3-450fcc57cf80",
   "metadata": {},
   "source": [
    "> Subreddit r/longevity represented by 0 has a lower mean score compared to subreddit r/askscience represented by 1. Despite unbalanced classes, comment score mean for longevity subreddit is significant smaller than average comment score for askscience subreddit"
   ]
  },
  {
   "cell_type": "markdown",
   "id": "028de667-576d-4e10-b830-6f08aaad0f73",
   "metadata": {},
   "source": [
    "##### **Create a visualization of distribution of word count in each comment**"
   ]
  },
  {
   "cell_type": "code",
   "execution_count": 272,
   "id": "781ee2ee-f8e3-49e3-838b-7e2a726dc8b1",
   "metadata": {},
   "outputs": [
    {
     "data": {
      "image/png": "[encoded data removed]",
      "text/plain": [
       "<Figure size 432x288 with 1 Axes>"
      ]
     },
     "metadata": {
      "image/png": {
       "height": 281,
       "width": 404
      }
     },
     "output_type": "display_data"
    }
   ],
   "source": [
    "# Create histogram for distribution on word count\n",
    "sns.set_theme(palette='crest')\n",
    "plt.hist(df['body_word_count'], bins=10)\n",
    "plt.title(\"Comment Length by Word Count\")\n",
    "plt.ylabel('Frequency')\n",
    "plt.xlabel('Word Count');\n",
    "plt.savefig('comment_length_word_count.png')"
   ]
  },
  {
   "cell_type": "code",
   "execution_count": 279,
   "id": "8e3c8377-17cf-4057-9042-4c3591169515",
   "metadata": {},
   "outputs": [
    {
     "data": {
      "image/png": "[encoded data removed]",
      "text/plain": [
       "<Figure size 432x288 with 1 Axes>"
      ]
     },
     "metadata": {
      "image/png": {
       "height": 281,
       "width": 398
      }
     },
     "output_type": "display_data"
    }
   ],
   "source": [
    "# Create a boxplot to visualize distribution of word count by subreddit\n",
    "sns.set_theme(palette='crest')\n",
    "sns.boxplot(x=df['subreddit'], y=df['body_word_count'], width=1.0)\n",
    "plt.title(\"Distribution of Word Count by Subreddit\")\n",
    "plt.xlabel('Subreddit')\n",
    "plt.ylabel('Word Count');"
   ]
  },
  {
   "cell_type": "markdown",
   "id": "feaf5720-8bc6-479c-93b1-1711ae4a72d5",
   "metadata": {},
   "source": [
    "##### Split dataframe by subreddit to evaluate top words"
   ]
  },
  {
   "cell_type": "code",
   "execution_count": 140,
   "id": "2c8ed3df-a11c-41be-924b-fd8fab30cceb",
   "metadata": {},
   "outputs": [],
   "source": [
    "asksci=df[df['subreddit'] ==1]\n",
    "longevity=df[df['subreddit']==0]"
   ]
  },
  {
   "cell_type": "markdown",
   "id": "4e566727-c4ba-4659-b641-96d4b6e1f2ae",
   "metadata": {},
   "source": [
    "##### Remove stopwords and a list of stopwords after evaluating"
   ]
  },
  {
   "cell_type": "code",
   "execution_count": 141,
   "id": "87bc7fb8-f239-4873-9002-e418d0d2bdc5",
   "metadata": {},
   "outputs": [],
   "source": [
    "all_stop_words = stopwords.words('english')\n",
    "new_words=('https', 'com', 'www', 'really', 'would', 'like', 'also', 'get', 'even', 'much', 'could', 'see', 'really', 'know')\n",
    "for i in new_words:\n",
    "    all_stop_words.append(i)"
   ]
  },
  {
   "cell_type": "markdown",
   "id": "4cf1407f-666f-42d8-a9b4-c3d4cb6c09b4",
   "metadata": {},
   "source": [
    "##### Instantiate CountVectorizer and create dataframe"
   ]
  },
  {
   "cell_type": "code",
   "execution_count": 148,
   "id": "113a56db-4aff-4941-adc6-0aa719816154",
   "metadata": {},
   "outputs": [],
   "source": [
    "# Instantiate CountVectorizer\n",
    "cvec = CountVectorizer(stop_words = all_stop_words, max_features=500)\n",
    "\n",
    "# Fit and transform CountVectorizer; this is just for visualization of most frequently used words\n",
    "asksci_transformed=(cvec.fit_transform(asksci['body']))\n",
    "\n",
    "# get feature names and set as variable\n",
    "asksci_feature_names = cvec.get_feature_names()\n",
    "\n",
    "# set list of feature names as dataframe and condense vectorized data\n",
    "asksci_transformed=pd.DataFrame(asksci_transformed.todense())\n",
    "# set columns as feature names\n",
    "asksci_transformed.columns = asksci_feature_names"
   ]
  },
  {
   "cell_type": "markdown",
   "id": "78bfe8ba-8e2b-4abc-9dfd-2289a07d2ab7",
   "metadata": {},
   "source": [
    "##### Top 20, most frequent words in Askscience comments"
   ]
  },
  {
   "cell_type": "code",
   "execution_count": 280,
   "id": "a5ec5592-82b6-428a-b7fe-f252d6ea9db2",
   "metadata": {},
   "outputs": [],
   "source": [
    "# set as dataframe\n",
    "asksci_top_20 = pd.DataFrame(asksci_transformed.sum().sort_values(ascending = False).head(20))"
   ]
  },
  {
   "cell_type": "code",
   "execution_count": 154,
   "id": "5c34d159-9c9f-4f87-90c8-72685125534d",
   "metadata": {},
   "outputs": [
    {
     "data": {
      "text/plain": [
       "one          1501\n",
       "time         1313\n",
       "people       1126\n",
       "still         986\n",
       "different     887\n",
       "light         861\n",
       "way           829\n",
       "years         822\n",
       "think         808\n",
       "cells         768\n",
       "earth         759\n",
       "water         740\n",
       "energy        733\n",
       "make          729\n",
       "gt            700\n",
       "point         674\n",
       "use           670\n",
       "many          657\n",
       "well          655\n",
       "speed         639\n",
       "dtype: int64"
      ]
     },
     "execution_count": 154,
     "metadata": {},
     "output_type": "execute_result"
    }
   ],
   "source": [
    "asksci_transformed.sum().sort_values(ascending = False).head(20)"
   ]
  },
  {
   "cell_type": "markdown",
   "id": "0a435d64-ef1e-4549-adb7-c29a801406a0",
   "metadata": {},
   "source": [
    "##### Create visualization for top 20 most frequently occurring words in Askscience comments"
   ]
  },
  {
   "cell_type": "code",
   "execution_count": 283,
   "id": "41e7a7d5-de9e-4dd0-9ea2-f4c239ee6b8f",
   "metadata": {},
   "outputs": [
    {
     "data": {
      "image/png": "[encoded data removed]",
      "text/plain": [
       "<Figure size 1008x648 with 1 Axes>"
      ]
     },
     "metadata": {
      "image/png": {
       "height": 557,
       "width": 844
      }
     },
     "output_type": "display_data"
    }
   ],
   "source": [
    "# Visualization made possible by Varun\n",
    "plt.figure(figsize=(14,9))\n",
    "plt.title('Top 20 Words in r/Askscience',fontsize=18)\n",
    "sns.barplot(x=asksci_top_20[0], y=asksci_top_20.index, palette='summer');\n",
    "plt.savefig('top_20_Askscience.png')"
   ]
  },
  {
   "cell_type": "markdown",
   "id": "55d1ea03-cb77-451b-8f37-8bfa846681a4",
   "metadata": {},
   "source": [
    "##### Will do the same for subreddit Longevity"
   ]
  },
  {
   "cell_type": "code",
   "execution_count": 186,
   "id": "35aee7f6-128d-43fd-b213-86222fa1d6ca",
   "metadata": {},
   "outputs": [],
   "source": [
    "cvec = CountVectorizer(stop_words = all_stop_words, max_features=500)\n",
    "longevity_transformed=(cvec.fit_transform(longevity['body']))\n",
    "longevity_feature_names = cvec.get_feature_names()\n",
    "longevity_transformed=pd.DataFrame(longevity_transformed.todense())\n",
    "longevity_transformed.columns = longevity_feature_names"
   ]
  },
  {
   "cell_type": "code",
   "execution_count": 187,
   "id": "70acd17f-548f-425e-8e32-36931ac65bca",
   "metadata": {},
   "outputs": [],
   "source": [
    "longevity_top_20 = pd.DataFrame(longevity_transformed.sum().sort_values(ascending = False).head(20))"
   ]
  },
  {
   "cell_type": "code",
   "execution_count": 188,
   "id": "f0467b5f-9728-4d8d-aefe-f15e8a2d7110",
   "metadata": {},
   "outputs": [
    {
     "data": {
      "text/plain": [
       "aging        4230\n",
       "people       3923\n",
       "gt           3337\n",
       "longevity    2786\n",
       "think        2636\n",
       "years        2421\n",
       "age          2395\n",
       "one          2319\n",
       "research     1920\n",
       "old          1854\n",
       "life         1798\n",
       "time         1726\n",
       "good         1655\n",
       "cells        1609\n",
       "well         1460\n",
       "cancer       1350\n",
       "way          1241\n",
       "make         1216\n",
       "disease      1190\n",
       "reddit       1173\n",
       "dtype: int64"
      ]
     },
     "execution_count": 188,
     "metadata": {},
     "output_type": "execute_result"
    }
   ],
   "source": [
    "longevity_transformed.sum().sort_values(ascending = False).head(20)"
   ]
  },
  {
   "cell_type": "code",
   "execution_count": 234,
   "id": "20fa8e3e-53d2-4a06-9382-27d5b936da15",
   "metadata": {},
   "outputs": [
    {
     "data": {
      "image/png": "[encoded data removed]",
      "text/plain": [
       "<Figure size 1008x648 with 1 Axes>"
      ]
     },
     "metadata": {
      "image/png": {
       "height": 562,
       "width": 848
      }
     },
     "output_type": "display_data"
    }
   ],
   "source": [
    "plt.figure(figsize=(14,9))\n",
    "plt.title('Top 20 Words in r/longevity',fontsize=25)\n",
    "sns.barplot(x=longevity_top_20[0], y=longevity_top_20.index, palette='winter');\n",
    "sns.set_theme(context='notebook')\n",
    "plt.savefig('top_20_longevity.png')"
   ]
  },
  {
   "cell_type": "code",
   "execution_count": null,
   "id": "0adb334f-06ff-4a70-af6a-bceec18e9190",
   "metadata": {},
   "outputs": [],
   "source": []
  },
  {
   "cell_type": "code",
   "execution_count": null,
   "id": "f3fd8b49-427e-4ee4-98a6-f51868c59024",
   "metadata": {},
   "outputs": [],
   "source": []
  },
  {
   "cell_type": "code",
   "execution_count": null,
   "id": "b5218766-7ed9-440d-b856-1b025b29357d",
   "metadata": {},
   "outputs": [],
   "source": []
  },
  {
   "cell_type": "code",
   "execution_count": null,
   "id": "83a8ed23-1556-4f53-90cf-b7c6e533dccf",
   "metadata": {},
   "outputs": [],
   "source": []
  },
  {
   "cell_type": "code",
   "execution_count": null,
   "id": "a5626e0a-ee90-4691-94c2-8d55a7e577eb",
   "metadata": {},
   "outputs": [],
   "source": []
  },
  {
   "cell_type": "code",
   "execution_count": null,
   "id": "ac914dfe-38ec-46af-9463-ac81de3b9ad2",
   "metadata": {},
   "outputs": [],
   "source": []
  },
  {
   "cell_type": "code",
   "execution_count": null,
   "id": "16f733a7-9375-472b-9d01-26c370594ff8",
   "metadata": {},
   "outputs": [],
   "source": []
  }
 ],
 "metadata": {
  "kernelspec": {
   "display_name": "Python 3",
   "language": "python",
   "name": "python3"
  },
  "language_info": {
   "codemirror_mode": {
    "name": "ipython",
    "version": 3
   },
   "file_extension": ".py",
   "mimetype": "text/x-python",
   "name": "python",
   "nbconvert_exporter": "python",
   "pygments_lexer": "ipython3",
   "version": "3.8.8"
  }
 },
 "nbformat": 4,
 "nbformat_minor": 5
}
