{
 "cells": [
  {
   "cell_type": "markdown",
   "id": "c1dc2820-81f5-4cef-8adf-f827c22ab01d",
   "metadata": {},
   "source": [
    "#### **Imports**"
   ]
  },
  {
   "cell_type": "code",
   "execution_count": 10,
   "id": "5e54a618-d3cd-40e2-b0fe-44703487e9cb",
   "metadata": {},
   "outputs": [],
   "source": [
    "import pandas as pd\n",
    "import numpy as np\n",
    "import matplotlib.pyplot as plt\n",
    "import seaborn as sns\n",
    "import time\n",
    "import nltk\n",
    "import re\n",
    "\n",
    "from sklearn.model_selection import train_test_split, GridSearchCV, cross_val_score, RandomizedSearchCV\n",
    "from nltk.corpus import stopwords\n",
    "from sklearn.preprocessing import StandardScaler\n",
    "from sklearn.linear_model import LogisticRegression\n",
    "from sklearn.metrics import confusion_matrix, ConfusionMatrixDisplay, accuracy_score\n",
    "from sklearn.feature_extraction.text import CountVectorizer, TfidfVectorizer\n",
    "from sklearn.pipeline import Pipeline\n",
    "from sklearn.naive_bayes import MultinomialNB, BernoulliNB\n",
    "import warnings \n",
    "warnings.filterwarnings(\"ignore\")"
   ]
  },
  {
   "cell_type": "markdown",
   "id": "d2109456-698c-4f7a-98da-4e11ef8199af",
   "metadata": {},
   "source": [
    "#### **Read in dataframe saves as .csv file**"
   ]
  },
  {
   "cell_type": "code",
   "execution_count": 11,
   "id": "5f3a5d5f-6a93-48f5-9b0e-31caffae2f63",
   "metadata": {},
   "outputs": [
    {
     "data": {
      "text/html": [
       "<div>\n",
       "<style scoped>\n",
       "    .dataframe tbody tr th:only-of-type {\n",
       "        vertical-align: middle;\n",
       "    }\n",
       "\n",
       "    .dataframe tbody tr th {\n",
       "        vertical-align: top;\n",
       "    }\n",
       "\n",
       "    .dataframe thead th {\n",
       "        text-align: right;\n",
       "    }\n",
       "</style>\n",
       "<table border=\"1\" class=\"dataframe\">\n",
       "  <thead>\n",
       "    <tr style=\"text-align: right;\">\n",
       "      <th></th>\n",
       "      <th>author</th>\n",
       "      <th>body</th>\n",
       "      <th>score</th>\n",
       "      <th>created_utc</th>\n",
       "      <th>subreddit</th>\n",
       "      <th>body_word_count</th>\n",
       "    </tr>\n",
       "  </thead>\n",
       "  <tbody>\n",
       "    <tr>\n",
       "      <th>0</th>\n",
       "      <td>RobusEtCeleritas</td>\n",
       "      <td>None of that means anything  You clearly have ...</td>\n",
       "      <td>3</td>\n",
       "      <td>1627142891</td>\n",
       "      <td>1</td>\n",
       "      <td>11</td>\n",
       "    </tr>\n",
       "    <tr>\n",
       "      <th>1</th>\n",
       "      <td>hydroxypcp</td>\n",
       "      <td>The legal limit varies among countries  It s c...</td>\n",
       "      <td>0</td>\n",
       "      <td>1627140964</td>\n",
       "      <td>1</td>\n",
       "      <td>130</td>\n",
       "    </tr>\n",
       "    <tr>\n",
       "      <th>2</th>\n",
       "      <td>AnthillOmbudsman</td>\n",
       "      <td>But magma chambers aren t hollow caverns   I m...</td>\n",
       "      <td>1</td>\n",
       "      <td>1627140360</td>\n",
       "      <td>1</td>\n",
       "      <td>14</td>\n",
       "    </tr>\n",
       "    <tr>\n",
       "      <th>3</th>\n",
       "      <td>AWormDude</td>\n",
       "      <td>According to this study  https   www research...</td>\n",
       "      <td>5</td>\n",
       "      <td>1627139388</td>\n",
       "      <td>1</td>\n",
       "      <td>487</td>\n",
       "    </tr>\n",
       "    <tr>\n",
       "      <th>4</th>\n",
       "      <td>Trypanosoma_</td>\n",
       "      <td>Look up TH   cellular response  vs TH   humora...</td>\n",
       "      <td>-4</td>\n",
       "      <td>1627136260</td>\n",
       "      <td>1</td>\n",
       "      <td>57</td>\n",
       "    </tr>\n",
       "  </tbody>\n",
       "</table>\n",
       "</div>"
      ],
      "text/plain": [
       "             author                                               body  score  \\\n",
       "0  RobusEtCeleritas  None of that means anything  You clearly have ...      3   \n",
       "1        hydroxypcp  The legal limit varies among countries  It s c...      0   \n",
       "2  AnthillOmbudsman  But magma chambers aren t hollow caverns   I m...      1   \n",
       "3         AWormDude   According to this study  https   www research...      5   \n",
       "4      Trypanosoma_  Look up TH   cellular response  vs TH   humora...     -4   \n",
       "\n",
       "   created_utc  subreddit  body_word_count  \n",
       "0   1627142891          1               11  \n",
       "1   1627140964          1              130  \n",
       "2   1627140360          1               14  \n",
       "3   1627139388          1              487  \n",
       "4   1627136260          1               57  "
      ]
     },
     "execution_count": 11,
     "metadata": {},
     "output_type": "execute_result"
    }
   ],
   "source": [
    "# read in dataframe saved as .csv file\n",
    "df = pd.read_csv('comments.csv')\n",
    "# drop first column\n",
    "df.drop(columns='Unnamed: 0', inplace=True)\n",
    "df.head()"
   ]
  },
  {
   "cell_type": "code",
   "execution_count": 12,
   "id": "19f540fe-987d-4efd-8c90-36fa6633f5b3",
   "metadata": {},
   "outputs": [],
   "source": [
    "all_stop_words = stopwords.words('english')\n",
    "new_words=('https', 'com', 'www', 'really', 'would', 'gt', 'like', 'also', 'get', 'even', 'much', 'could', 'see', 'really', 'know')\n",
    "for i in new_words:\n",
    "    all_stop_words.append(i)"
   ]
  },
  {
   "cell_type": "markdown",
   "id": "14c8ade0-5c9f-4bc9-9579-db14b8b33eeb",
   "metadata": {},
   "source": [
    "##### **X,y, train, test, split**"
   ]
  },
  {
   "cell_type": "code",
   "execution_count": 13,
   "id": "2571d68b-07c9-480a-8733-8287b8ba80cb",
   "metadata": {},
   "outputs": [],
   "source": [
    "X = df[['body']]\n",
    "y = df['subreddit']\n",
    "\n",
    "X = [word.lower().split() for word in df['body']]\n",
    "posts_list = []\n",
    "for post in X:\n",
    "    meaningful_words = [word for word in post if word not in all_stop_words]\n",
    "    meaningful_post = \" \".join(meaningful_words)\n",
    "    posts_list.append(meaningful_post)\n",
    "    \n",
    "modeltext = pd.Series(posts_list)\n",
    "df['body'] = modeltext\n",
    "X = df['body']\n",
    "y = df['subreddit']\n",
    "X_train, X_test, y_train, y_test = train_test_split(X,\n",
    "                                   y,\n",
    "                                   train_size=0.75,\n",
    "                                   stratify=y,\n",
    "                                   random_state=42)"
   ]
  },
  {
   "cell_type": "markdown",
   "id": "0ecba415-cd27-4a4d-a65c-9259a3fd846a",
   "metadata": {},
   "source": [
    "#### **Baseline Accuracy**"
   ]
  },
  {
   "cell_type": "code",
   "execution_count": 14,
   "id": "5ee9e701-05e5-4a43-b350-0c47e097d797",
   "metadata": {},
   "outputs": [
    {
     "data": {
      "text/plain": [
       "0    0.699791\n",
       "1    0.300209\n",
       "Name: subreddit, dtype: float64"
      ]
     },
     "execution_count": 14,
     "metadata": {},
     "output_type": "execute_result"
    }
   ],
   "source": [
    "y.value_counts(normalize=True)"
   ]
  },
  {
   "cell_type": "markdown",
   "id": "06c260ca-2d38-4207-80dc-8604deb57b1c",
   "metadata": {},
   "source": [
    "##### **Count Vectorizer, Logistic Regression, GridSearch**"
   ]
  },
  {
   "cell_type": "code",
   "execution_count": 30,
   "id": "36d8a5ac-00f3-4a5c-b828-f3c4e4a63e63",
   "metadata": {},
   "outputs": [
    {
     "name": "stdout",
     "output_type": "stream",
     "text": [
      "Fitting 5 folds for each of 48 candidates, totalling 240 fits\n",
      "{'cv__max_df': 0.8, 'cv__max_features': 4000, 'cv__min_df': 2, 'cv__ngram_range': (1, 1), 'logreg__C': 1.0, 'logreg__max_iter': 7000, 'logreg__penalty': 'l1', 'logreg__solver': 'liblinear'}\n",
      "0.9237230030853617\n",
      "0.8717058747911043\n",
      "Wall time: 1min 3s\n"
     ]
    }
   ],
   "source": [
    "%%time\n",
    "pipe_logreg = Pipeline([\n",
    "    ('cv', CountVectorizer(stop_words='english')),\n",
    "    ('logreg', LogisticRegression())\n",
    "]\n",
    ")\n",
    "params_logreg = {\n",
    "    'cv__max_features': [3_000, 4_000],\n",
    "    'cv__min_df'      : [2, 3],\n",
    "    'cv__max_df'      : [.80, .85],\n",
    "    'cv__ngram_range' : [(1,1)],\n",
    "    'logreg__C'       : [0.1, 1.0],\n",
    "    'logreg__solver'  : ['liblinear'], \n",
    "    'logreg__penalty' : ['l1'],\n",
    "    'logreg__max_iter': [5_000, 6_000, 7_000]\n",
    "}\n",
    "\n",
    "gs_logreg = GridSearchCV(pipe_logreg, params_logreg, cv=5, verbose=1, n_jobs = -1)\n",
    "gs_logreg.fit(X_train, y_train)\n",
    "print(gs_logreg.best_params_)\n",
    "print(gs_logreg.score(X_train, y_train))\n",
    "print(gs_logreg.score(X_test, y_test))"
   ]
  },
  {
   "cell_type": "code",
   "execution_count": 31,
   "id": "eb0b9d12-336f-424e-8f19-cd13ece94ed1",
   "metadata": {},
   "outputs": [
    {
     "name": "stdout",
     "output_type": "stream",
     "text": [
      "Best Score: 0.8711861106505612\n",
      "Accuracy Score: 0.8717058747911043\n"
     ]
    }
   ],
   "source": [
    "cv_preds = gs_logreg.best_estimator_.predict(X_test)\n",
    "print(f'Best Score: {gs_logreg.best_score_}')\n",
    "print(f'Accuracy Score: {accuracy_score(y_test, cv_preds)}')"
   ]
  },
  {
   "cell_type": "markdown",
   "id": "9a48cf9a-2e01-4f42-9b84-ae2dc4a51c1f",
   "metadata": {},
   "source": [
    "#### **TF-IDF Vectorizer**"
   ]
  },
  {
   "cell_type": "code",
   "execution_count": 19,
   "id": "f5125eb2-c826-441d-96e2-89b2be72e5d1",
   "metadata": {},
   "outputs": [
    {
     "name": "stdout",
     "output_type": "stream",
     "text": [
      "Fitting 5 folds for each of 24 candidates, totalling 120 fits\n",
      "{'logreg__max_iter': 7000, 'logreg__penalty': 'l1', 'logreg__solver': 'liblinear', 'tv__max_df': 0.85, 'tv__max_features': 4000, 'tv__min_df': 2, 'tv__ngram_range': (1, 1)}\n",
      "0.8983116215289682\n",
      "0.8727342846124181\n",
      "Wall time: 48.8 s\n"
     ]
    }
   ],
   "source": [
    "%%time\n",
    "pipe_tv = Pipeline([\n",
    "    ('tv', TfidfVectorizer(stop_words='english')),\n",
    "    ('logreg', LogisticRegression())\n",
    "]\n",
    ")\n",
    "params_tv = {\n",
    "    'tv__max_features':[2000, 4000, 5000],\n",
    "    'tv__min_df'      : [2, 3],\n",
    "    'tv__max_df'      : [.80, .85],\n",
    "    'tv__ngram_range' : [(1,1)],\n",
    "    'logreg__solver'  : ['liblinear'], \n",
    "    'logreg__penalty' : ['l1'],\n",
    "    'logreg__max_iter': [5_000, 7000]\n",
    "}\n",
    "\n",
    "gs_tv = GridSearchCV(pipe_tv, params_tv, cv=5, verbose=1, n_jobs = -1)\n",
    "gs_tv.fit(X_train, y_train)\n",
    "print(gs_tv.best_params_)\n",
    "print(gs_tv.score(X_train, y_train))\n",
    "print(gs_tv.score(X_test, y_test))"
   ]
  },
  {
   "cell_type": "code",
   "execution_count": 32,
   "id": "a303f3d2-9b1e-49e6-86d8-1215312c593c",
   "metadata": {},
   "outputs": [
    {
     "name": "stdout",
     "output_type": "stream",
     "text": [
      "Accuracy Score: 0.8727342846124181\n"
     ]
    }
   ],
   "source": [
    "tv_preds = gs_tv.best_estimator_.predict(X_test)\n",
    "print(f'Accuracy Score: {accuracy_score(y_test, tv_preds)}')"
   ]
  },
  {
   "cell_type": "markdown",
   "id": "691ab915-a008-4c88-975e-5e1a900d20c1",
   "metadata": {},
   "source": [
    "#### **CountVectorizer & Logisitic Regression Confusion Matrix**"
   ]
  },
  {
   "cell_type": "code",
   "execution_count": 40,
   "id": "149dc055-e650-4ea8-9294-261e943013be",
   "metadata": {},
   "outputs": [],
   "source": [
    "cm_cv = confusion_matrix(y_test, cv_preds)\n",
    "tn, fp, fn, tp = cm_cv.ravel()"
   ]
  },
  {
   "cell_type": "code",
   "execution_count": 41,
   "id": "5955f6e5-3ff8-4dbe-a0dc-8971627f2373",
   "metadata": {},
   "outputs": [
    {
     "data": {
      "image/png": "[encoded data removed]",
      "text/plain": [
       "<Figure size 432x288 with 2 Axes>"
      ]
     },
     "metadata": {
      "needs_background": "light"
     },
     "output_type": "display_data"
    }
   ],
   "source": [
    "# Plot confusion matrix\n",
    "ConfusionMatrixDisplay(cm_cv).plot();"
   ]
  },
  {
   "cell_type": "markdown",
   "id": "64924f68-65a9-47a3-ad65-977a064c48cb",
   "metadata": {},
   "source": [
    "#### **TV-IDF Vectorizer & Logistic Regression Confusion Matrix**"
   ]
  },
  {
   "cell_type": "code",
   "execution_count": 44,
   "id": "1bec14db-77b4-429e-bce4-b1f96d953f15",
   "metadata": {},
   "outputs": [
    {
     "data": {
      "image/png": "[encoded data removed]",
      "text/plain": [
       "<Figure size 432x288 with 2 Axes>"
      ]
     },
     "metadata": {
      "needs_background": "light"
     },
     "output_type": "display_data"
    }
   ],
   "source": [
    "cm_tv = confusion_matrix(y_test, tv_preds)\n",
    "tn, fp, fn, tp = cm_tv.ravel()\n",
    "# Plot confusion matrix\n",
    "ConfusionMatrixDisplay(cm_tv).plot();"
   ]
  },
  {
   "cell_type": "code",
   "execution_count": null,
   "id": "5bb8ff55-4c13-45e9-b35d-b40685336925",
   "metadata": {},
   "outputs": [],
   "source": []
  }
 ],
 "metadata": {
  "kernelspec": {
   "display_name": "Python 3",
   "language": "python",
   "name": "python3"
  },
  "language_info": {
   "codemirror_mode": {
    "name": "ipython",
    "version": 3
   },
   "file_extension": ".py",
   "mimetype": "text/x-python",
   "name": "python",
   "nbconvert_exporter": "python",
   "pygments_lexer": "ipython3",
   "version": "3.8.8"
  }
 },
 "nbformat": 4,
 "nbformat_minor": 5
}
