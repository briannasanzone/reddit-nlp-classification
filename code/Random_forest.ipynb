{
 "cells": [
  {
   "cell_type": "markdown",
   "id": "b60a8ebf-8250-41fa-bc61-64000bec0b45",
   "metadata": {},
   "source": [
    "#### **Imports**"
   ]
  },
  {
   "cell_type": "code",
   "execution_count": 1,
   "id": "545f88fa-2865-4dd8-afcc-707a1642c2c4",
   "metadata": {},
   "outputs": [],
   "source": [
    "import pandas as pd\n",
    "import numpy as np\n",
    "import requests\n",
    "import time\n",
    "import nltk\n",
    "import regex as re\n",
    "from collections import Counter\n",
    "import matplotlib.pyplot as plt\n",
    "import seaborn as sns\n",
    "\n",
    "from sklearn.model_selection import train_test_split, GridSearchCV, cross_val_score, RandomizedSearchCV\n",
    "from nltk.corpus import stopwords\n",
    "from sklearn.preprocessing import StandardScaler\n",
    "from sklearn.linear_model import LogisticRegression\n",
    "from sklearn.metrics import confusion_matrix, ConfusionMatrixDisplay, accuracy_score\n",
    "from sklearn.feature_extraction.text import CountVectorizer, TfidfVectorizer\n",
    "from sklearn.pipeline import Pipeline\n",
    "from sklearn.naive_bayes import MultinomialNB, BernoulliNB\n",
    "from sklearn.tree import DecisionTreeClassifier, plot_tree, export_text\n",
    "from sklearn.ensemble import GradientBoostingClassifier, AdaBoostClassifier, RandomForestClassifier, BaggingClassifier\n",
    "from xgboost import XGBClassifier\n",
    "import warnings \n",
    "warnings.filterwarnings(\"ignore\")"
   ]
  },
  {
   "cell_type": "markdown",
   "id": "363184cd-442b-43ea-a5cf-05b32250a48c",
   "metadata": {},
   "source": [
    "#### **Read in .csv file and remove first column**"
   ]
  },
  {
   "cell_type": "code",
   "execution_count": 2,
   "id": "3c31cd46-582c-4ec7-ab44-2bd5680647e2",
   "metadata": {},
   "outputs": [
    {
     "data": {
      "text/html": [
       "<div>\n",
       "<style scoped>\n",
       "    .dataframe tbody tr th:only-of-type {\n",
       "        vertical-align: middle;\n",
       "    }\n",
       "\n",
       "    .dataframe tbody tr th {\n",
       "        vertical-align: top;\n",
       "    }\n",
       "\n",
       "    .dataframe thead th {\n",
       "        text-align: right;\n",
       "    }\n",
       "</style>\n",
       "<table border=\"1\" class=\"dataframe\">\n",
       "  <thead>\n",
       "    <tr style=\"text-align: right;\">\n",
       "      <th></th>\n",
       "      <th>author</th>\n",
       "      <th>body</th>\n",
       "      <th>score</th>\n",
       "      <th>created_utc</th>\n",
       "      <th>subreddit</th>\n",
       "    </tr>\n",
       "  </thead>\n",
       "  <tbody>\n",
       "    <tr>\n",
       "      <th>0</th>\n",
       "      <td>RobusEtCeleritas</td>\n",
       "      <td>None of that means anything  You clearly have ...</td>\n",
       "      <td>3</td>\n",
       "      <td>1627142891</td>\n",
       "      <td>1</td>\n",
       "    </tr>\n",
       "    <tr>\n",
       "      <th>1</th>\n",
       "      <td>hydroxypcp</td>\n",
       "      <td>The legal limit varies among countries  It s c...</td>\n",
       "      <td>0</td>\n",
       "      <td>1627140964</td>\n",
       "      <td>1</td>\n",
       "    </tr>\n",
       "    <tr>\n",
       "      <th>2</th>\n",
       "      <td>AnthillOmbudsman</td>\n",
       "      <td>But magma chambers aren t hollow caverns   I m...</td>\n",
       "      <td>1</td>\n",
       "      <td>1627140360</td>\n",
       "      <td>1</td>\n",
       "    </tr>\n",
       "    <tr>\n",
       "      <th>3</th>\n",
       "      <td>AWormDude</td>\n",
       "      <td>According to this study  https   www research...</td>\n",
       "      <td>5</td>\n",
       "      <td>1627139388</td>\n",
       "      <td>1</td>\n",
       "    </tr>\n",
       "    <tr>\n",
       "      <th>4</th>\n",
       "      <td>Trypanosoma_</td>\n",
       "      <td>Look up TH   cellular response  vs TH   humora...</td>\n",
       "      <td>-4</td>\n",
       "      <td>1627136260</td>\n",
       "      <td>1</td>\n",
       "    </tr>\n",
       "  </tbody>\n",
       "</table>\n",
       "</div>"
      ],
      "text/plain": [
       "             author                                               body  score  \\\n",
       "0  RobusEtCeleritas  None of that means anything  You clearly have ...      3   \n",
       "1        hydroxypcp  The legal limit varies among countries  It s c...      0   \n",
       "2  AnthillOmbudsman  But magma chambers aren t hollow caverns   I m...      1   \n",
       "3         AWormDude   According to this study  https   www research...      5   \n",
       "4      Trypanosoma_  Look up TH   cellular response  vs TH   humora...     -4   \n",
       "\n",
       "   created_utc  subreddit  \n",
       "0   1627142891          1  \n",
       "1   1627140964          1  \n",
       "2   1627140360          1  \n",
       "3   1627139388          1  \n",
       "4   1627136260          1  "
      ]
     },
     "execution_count": 2,
     "metadata": {},
     "output_type": "execute_result"
    }
   ],
   "source": [
    "# read in dataframe saved as .csv file\n",
    "df = pd.read_csv('comments.csv')\n",
    "# drop first column\n",
    "df.drop(columns='Unnamed: 0', inplace=True)\n",
    "df.head()"
   ]
  },
  {
   "cell_type": "code",
   "execution_count": null,
   "id": "72efcfc4-9b8c-4ca3-8d78-ab8c5fab9509",
   "metadata": {},
   "outputs": [],
   "source": [
    "all_stop_words = stopwords.words('english')\n",
    "new_words=('https', 'com', 'www', 'really', 'would', 'gt', 'like', 'also', 'get', 'even', 'much', 'could', 'see', 'really', 'know')\n",
    "for i in new_words:\n",
    "    all_stop_words.append(i)"
   ]
  },
  {
   "cell_type": "markdown",
   "id": "9bacbcb5-0213-4352-9727-a117f3fb3ac1",
   "metadata": {},
   "source": [
    "#### **X, y, train_test_split**"
   ]
  },
  {
   "cell_type": "code",
   "execution_count": 3,
   "id": "966a31ef-822a-4ed4-8919-0e00a223bd4e",
   "metadata": {},
   "outputs": [],
   "source": [
    "X = df[['body']]\n",
    "y = df['subreddit']\n",
    "\n",
    "X = [word.lower().split() for word in df['body']]\n",
    "stops = set(stopwords.words('english'))\n",
    "posts_list = []\n",
    "for post in X:\n",
    "    meaningful_words = [word for word in post if word not in all_stop_words]\n",
    "    meaningful_post = \" \".join(meaningful_words)\n",
    "    posts_list.append(meaningful_post)\n",
    "    \n",
    "modeltext = pd.Series(posts_list)\n",
    "df['body'] = modeltext\n",
    "X = df['body']\n",
    "y = df['subreddit']\n",
    "X_train, X_test, y_train, y_test = train_test_split(X,\n",
    "                                   y,\n",
    "                                   train_size=0.75,\n",
    "                                   stratify=y,\n",
    "                                   random_state=42)"
   ]
  },
  {
   "cell_type": "markdown",
   "id": "d8dd0049-7a22-497c-aae1-c38c77bf9cf6",
   "metadata": {},
   "source": [
    "### **Baseline Accuracy**"
   ]
  },
  {
   "cell_type": "code",
   "execution_count": 4,
   "id": "9d0187db-1f08-4ba6-85ec-d2f7a4da4501",
   "metadata": {},
   "outputs": [
    {
     "data": {
      "text/plain": [
       "0    0.699791\n",
       "1    0.300209\n",
       "Name: subreddit, dtype: float64"
      ]
     },
     "execution_count": 4,
     "metadata": {},
     "output_type": "execute_result"
    }
   ],
   "source": [
    "y.value_counts(normalize=True)"
   ]
  },
  {
   "cell_type": "markdown",
   "id": "43192c64-fcfe-48cd-986b-b5ad5509541c",
   "metadata": {},
   "source": [
    "#### **Random Forest & GridSearch**"
   ]
  },
  {
   "cell_type": "code",
   "execution_count": 8,
   "id": "4d187f24-49ff-43f8-bce2-8d2a6c5fe1b0",
   "metadata": {},
   "outputs": [
    {
     "name": "stdout",
     "output_type": "stream",
     "text": [
      "Fitting 5 folds for each of 2 candidates, totalling 10 fits\n",
      "{'rf__max_depth': 500, 'rf__n_estimators': 1000}\n",
      "0.981102159753171\n",
      "0.8561511762437332\n",
      "Wall time: 33min 48s\n"
     ]
    }
   ],
   "source": [
    "%%time\n",
    "rf_pipe = Pipeline([\n",
    "    ('cv', CountVectorizer(min_df=3, max_df=.85, max_features=10000)),\n",
    "    ('rf', RandomForestClassifier())\n",
    "]\n",
    ")\n",
    "\n",
    "rf_params = {\n",
    "#     'rf__bootstrap'       : [True, False],\n",
    "    'rf__n_estimators' : [1000, 2000],\n",
    "    'rf__max_depth'  : [500]\n",
    "}\n",
    "\n",
    "rf_gs = GridSearchCV(rf_pipe, rf_params, cv=5, verbose=1, n_jobs = -1)\n",
    "rf_gs.fit(X_train, y_train)\n",
    "print(rf_gs.best_params_)\n",
    "print(rf_gs.score(X_train, y_train))\n",
    "print(rf_gs.score(X_test, y_test))"
   ]
  },
  {
   "cell_type": "markdown",
   "id": "5caff8d5-7471-49d7-b2a2-a4894b36efc1",
   "metadata": {},
   "source": [
    "##### **Accuracy Score**"
   ]
  },
  {
   "cell_type": "code",
   "execution_count": 11,
   "id": "2ca273a8-576a-43e5-9d30-da36f14ad30d",
   "metadata": {},
   "outputs": [
    {
     "name": "stdout",
     "output_type": "stream",
     "text": [
      "Accuracy Score: 0.8561511762437332\n"
     ]
    }
   ],
   "source": [
    "predictions_rf = rf_gs.predict(X_test)\n",
    "print(f'Accuracy Score: {accuracy_score(y_test, predictions_rf)}')"
   ]
  },
  {
   "cell_type": "markdown",
   "id": "6f52664f-5801-4e0f-a394-756c8d8975ed",
   "metadata": {},
   "source": [
    "#### **Random Forest and RandomizedSearch**"
   ]
  },
  {
   "cell_type": "code",
   "execution_count": 9,
   "id": "f2807a4f-242e-42e6-9d20-84272680cf7e",
   "metadata": {},
   "outputs": [
    {
     "name": "stdout",
     "output_type": "stream",
     "text": [
      "Fitting 5 folds for each of 6 candidates, totalling 30 fits\n",
      "{'rfc__n_estimators': 500, 'rfc__max_depth': 300}\n",
      "0.956504970860473\n",
      "0.8530659467797918\n",
      "Wall time: 15min 13s\n"
     ]
    }
   ],
   "source": [
    "%%time\n",
    "pipe_rfc = Pipeline([\n",
    "    ('cv', CountVectorizer(stop_words='english', max_features=10_000)),\n",
    "    ('rfc', RandomForestClassifier())\n",
    "]\n",
    ")\n",
    "\n",
    "params_rfc = {\n",
    "#     'cv__max_features':[5_000],\n",
    "#     'cv__min_df'      : [2, 5],\n",
    "#     'cv__max_df'      : [.85, .90],\n",
    "#     'cv__ngram_range' : [(1,1), (1,2)],\n",
    "#     'rfc__bootstrap'       : [True, False],\n",
    "    'rfc__n_estimators' : [500, 600],\n",
    "    'rfc__max_depth'  : [100, 200, 300]\n",
    "}\n",
    "\n",
    "rs_rfc = RandomizedSearchCV(pipe_rfc, params_rfc, cv=5, verbose=1, n_jobs = -1)\n",
    "rs_rfc.fit(X_train, y_train)\n",
    "print(rs_rfc.best_params_)\n",
    "print(rs_rfc.score(X_train, y_train))\n",
    "print(rs_rfc.score(X_test, y_test))"
   ]
  },
  {
   "cell_type": "markdown",
   "id": "5e21d606-02e4-48e4-8046-7391bb96d6f3",
   "metadata": {},
   "source": [
    "##### **Accuracy Score**"
   ]
  },
  {
   "cell_type": "code",
   "execution_count": 10,
   "id": "89049ec3-2f73-45ab-8dfd-e7f7063890e5",
   "metadata": {},
   "outputs": [
    {
     "name": "stdout",
     "output_type": "stream",
     "text": [
      "Accuracy Score: 0.8530659467797918\n"
     ]
    }
   ],
   "source": [
    "predictions_rfc = rs_rfc.predict(X_test)\n",
    "print(f'Accuracy Score: {accuracy_score(y_test, predictions_rfc)}')"
   ]
  },
  {
   "cell_type": "markdown",
   "id": "466f7005-247f-4a0a-b524-a8a7d62da740",
   "metadata": {},
   "source": [
    "#### **Confusion Matrix: Random Forest & RandomizedSearchCV**"
   ]
  },
  {
   "cell_type": "code",
   "execution_count": 14,
   "id": "0ede9059-ecad-4ff1-91f1-fb86f26acc89",
   "metadata": {},
   "outputs": [
    {
     "name": "stdout",
     "output_type": "stream",
     "text": [
      "Specificity: 0.9581190301249082\n"
     ]
    },
    {
     "data": {
      "image/png": "[encoded data removed]",
      "text/plain": [
       "<Figure size 432x288 with 2 Axes>"
      ]
     },
     "metadata": {
      "needs_background": "light"
     },
     "output_type": "display_data"
    }
   ],
   "source": [
    "cm = confusion_matrix(y_test, predictions_rfc)\n",
    "tn, fp, fn, tp = cm.ravel()\n",
    "\n",
    "# Calculate specificity\n",
    "spec = tn / (tn + fp)\n",
    "\n",
    "print('Specificity:', spec)\n",
    "ConfusionMatrixDisplay(cm).plot();"
   ]
  }
 ],
 "metadata": {
  "kernelspec": {
   "display_name": "Python 3",
   "language": "python",
   "name": "python3"
  },
  "language_info": {
   "codemirror_mode": {
    "name": "ipython",
    "version": 3
   },
   "file_extension": ".py",
   "mimetype": "text/x-python",
   "name": "python",
   "nbconvert_exporter": "python",
   "pygments_lexer": "ipython3",
   "version": "3.8.8"
  }
 },
 "nbformat": 4,
 "nbformat_minor": 5
}
